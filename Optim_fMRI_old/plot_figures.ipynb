{
 "cells": [
  {
   "cell_type": "code",
   "execution_count": 1,
   "metadata": {},
   "outputs": [],
   "source": [
    "import nibabel as nib\n",
    "import numpy as np\n",
    "import matplotlib.pylab as plt\n",
    "import cvxpy as cp\n",
    "import pandas as pd\n",
    "from os.path import join\n",
    "from scipy.spatial.distance import cdist\n",
    "from scipy.sparse import csgraph\n",
    "from scipy.stats import skew, kurtosis\n",
    "from itertools import product\n",
    "from sklearn.model_selection import KFold\n",
    "from matplotlib.animation import FuncAnimation\n",
    "from nilearn import masking\n",
    "from nilearn.image import new_img_like\n",
    "from nilearn.plotting import plot_stat_map, view_img\n",
    "import os, sys\n",
    "from config import Config\n",
    "from pathlib import Path\n",
    "from nilearn.image import mean_img\n",
    "from nilearn.image import resample_to_img"
   ]
  },
  {
   "cell_type": "code",
   "execution_count": 2,
   "metadata": {},
   "outputs": [],
   "source": [
    "run = 1\n",
    "ses = 1\n",
    "sub = '04'\n",
    "\n",
    "anat_img = nib.load(f'/mnt/TeamShare/Data_Masterfile/H20-00572_All-Dressed/PRECISIONSTIM_PD_Data_Results/fMRI_preprocessed_data/Rev_pipeline/derivatives/sub-pd0{sub}/ses-{ses}/anat/sub-pd0{sub}_ses-{ses}_T1w_brain_2mm.nii.gz')\n",
    "base_path = '/mnt/TeamShare/Data_Masterfile/H20-00572_All-Dressed/PRECISIONSTIM_PD_Data_Results/fMRI_preprocessed_data/Rev_pipeline/derivatives'\n",
    "data_name = f'sub-pd0{sub}_ses-{ses}_run-{run}_task-mv_bold_corrected_smoothed_reg_2mm.nii.gz'\n",
    "BOLD_path_org = join(base_path, f'sub-pd0{sub}', f'ses-{ses}', 'func', data_name)\n",
    "bold_img = nib.load(BOLD_path_org)\n",
    "bold_data = bold_img.get_fdata()"
   ]
  },
  {
   "cell_type": "markdown",
   "metadata": {},
   "source": [
    "Overlay Functional Image on Structural Image"
   ]
  },
  {
   "cell_type": "code",
   "execution_count": 3,
   "metadata": {},
   "outputs": [
    {
     "name": "stderr",
     "output_type": "stream",
     "text": [
      "/tmp/ipykernel_188082/1874063150.py:6: FutureWarning: From release 0.13.0 onwards, this function will, by default, copy the header of the input image to the output. Currently, the header is reset to the default Nifti1Header. To suppress this warning and use the new behavior, set `copy_header=True`.\n",
      "  view = view_img(mean_img(bold_img), bg_img=anat_img, title='BOLD Image on Anatomic Brain')  # shows sliders to move cuts\n",
      "/home/zkavian/thesis_code_git/.venv/lib/python3.12/site-packages/numpy/_core/fromnumeric.py:868: UserWarning: Warning: 'partition' will ignore the 'mask' of the MaskedArray.\n",
      "  a.partition(kth, axis=axis, kind=kind, order=order)\n"
     ]
    }
   ],
   "source": [
    "anat_img = nib.as_closest_canonical(anat_img)\n",
    "func_img = nib.as_closest_canonical(bold_img)\n",
    "ornt_anat = nib.orientations.io_orientation(anat_img.affine)\n",
    "ornt_func = nib.orientations.io_orientation(func_img.affine)\n",
    "xform = nib.orientations.ornt_transform(ornt_func, ornt_anat)\n",
    "view = view_img(mean_img(bold_img), bg_img=anat_img, title='BOLD Image on Anatomic Brain')  # shows sliders to move cuts\n",
    "view.save_as_html(f\"BOLD_data_on_Anat_sub{sub}_ses{ses}_run{run}.html\")"
   ]
  },
  {
   "cell_type": "code",
   "execution_count": 4,
   "metadata": {},
   "outputs": [],
   "source": [
    "def remove_background(mask, anat_file, bold_data):\n",
    "    mask_in_run1_img = resample_to_img(\n",
    "    source_img=mask,\n",
    "    target_img=anat_file,\n",
    "    interpolation='nearest'\n",
    ")\n",
    "    anat_data = anat_file.get_fdata()\n",
    "    valid_run1 = np.isfinite(anat_data) & (anat_data != 0)\n",
    "    mask_in_run1 = mask_in_run1_img.get_fdata().astype(bool)\n",
    "    combined_mask = mask_in_run1 & valid_run1\n",
    "    mask_4d = combined_mask[..., np.newaxis]\n",
    "\n",
    "    bold_data_masked = bold_data * mask_4d\n",
    "    active_voxels = np.any(bold_data_masked != 0, axis=-1)  \n",
    "    final_mask = active_voxels & combined_mask\n",
    "    masked_timeseries_3d = np.where(final_mask[..., None], bold_data, 0)\n",
    "\n",
    "    active_voxels = np.any(masked_timeseries_3d != 0, axis=-1)\n",
    "    coords = np.array(np.where(active_voxels)).T\n",
    "    xmin, ymin, zmin = coords.min(axis=0)\n",
    "    xmax, ymax, zmax = coords.max(axis=0)\n",
    "    print(xmax, ymax, zmax)\n",
    "    # crop to bounding box\n",
    "    masked_timeseries_3d_cropped = masked_timeseries_3d[xmin:xmax+1, ymin:ymax+1, zmin:zmax+1, :]\n",
    "    return masked_timeseries_3d_cropped, xmin, ymin, zmin"
   ]
  },
  {
   "cell_type": "code",
   "execution_count": 5,
   "metadata": {},
   "outputs": [
    {
     "name": "stderr",
     "output_type": "stream",
     "text": [
      "/tmp/ipykernel_188082/3880433289.py:2: FutureWarning: 'force_resample' will be set to 'True' by default in Nilearn 0.13.0.\n",
      "Use 'force_resample=True' to suppress this warning.\n",
      "  mask_in_run1_img = resample_to_img(\n",
      "/tmp/ipykernel_188082/3880433289.py:2: FutureWarning: From release 0.13.0 onwards, this function will, by default, copy the header of the input image to the output. Currently, the header is reset to the default Nifti1Header. To suppress this warning and use the new behavior, set `copy_header=True`.\n",
      "  mask_in_run1_img = resample_to_img(\n"
     ]
    },
    {
     "name": "stdout",
     "output_type": "stream",
     "text": [
      "78 104 73\n",
      "(69, 92, 73, 850)\n",
      "(69, 92, 73, 850)\n"
     ]
    },
    {
     "name": "stderr",
     "output_type": "stream",
     "text": [
      "/tmp/ipykernel_188082/478411367.py:11: FutureWarning: From release 0.13.0 onwards, this function will, by default, copy the header of the input image to the output. Currently, the header is reset to the default Nifti1Header. To suppress this warning and use the new behavior, set `copy_header=True`.\n",
      "  view = view_img(mean_img(bold_data_masked_img), bg_img=anat_img, title='BOLD Image on Anatomic Brain', cut_coords=(0,0,0))  # shows sliders to move cuts\n",
      "/home/zkavian/thesis_code_git/.venv/lib/python3.12/site-packages/numpy/_core/fromnumeric.py:868: UserWarning: Warning: 'partition' will ignore the 'mask' of the MaskedArray.\n",
      "  a.partition(kth, axis=axis, kind=kind, order=order)\n"
     ]
    }
   ],
   "source": [
    "mask = nib.load(f'/mnt/TeamShare/Data_Masterfile/H20-00572_All-Dressed/PRECISIONSTIM_PD_Data_Results/fMRI_preprocessed_data/Rev_pipeline/derivatives/sub-pd0{sub}/ses-1/anat/sub-pd004_ses-1_T1w_brain_mask.nii.gz')\n",
    "\n",
    "bold_data_masked, xmin, ymin, zmin = remove_background(mask, anat_img, bold_data)\n",
    "print(bold_data_masked.shape)\n",
    "\n",
    "A = bold_img.affine.copy()\n",
    "A[:3, 3] = A[:3, 3] + A[:3, :3] @ np.array([xmin, ymin, zmin], dtype=float)\n",
    "bold_data_masked_img = nib.Nifti1Image(bold_data_masked, A, bold_img.header)\n",
    "print(bold_data_masked_img.shape)\n",
    "\n",
    "view = view_img(mean_img(bold_data_masked_img), bg_img=anat_img, title='BOLD Image on Anatomic Brain', cut_coords=(0,0,0))  # shows sliders to move cuts\n",
    "view.save_as_html(f\"Masked_BOLD_data_on_Anat_sub{sub}_ses{ses}_run{run}.html\")"
   ]
  },
  {
   "cell_type": "markdown",
   "metadata": {},
   "source": [
    "Remove Background Voexls, create design matrix, and run GLMsingle"
   ]
  },
  {
   "cell_type": "markdown",
   "metadata": {},
   "source": [
    "Load GLMsingle Results"
   ]
  },
  {
   "cell_type": "code",
   "execution_count": 6,
   "metadata": {},
   "outputs": [
    {
     "name": "stdout",
     "output_type": "stream",
     "text": [
      "Keys: ['HRFindex', 'HRFindexrun', 'glmbadness', 'pcvoxels', 'pcnum', 'xvaltrend', 'noisepool', 'pcregressors', 'betasmd', 'R2', 'R2run', 'rrbadness', 'FRACvalue', 'scaleoffset', 'meanvol']\n",
      "betasmd shape: (69, 92, 73, 180) \n",
      "\n",
      "Detected Noise Voxels: 29.452 %\n"
     ]
    },
    {
     "name": "stderr",
     "output_type": "stream",
     "text": [
      "/home/zkavian/thesis_code_git/.venv/lib/python3.12/site-packages/numpy/_core/fromnumeric.py:868: UserWarning: Warning: 'partition' will ignore the 'mask' of the MaskedArray.\n",
      "  a.partition(kth, axis=axis, kind=kind, order=order)\n",
      "/tmp/ipykernel_186987/3495859221.py:21: UserWarning: Resampling binary images with continuous or linear interpolation. This might lead to unexpected results. You might consider using nearest interpolation instead.\n",
      "  view = view_img(noisepool_img, bg_img=anat_img, threshold=0.5, title='Noisepool voxels')\n"
     ]
    },
    {
     "name": "stdout",
     "output_type": "stream",
     "text": [
      "\n",
      "Fractional Regularization Level:\n",
      "  All voxels unique: [0.05, 0.1 , 0.15, 0.2 , 0.25, 0.3 , 0.35, 0.4 , 0.45, 0.5 , 0.55, 0.6 ,\n",
      " 0.65, 0.7 , 0.75, 1.  ]\n",
      "  Noisepool voxels unique: [0.05, 0.1 , 0.15, 0.2 ]\n",
      "\n",
      "Beta Value:\n",
      "  Run1: max 12023.069, min -2978.961, mean 0.009\n",
      "  Run2: max 2439.105, min -4227.346, mean 0.026\n",
      "\n",
      "R2 Value:\n",
      "  Run1: max 37.737, min -6.138, mean 4.646\n",
      "  Run2: max 61.058, min -21.858, mean 5.038\n",
      "\n",
      "Non-NaN (active) voxels: Run1 45.410 %, Run2 45.410 %\n"
     ]
    }
   ],
   "source": [
    "fmt = lambda x: f\"{x:.3f}\"\n",
    "fmt_arr = lambda a: np.array2string(np.asarray(a), precision=3, separator=', ', suppress_small=True)\n",
    "\n",
    "# ---------- Load GLM dict ----------\n",
    "glm_dict = np.load('/home/zkavian/thesis_code_git/GLMOutputs-sub04-ses1/TYPED_FITHRF_GLMDENOISE_RR.npy', allow_pickle=True).item()\n",
    "\n",
    "print(\"Keys:\", list(glm_dict.keys()))\n",
    "print(\"betasmd shape:\", glm_dict['betasmd'].shape, \"\\n\")\n",
    "\n",
    "# ---------- Noisepool percentage ----------\n",
    "noisepool = glm_dict['noisepool'].astype(np.uint8)  \n",
    "coord = np.where(noisepool)\n",
    "num_voxels = noisepool.size\n",
    "pct_noise = len(coord[0]) / num_voxels * 100\n",
    "print(f\"Detected Noise Voxels: {fmt(pct_noise)} %\")\n",
    "\n",
    "# ---------- Plot noisepool on anatomy ----------\n",
    "# noisepool_img_func = new_img_like(bold_img, noisepool) \n",
    "# noisepool_on_anat = resample_to_img(noisepool_img_func, anat_img, interpolation='nearest')\n",
    "noisepool_img = nib.Nifti1Image(noisepool, A, bold_img.header)\n",
    "view = view_img(noisepool_img, bg_img=anat_img, threshold=0.5, title='Noisepool voxels')\n",
    "view.save_as_html(file_name=f\"Noisepool_Mask_on_the_brain_sub{sub}_ses{ses}_run{run}.html\")\n",
    "\n",
    "print() \n",
    "\n",
    "# ---------- FRAC value summaries (no MaskedArray warning) ----------\n",
    "def unique_safely(x):\n",
    "    if np.ma.isMaskedArray(x):\n",
    "        return np.unique(x.compressed())\n",
    "    return np.unique(x)\n",
    "\n",
    "FRAC = glm_dict['FRACvalue']\n",
    "all_vals = unique_safely(FRAC)\n",
    "noisepool_vals = unique_safely(FRAC[coord])\n",
    "\n",
    "print(\"Fractional Regularization Level:\")\n",
    "print(\"  All voxels unique:\", fmt_arr(all_vals))\n",
    "print(\"  Noisepool voxels unique:\", fmt_arr(noisepool_vals))\n",
    "print()\n",
    "\n",
    "# ---------- Per-run summaries ----------\n",
    "beta = glm_dict['betasmd']\n",
    "beta_run1, beta_run2 = beta[..., :90], beta[..., 90:]\n",
    "R2_run1, R2_run2 = glm_dict['R2run'][:,:,:,0], glm_dict['R2run'][:,:,:,1]\n",
    "\n",
    "def stats_str(x):\n",
    "    return f\"max {fmt(np.nanmax(x))}, min {fmt(np.nanmin(x))}, mean {fmt(np.nanmean(x))}\"\n",
    "\n",
    "print(\"Beta Value:\")\n",
    "print(\"  Run1:\", stats_str(beta_run1))\n",
    "print(\"  Run2:\", stats_str(beta_run2))\n",
    "print()\n",
    "print(\"R2 Value:\")\n",
    "print(\"  Run1:\", stats_str(R2_run1))\n",
    "print(\"  Run2:\", stats_str(R2_run2))\n",
    "print()\n",
    "\n",
    "# ---------- % non-NaN (active) voxels ----------\n",
    "n_total = beta_run1.size\n",
    "pct_active_run1 = np.count_nonzero(~np.isnan(beta_run1)) / n_total * 100\n",
    "pct_active_run2 = np.count_nonzero(~np.isnan(beta_run2)) / n_total * 100\n",
    "print(f\"Non-NaN (active) voxels: Run1 {fmt(pct_active_run1)} %, Run2 {fmt(pct_active_run2)} %\")\n",
    "\n",
    "# plot beta values on the brain"
   ]
  },
  {
   "cell_type": "code",
   "execution_count": 7,
   "metadata": {},
   "outputs": [
    {
     "data": {
      "text/plain": [
       "(69, 92, 73, 90)"
      ]
     },
     "execution_count": 7,
     "metadata": {},
     "output_type": "execute_result"
    }
   ],
   "source": [
    "beta_run1.shape"
   ]
  },
  {
   "cell_type": "code",
   "execution_count": 8,
   "metadata": {},
   "outputs": [
    {
     "name": "stderr",
     "output_type": "stream",
     "text": [
      "/tmp/ipykernel_186987/3666500369.py:1: RuntimeWarning: Mean of empty slice\n",
      "  beta_mean_run1 = np.nanmean(beta_run1, axis=-1)\n",
      "/tmp/ipykernel_186987/3666500369.py:2: RuntimeWarning: Mean of empty slice\n",
      "  beta_mean_run2 = np.nanmean(beta_run2, axis=-1)\n",
      "/tmp/ipykernel_186987/3666500369.py:11: UserWarning: Non-finite values detected. These values will be replaced with zeros.\n",
      "  view = view_img(\n",
      "/tmp/ipykernel_186987/3666500369.py:11: UserWarning: you have specified symmetric_cmap=False but the map contains negative values; setting symmetric_cmap to True\n",
      "  view = view_img(\n",
      "/tmp/ipykernel_186987/3666500369.py:11: UserWarning: vmin cannot be chosen when cmap is symmetric\n",
      "  view = view_img(\n",
      "/home/zkavian/thesis_code_git/.venv/lib/python3.12/site-packages/numpy/_core/fromnumeric.py:868: UserWarning: Warning: 'partition' will ignore the 'mask' of the MaskedArray.\n",
      "  a.partition(kth, axis=axis, kind=kind, order=order)\n"
     ]
    },
    {
     "name": "stdout",
     "output_type": "stream",
     "text": [
      "Saved: Beta_all_voxels_sub04_ses1_run1.html\n"
     ]
    },
    {
     "name": "stderr",
     "output_type": "stream",
     "text": [
      "/tmp/ipykernel_186987/3666500369.py:11: UserWarning: Non-finite values detected. These values will be replaced with zeros.\n",
      "  view = view_img(\n",
      "/tmp/ipykernel_186987/3666500369.py:11: UserWarning: you have specified symmetric_cmap=False but the map contains negative values; setting symmetric_cmap to True\n",
      "  view = view_img(\n",
      "/tmp/ipykernel_186987/3666500369.py:11: UserWarning: vmin cannot be chosen when cmap is symmetric\n",
      "  view = view_img(\n",
      "/home/zkavian/thesis_code_git/.venv/lib/python3.12/site-packages/numpy/_core/fromnumeric.py:868: UserWarning: Warning: 'partition' will ignore the 'mask' of the MaskedArray.\n",
      "  a.partition(kth, axis=axis, kind=kind, order=order)\n"
     ]
    },
    {
     "name": "stdout",
     "output_type": "stream",
     "text": [
      "Saved: Beta_all_voxels_sub04_ses1_run2.html\n"
     ]
    },
    {
     "name": "stderr",
     "output_type": "stream",
     "text": [
      "/home/zkavian/thesis_code_git/.venv/lib/python3.12/site-packages/numpy/_core/fromnumeric.py:868: UserWarning: Warning: 'partition' will ignore the 'mask' of the MaskedArray.\n",
      "  a.partition(kth, axis=axis, kind=kind, order=order)\n"
     ]
    },
    {
     "name": "stdout",
     "output_type": "stream",
     "text": [
      "Saved: Beta_abs__all_voxels_sub04_ses1_run1.html\n"
     ]
    },
    {
     "name": "stderr",
     "output_type": "stream",
     "text": [
      "/home/zkavian/thesis_code_git/.venv/lib/python3.12/site-packages/numpy/_core/fromnumeric.py:868: UserWarning: Warning: 'partition' will ignore the 'mask' of the MaskedArray.\n",
      "  a.partition(kth, axis=axis, kind=kind, order=order)\n"
     ]
    },
    {
     "name": "stdout",
     "output_type": "stream",
     "text": [
      "Saved: Beta_abs_all_voxels_sub04_ses1_run2.html\n"
     ]
    }
   ],
   "source": [
    "beta_mean_run1 = np.nanmean(beta_run1, axis=-1)\n",
    "beta_mean_run2 = np.nanmean(beta_run2, axis=-1)\n",
    "\n",
    "# Consistent color scaling across \n",
    "both_beta_vals = np.concatenate([np.ravel(beta_mean_run1), np.ravel(beta_mean_run2)])\n",
    "vmax_all = np.nanpercentile(np.abs(both_beta_vals), 99)  # robust maximum\n",
    "vmin_all = -vmax_all\n",
    "\n",
    "def save_beta_html(beta_3d, anat_img, A, title, fname):\n",
    "    beta_on_anat = nib.Nifti1Image(beta_3d, A, bold_img.header)\n",
    "    view = view_img(\n",
    "        beta_on_anat,\n",
    "        bg_img=anat_img,\n",
    "        threshold=None,                # show everything; NaNs will be transparent\n",
    "        symmetric_cmap=False,\n",
    "        cmap='jet',\n",
    "        vmin=vmin_all, vmax=vmax_all,\n",
    "        title=title,\n",
    "        colorbar=True,\n",
    "        cut_coords=(0,0,0)\n",
    "    )\n",
    "    view.save_as_html(file_name=fname)\n",
    "    print(f\"Saved: {fname}\")\n",
    "\n",
    "# (1) Per-run beta maps (all voxels)\n",
    "save_beta_html(beta_mean_run1, anat_img, A, f\"All Beta\", f\"Beta_all_voxels_sub{sub}_ses{ses}_run1.html\")\n",
    "save_beta_html(beta_mean_run2, anat_img, A, f\"All Beta\", f\"Beta_all_voxels_sub{sub}_ses{ses}_run2.html\")\n",
    "\n",
    "save_beta_html(np.abs(beta_mean_run1), anat_img, A, f\"All Abs Beta\", f\"Beta_abs__all_voxels_sub{sub}_ses{ses}_run1.html\")\n",
    "save_beta_html(np.abs(beta_mean_run2), anat_img, A, f\"All Abs Beta\", f\"Beta_abs_all_voxels_sub{sub}_ses{ses}_run2.html\")"
   ]
  },
  {
   "cell_type": "code",
   "execution_count": 9,
   "metadata": {},
   "outputs": [
    {
     "data": {
      "image/png": "[encoded data removed]",
      "text/plain": [
       "<Figure size 800x800 with 1 Axes>"
      ]
     },
     "metadata": {},
     "output_type": "display_data"
    },
    {
     "name": "stdout",
     "output_type": "stream",
     "text": [
      "Histogram Bins: [-6.13777208  3.86222792 13.86222792 23.86222792 33.86222792 43.86222792], Number of bins: 5\n"
     ]
    }
   ],
   "source": [
    "bin_width = 10\n",
    "X = R2_run1.ravel()\n",
    "bins = np.arange(np.nanmin(X), np.nanmax(X) + bin_width, bin_width)\n",
    "\n",
    "plt.figure(figsize=(8,8))\n",
    "n, bins, patches = plt.hist(X, bins=bins)\n",
    "plt.show()\n",
    "\n",
    "print(f\"Histogram Bins: {bins}, Number of bins: {int(len(patches))}\")"
   ]
  },
  {
   "cell_type": "code",
   "execution_count": 19,
   "metadata": {},
   "outputs": [
    {
     "name": "stdout",
     "output_type": "stream",
     "text": [
      "-7.857098579406738 13.206343650817871\n"
     ]
    },
    {
     "name": "stderr",
     "output_type": "stream",
     "text": [
      "/tmp/ipykernel_186987/1690697120.py:16: UserWarning: Non-finite values detected. These values will be replaced with zeros.\n",
      "  view = view_img(beta_on_anat, bg_img=anat_img, title=f'bin {i+1},  [{fmt(low)},{fmt(high)}]', colorbar=True,  cmap='seismic')\n",
      "/home/zkavian/thesis_code_git/.venv/lib/python3.12/site-packages/numpy/_core/fromnumeric.py:868: UserWarning: Warning: 'partition' will ignore the 'mask' of the MaskedArray.\n",
      "  a.partition(kth, axis=axis, kind=kind, order=order)\n"
     ]
    },
    {
     "name": "stdout",
     "output_type": "stream",
     "text": [
      "-42.066619873046875 118.27816772460938\n"
     ]
    },
    {
     "name": "stderr",
     "output_type": "stream",
     "text": [
      "/tmp/ipykernel_186987/1690697120.py:16: UserWarning: Non-finite values detected. These values will be replaced with zeros.\n",
      "  view = view_img(beta_on_anat, bg_img=anat_img, title=f'bin {i+1},  [{fmt(low)},{fmt(high)}]', colorbar=True,  cmap='seismic')\n",
      "/home/zkavian/thesis_code_git/.venv/lib/python3.12/site-packages/numpy/_core/fromnumeric.py:868: UserWarning: Warning: 'partition' will ignore the 'mask' of the MaskedArray.\n",
      "  a.partition(kth, axis=axis, kind=kind, order=order)\n"
     ]
    },
    {
     "name": "stdout",
     "output_type": "stream",
     "text": [
      "-18.964879989624023 58.21822738647461\n"
     ]
    },
    {
     "name": "stderr",
     "output_type": "stream",
     "text": [
      "/tmp/ipykernel_186987/1690697120.py:16: UserWarning: Non-finite values detected. These values will be replaced with zeros.\n",
      "  view = view_img(beta_on_anat, bg_img=anat_img, title=f'bin {i+1},  [{fmt(low)},{fmt(high)}]', colorbar=True,  cmap='seismic')\n",
      "/home/zkavian/thesis_code_git/.venv/lib/python3.12/site-packages/numpy/_core/fromnumeric.py:868: UserWarning: Warning: 'partition' will ignore the 'mask' of the MaskedArray.\n",
      "  a.partition(kth, axis=axis, kind=kind, order=order)\n"
     ]
    },
    {
     "name": "stdout",
     "output_type": "stream",
     "text": [
      "-5.946022033691406 11.683488845825195\n"
     ]
    },
    {
     "name": "stderr",
     "output_type": "stream",
     "text": [
      "/tmp/ipykernel_186987/1690697120.py:16: UserWarning: Non-finite values detected. These values will be replaced with zeros.\n",
      "  view = view_img(beta_on_anat, bg_img=anat_img, title=f'bin {i+1},  [{fmt(low)},{fmt(high)}]', colorbar=True,  cmap='seismic')\n",
      "/home/zkavian/thesis_code_git/.venv/lib/python3.12/site-packages/numpy/_core/fromnumeric.py:868: UserWarning: Warning: 'partition' will ignore the 'mask' of the MaskedArray.\n",
      "  a.partition(kth, axis=axis, kind=kind, order=order)\n"
     ]
    },
    {
     "name": "stdout",
     "output_type": "stream",
     "text": [
      "-3.1202824115753174 10.34862995147705\n"
     ]
    },
    {
     "name": "stderr",
     "output_type": "stream",
     "text": [
      "/tmp/ipykernel_186987/1690697120.py:16: UserWarning: Non-finite values detected. These values will be replaced with zeros.\n",
      "  view = view_img(beta_on_anat, bg_img=anat_img, title=f'bin {i+1},  [{fmt(low)},{fmt(high)}]', colorbar=True,  cmap='seismic')\n",
      "/home/zkavian/thesis_code_git/.venv/lib/python3.12/site-packages/numpy/_core/fromnumeric.py:868: UserWarning: Warning: 'partition' will ignore the 'mask' of the MaskedArray.\n",
      "  a.partition(kth, axis=axis, kind=kind, order=order)\n"
     ]
    }
   ],
   "source": [
    "n_bins = int(len(patches))\n",
    "\n",
    "for i in range(n_bins):\n",
    "    low, high = float(bins[i]), float(bins[i+1])\n",
    "    if i < n_bins - 1:\n",
    "        mask_i = (R2_run1 >= low) & (R2_run1 < high)\n",
    "    else:\n",
    "        mask_i = (R2_run1 >= low) & (R2_run1 <= high)\n",
    "    \n",
    "    mask_beta_3d = np.full(beta_mean_run1.shape, np.nan, dtype=float)\n",
    "    mask_beta_3d[mask_i] = beta_mean_run1[mask_i]\n",
    "    c_min, c_max = np.nanmin(mask_beta_3d), np.nanmax(mask_beta_3d)\n",
    "    print(c_min, c_max)\n",
    "\n",
    "    beta_on_anat = nib.Nifti1Image(mask_beta_3d, A, bold_img.header)\n",
    "    view = view_img(beta_on_anat, bg_img=anat_img, title=f'bin {i+1},  [{fmt(low)},{fmt(high)}]', colorbar=True,  cmap='seismic')\n",
    "    view.save_as_html(file_name = f'Beta_mask_bin{i+1}_sub{sub}_ses{ses}_run1.html')"
   ]
  },
  {
   "cell_type": "code",
   "execution_count": null,
   "metadata": {},
   "outputs": [],
   "source": []
  },
  {
   "cell_type": "code",
   "execution_count": null,
   "metadata": {},
   "outputs": [],
   "source": []
  },
  {
   "cell_type": "code",
   "execution_count": null,
   "metadata": {},
   "outputs": [],
   "source": []
  },
  {
   "cell_type": "code",
   "execution_count": null,
   "metadata": {},
   "outputs": [],
   "source": []
  },
  {
   "cell_type": "code",
   "execution_count": null,
   "metadata": {},
   "outputs": [],
   "source": []
  },
  {
   "cell_type": "code",
   "execution_count": null,
   "metadata": {},
   "outputs": [],
   "source": [
    "low_beta_3d = np.full(beta_mean_run1.shape, np.nan, dtype=float)\n",
    "low_beta_3d[low_mask] = beta_mean_run1[low_mask]\n",
    "high_beta_3d = np.full(beta_mean_run1.shape, np.nan, dtype=float)\n",
    "high_beta_3d[high_mask] = beta_mean_run1[high_mask]\n",
    "\n",
    "beta_on_anat = nib.Nifti1Image(low_beta_3d, A, bold_img.header)\n",
    "view = view_img(beta_on_anat, bg_img=anat_img, title=f'Low R2 Beta (Run 1)', colorbar=True, cut_coords=(0,0,0))\n",
    "view.save_as_html(file_name = f'Beta_low_mask_sub{sub}_ses{ses}_run1.html')\n",
    "\n",
    "beta_on_anat = nib.Nifti1Image(high_beta_3d, A, bold_img.header)\n",
    "view = view_img(beta_on_anat, bg_img=anat_img, title=f'High R2 Beta (Run 1)', colorbar=True, cut_coords=(0,0,0))\n",
    "view.save_as_html(file_name = f'Beta_high_mask_sub{sub}_ses{ses}_run1.html')"
   ]
  },
  {
   "cell_type": "code",
   "execution_count": 39,
   "metadata": {},
   "outputs": [
    {
     "name": "stdout",
     "output_type": "stream",
     "text": [
      "Low Mask Group: [-6.138, 4.646]: 67.790% of non-nan Voxels\n",
      "High Mask Group: [4.646, 37.737]: 32.210% of non-nan Voxels\n"
     ]
    }
   ],
   "source": [
    "r2_min = np.nanmin(R2_run1)\n",
    "r2_max = np.nanmax(R2_run1)\n",
    "r2_mean = np.nanmean(R2_run1)\n",
    "\n",
    "\n",
    "low_mask = (R2_run1 >= r2_min) & (R2_run1 < r2_mean)\n",
    "high_mask = (R2_run1 >= r2_mean) & (R2_run1 <= r2_max)\n",
    "\n",
    "low_masked_beta = beta_mean_run1[low_mask]\n",
    "high_masked_beta = beta_mean_run1[high_mask]\n",
    "num_voxels = R2_run1[~np.isnan(R2_run1)].size\n",
    "\n",
    "print(f\"Low Mask Group: [{fmt(r2_min)}, {fmt(r2_mean)}]: {fmt(len(low_masked_beta)/num_voxels*100)}% of non-nan Voxels\")\n",
    "print(f\"High Mask Group: [{fmt(r2_mean)}, {fmt(r2_max)}]: {fmt(len(high_masked_beta)/num_voxels*100)}% of non-nan Voxels\")"
   ]
  }
 ],
 "metadata": {
  "kernelspec": {
   "display_name": ".venv",
   "language": "python",
   "name": "python3"
  },
  "language_info": {
   "codemirror_mode": {
    "name": "ipython",
    "version": 3
   },
   "file_extension": ".py",
   "mimetype": "text/x-python",
   "name": "python",
   "nbconvert_exporter": "python",
   "pygments_lexer": "ipython3",
   "version": "3.12.11"
  }
 },
 "nbformat": 4,
 "nbformat_minor": 2
}
