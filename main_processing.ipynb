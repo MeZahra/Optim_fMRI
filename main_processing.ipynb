{
 "cells": [
  {
   "cell_type": "code",
   "execution_count": 1,
   "id": "4ce1901a",
   "metadata": {},
   "outputs": [],
   "source": [
    "import nibabel as nib\n",
    "import numpy as np\n",
    "import matplotlib.pylab as plt\n",
    "import cvxpy as cp\n",
    "import pandas as pd\n",
    "from os.path import join\n",
    "from scipy import ndimage\n",
    "from scipy.spatial.distance import cdist\n",
    "from scipy.sparse import csgraph\n",
    "from scipy.stats import skew, kurtosis, norm\n",
    "from itertools import product\n",
    "from sklearn.model_selection import KFold\n",
    "from matplotlib.animation import FuncAnimation\n",
    "from nilearn import plotting, datasets, image\n",
    "import os, sys"
   ]
  },
  {
   "cell_type": "code",
   "execution_count": 2,
   "id": "a8854e99",
   "metadata": {},
   "outputs": [],
   "source": [
    "def clear_console():\n",
    "    if os.name == \"nt\":\n",
    "        os.system(\"cls\")                     # Windows\n",
    "    else:\n",
    "        # Try tput (nicer), fall back to ANSI reset\n",
    "        os.system(\"tput reset 2>/dev/null || printf '\\033c'\")\n",
    "\n",
    "\n",
    "def find_active_voxels(glm_results, run, t_thr, R2_thr):\n",
    "    if run == 1:\n",
    "        betasmd = glm_results['betasmd'][:,:,:,0:90]\n",
    "        R2 = glm_results['R2run'][:,:,:,0]\n",
    "    else:\n",
    "        betasmd = glm_results['betasmd'][:,:,:,90:]\n",
    "        R2 = glm_results['R2run'][:,:,:,1]\n",
    "    \n",
    "    X, Y, Z, T = betasmd.shape\n",
    "    V = X * Y * Z \n",
    "    B = betasmd.reshape(V, T)\n",
    "\n",
    "    n = np.sum(~np.isnan(B), axis=1) # number of valid (non-NaN) trials for each voxel\n",
    "    mu = np.nanmean(B, axis=1) \n",
    "    sd = np.nanstd(B, axis=1, ddof=1)\n",
    "    se = sd / np.sqrt(np.clip(n, 1, None)); t = mu / se  #t-stat\n",
    "\n",
    "    mu_vol = mu.reshape(X, Y, Z)\n",
    "    sd_vol = sd.reshape(X, Y, Z)\n",
    "    n_vol  = n.reshape(X, Y, Z)\n",
    "    t_vol  = t.reshape(X, Y, Z)\n",
    "\n",
    "    base = (R2 > R2_thr) & (np.abs(t_vol) > t_thr)\n",
    "    mask_pos = base & (mu_vol > 0)\n",
    "    mask_neg = base & (mu_vol < 0)\n",
    "\n",
    "    clear_console()\n",
    "    print(f\"Number of Active Voxels {np.sum(base)} from Total Voxels: {V}\")\n",
    "    print(f\"Number of Positively Active Voxels {np.sum(mask_pos)}, Number of Negatively Active Voxels {np.sum(mask_neg)}\")\n",
    "    \n",
    "    return betasmd, mask_pos, mask_neg\n",
    "\n",
    "def find_active_low_var_voxels(betasmd, mask_pos, mask_neg, sk_thr, kt_thr):\n",
    "    mask_union = mask_pos | mask_neg\n",
    "    beta_pos = betasmd[mask_union,:]\n",
    "    beta_diff = np.diff(beta_pos, axis=1) #diff between consequence trial\n",
    "\n",
    "    sk = skew(beta_diff, axis=1, bias=False)\n",
    "    kt = kurtosis(beta_diff, axis=1, fisher=False, bias=False)\n",
    "    mask_gaussian_like = (np.abs(sk) < sk_thr) & (np.abs(kt - 3) < kt_thr)\n",
    "\n",
    "    selected_voxels = np.zeros(mask_pos.shape, dtype=bool)\n",
    "    selected_voxels[mask_union] = mask_gaussian_like\n",
    "\n",
    "    return selected_voxels, beta_diff\n",
    "\n",
    "def plot_active_voxels(input, ses, run):\n",
    "    fig, axes = plt.subplots(1, 3, figsize=(8, 8))\n",
    "    ax_sag, ax_cor, ax_axial = axes\n",
    "    fig.suptitle(f\"Less Variable Voxles-session {ses}-Run {run}\")\n",
    "\n",
    "    x = input.shape[0] // 2\n",
    "    y = input.shape[1] // 2\n",
    "    z = input.shape[2] // 2\n",
    "\n",
    "    im_sag = ax_sag.imshow(np.rot90(input[x, :, :]), cmap=\"gray\", origin='lower')\n",
    "    ax_sag.set_title(\"Sagittal\")\n",
    "    ax_sag.axis(\"off\")\n",
    "\n",
    "\n",
    "    im_cor = ax_cor.imshow(np.rot90(input[:, y, :]), cmap=\"gray\", origin='lower')\n",
    "    ax_cor.set_title(\"Coronal\")        \n",
    "    ax_cor.axis(\"off\")\n",
    "\n",
    "    im_ax = ax_axial.imshow(np.rot90(input[:, :, z]), cmap=\"gray\", origin='lower')\n",
    "    ax_axial.set_title(\"Axial\")   \n",
    "    ax_axial.axis(\"off\")\n",
    "\n",
    "\n",
    "    def update(i):\n",
    "        im_sag.set_data(np.rot90(input[i, :, :]))      # sagittal slices\n",
    "        im_cor.set_data(np.rot90(input[:, i, :]))      # coronal slices\n",
    "        im_ax.set_data(np.rot90(input[:, :, i]))       # axial slices\n",
    "        return im_sag, im_cor, im_ax\n",
    "\n",
    "    ani = FuncAnimation(fig, update, frames=range(min(input.shape)), interval=100, blit=False)\n",
    "    fig.tight_layout(rect=[0, 0, 1, 0.95])\n",
    "    ani.save(filename=f\"selected_voxels_session{ses}_run{run}.gif\", writer=\"pillow\")\n",
    "    plt.show()\n",
    "\n",
    "    return\n",
    "\n",
    "def plot_dist(beta_diff, run, ses):\n",
    "    mu    = beta_diff.mean(axis=1)\n",
    "    sigma = beta_diff.std(axis=1, ddof=1)  \n",
    "    sk    = skew(beta_diff, axis=1, bias=False)\n",
    "    kt    = kurtosis(beta_diff, axis=1, fisher=False, bias=False)\n",
    "    rows_to_show = np.random.choice(beta_diff.shape[0], 5, replace=False)\n",
    "\n",
    "    fig, axes = plt.subplots(len(rows_to_show), 1, figsize=(6, 2.5*len(rows_to_show)))\n",
    "    for ax, idx in zip(axes, rows_to_show):\n",
    "        data = beta_diff[idx]\n",
    "        m, s = mu[idx], sigma[idx]\n",
    "        x = np.linspace(data.min(), data.max(), 200)\n",
    "\n",
    "        ax.hist(data, bins=25, density=True, alpha=0.5, label='data')\n",
    "        ax.plot(x, norm.pdf(x, m, s), 'r', lw=2, label='Gaussian fit')\n",
    "        ax.set_title(f'Row {idx}: μ={m:.2f}, σ={s:.2f}, skew={sk[idx]:.2f}, kurt={kt[idx]:.2f}')\n",
    "        ax.legend()\n",
    "    \n",
    "    plt.tight_layout()\n",
    "    plt.show()\n",
    "    fig.savefig(f\"beta_diff_selected_voxels_hist_session{ses}_run{run}.png\", dpi=300, bbox_inches='tight')\n",
    "\n",
    "    return\n",
    "\n",
    "def plot_on_brain(anat_img, selected_img, save_path):\n",
    "    display = plotting.plot_anat(anat_img, display_mode=\"ortho\")\n",
    "    display.add_overlay(selected_img, cmap=\"jet\", transparency=0.6, threshold=0.5)\n",
    "    plotting.show()\n",
    "    display.savefig(save_path)\n",
    "    display.close()\n",
    "    \n",
    "    return\n",
    "\n",
    "def calculate_matrices(betasmd, selected_voxels, anat_img, affine, BOLD_path_org, trial_indices, trial_len):\n",
    "    ## L_task Vector (contains beta values for selected voxels)##\n",
    "    num_total_trials = betasmd.shape[-1]\n",
    "    if trial_indices is None:\n",
    "        trial_indices = np.arange(num_total_trials)\n",
    "\n",
    "    V1 = betasmd[selected_voxels.astype(bool), :][:, trial_indices]\n",
    "    mean_V1 = np.mean(V1, axis=-1)\n",
    "    L_task = np.divide(1., np.abs(mean_V1), out=np.zeros_like(mean_V1), where=mean_V1 != 0)\n",
    "    # L_task = 1./np.abs(mean_V1)\n",
    "\n",
    "\n",
    "    BOLD_data = nib.load(BOLD_path_org).get_fdata() #(90, 128, 85, 850)\n",
    "    selected_BOLD_data = BOLD_data[selected_voxels.astype(bool), :]\n",
    "    selected_BOLD_data_reshape = np.zeros((selected_BOLD_data.shape[0], num_total_trials, trial_len))\n",
    "    start = 0\n",
    "    for i in range(num_trials):\n",
    "        selected_BOLD_data_reshape[:, i, :] = selected_BOLD_data[:, start:start+trial_len]\n",
    "        start += trial_len\n",
    "        if start == 270 or start == 560:\n",
    "            start += 20\n",
    "    selected_BOLD_data_subset = selected_BOLD_data_reshape[:, trial_indices, :]\n",
    "\n",
    "    ## L_var matrix (contains variance of selected voxels)##\n",
    "    diff_mat = np.diff(selected_BOLD_data_subset, axis=1)\n",
    "    diff_mat_flat = diff_mat.reshape(diff_mat.shape[0], -1)\n",
    "    L_var = np.cov(diff_mat_flat, bias=False)\n",
    "    L_var = (L_var + L_var.T) / 2 + 1e-6 * np.eye(L_var.shape[0])\n",
    "    # C2 = diff_mat_flat @ diff_mat_flat.T\n",
    "    # L_var = C2 / selected_BOLD_data_reshape.shape[1]\n",
    "\n",
    "\n",
    "    ## L_smooth matrix (contains distance beyween selected voxels)##\n",
    "    anat_img_shape = anat_img.shape\n",
    "    coords = np.array(np.meshgrid(\n",
    "        np.arange(anat_img_shape[0]),\n",
    "        np.arange(anat_img_shape[1]),\n",
    "        np.arange(anat_img_shape[2]),\n",
    "        indexing='ij'\n",
    "    )).reshape(3, -1).T\n",
    "\n",
    "    # Convert to world (scanner/MNI) coordinates\n",
    "    world_coords = nib.affines.apply_affine(affine, coords)\n",
    "    tmp = selected_voxels.astype(bool).reshape(-1)\n",
    "    selected_world_coords = world_coords[tmp,:]\n",
    "    D = cdist(selected_world_coords, selected_world_coords)\n",
    "    sigma = np.median(D[D>0])\n",
    "    W = np.exp(-D**2 / (2*sigma**2))      # similarity\n",
    "    np.fill_diagonal(W, 0.0)\n",
    "    L_smooth = csgraph.laplacian(W, normed=False)\n",
    "    # L_smooth = csgraph.laplacian(D)\n",
    "\n",
    "    return L_task, L_var, L_smooth, selected_BOLD_data_subset.reshape(selected_BOLD_data_subset.shape[0], -1)\n",
    "\n",
    "def objective_func(w, L_task, L_var, L_smooth,\n",
    "              alpha_var, alpha_smooth, alpha_sparse):\n",
    "    \"\"\"Value of the full loss on a validation set.\"\"\"\n",
    "    quad = (w.T @ np.diag(L_task) @ w\n",
    "            + alpha_var   * (w.T @ L_var    @ w)\n",
    "            + alpha_smooth * (w.T @ L_smooth @ w))\n",
    "    l1 = alpha_sparse * np.sum(np.abs(w))\n",
    "    return quad + l1\n",
    "\n",
    "def optimize_voxel_weights(\n",
    "    L_task: np.ndarray,\n",
    "    L_var: np.ndarray,\n",
    "    L_smooth: np.ndarray,\n",
    "    alpha_var: float = 1.0,\n",
    "    alpha_smooth: float = 0.1,\n",
    "    alpha_sparse: float = 0.01):\n",
    "    \n",
    "    L_total = np.diag(L_task) + alpha_var * L_var + alpha_smooth * L_smooth\n",
    "    n = L_total.shape[0]\n",
    "    L_total = 0.5*(L_total + L_total.T) + 1e-8*np.eye(n)\n",
    "    w = cp.Variable(n, nonneg=True)\n",
    "    constraints = [cp.sum(w) == 1]\n",
    "    \n",
    "    # objective = cp.Minimize(cp.quad_form(w, L_total) + alpha_sparse * cp.norm1(w))\n",
    "    objective = cp.Minimize(cp.quad_form(w, L_total))\n",
    "    problem = cp.Problem(objective, constraints)\n",
    "    problem.solve(solver=cp.OSQP, verbose=True)\n",
    "    return w.value\n",
    "\n",
    "def calculate_weight(param_grid, betasmd, active_low_var_voxels, anat_img, affine, BOLD_path_org, trial_len):\n",
    "    kf = KFold(n_splits=2, shuffle=True, random_state=0)\n",
    "    best_score = np.inf\n",
    "    best_params = None\n",
    "    num_trials = betasmd.shape[-1]\n",
    "\n",
    "    for a_var, a_smooth, a_sparse in product(*param_grid.values()):\n",
    "        fold_scores = []\n",
    "        print(f\"a_var: {a_var}, a_smooth: {a_smooth}, a_sparse: {a_sparse}\")\n",
    "        count = 1\n",
    "\n",
    "        for train_idx, val_idx in kf.split(np.arange(num_trials)):\n",
    "            clear_console()\n",
    "            print(f\"k-fold num: {count}\")\n",
    "            L_task_train, L_var_train, L_smooth_train, _ = calculate_matrices(betasmd, active_low_var_voxels, anat_img, affine, BOLD_path_org, train_idx, trial_len)\n",
    "            w = optimize_voxel_weights(L_task_train, L_var_train, L_smooth_train, alpha_var=a_var, alpha_smooth=a_smooth, alpha_sparse=a_sparse)\n",
    "\n",
    "            L_task_val, L_var_val, L_smooth_val, _ = calculate_matrices(betasmd, active_low_var_voxels, anat_img, affine, BOLD_path_org, val_idx, trial_len)\n",
    "\n",
    "            fold_scores.append(objective_func(w, L_task_val, L_var_val, L_smooth_val, a_var, a_smooth, a_sparse))\n",
    "            count += 1\n",
    "\n",
    "        mean_score = np.mean(fold_scores)\n",
    "        print(mean_score)\n",
    "        if mean_score < best_score:\n",
    "            best_score = mean_score\n",
    "            best_params = (a_var, a_smooth, a_sparse)\n",
    "\n",
    "    clear_console()\n",
    "    print(\"Best parameters:\", best_params, \"with CV loss:\", best_score)\n",
    "    return best_params, best_score\n",
    "\n",
    "def select_opt_weight(selected_BOLD_data, weights, selected_voxels, affine):\n",
    "    y = selected_BOLD_data.T @ weights\n",
    "    p95 = np.percentile(weights, 95)\n",
    "    p5 = np.percentile(weights, 5)\n",
    "\n",
    "    weight_volume = np.zeros(selected_voxels.shape, dtype=np.float32)\n",
    "    weight_volume[selected_voxels] = weights  # put weights in their voxel positions\n",
    "\n",
    "    mask = np.zeros(selected_voxels.shape, dtype=bool)\n",
    "    selected_weights = (weights <= p5) | (weights >= p95)\n",
    "    mask[selected_voxels] = selected_weights\n",
    "    weight_volume[~mask] = 0\n",
    "\n",
    "    masked_weights = np.where(weight_volume == 0, np.nan, weight_volume)\n",
    "    weight_img = nib.Nifti1Image(masked_weights, affine=affine)\n",
    "    \n",
    "    return weight_img, masked_weights, y"
   ]
  },
  {
   "cell_type": "code",
   "execution_count": 4,
   "id": "6228f28e",
   "metadata": {},
   "outputs": [
    {
     "name": "stderr",
     "output_type": "stream",
     "text": [
      "/tmp/ipykernel_20562/2036144248.py:22: RuntimeWarning: Mean of empty slice\n",
      "  mu = np.nanmean(B, axis=1)\n",
      "/home/zkavian/thesis_code_git/.venv/lib/python3.12/site-packages/numpy/lib/_nanfunctions_impl.py:2019: RuntimeWarning: Degrees of freedom <= 0 for slice.\n",
      "  var = nanvar(a, axis=axis, dtype=dtype, out=out, ddof=ddof,\n",
      "/tmp/ipykernel_20562/2036144248.py:24: RuntimeWarning: divide by zero encountered in divide\n",
      "  se = sd / np.sqrt(np.clip(n, 1, None)); t = mu / se  #t-stat\n",
      "/tmp/ipykernel_20562/2036144248.py:24: RuntimeWarning: invalid value encountered in divide\n",
      "  se = sd / np.sqrt(np.clip(n, 1, None)); t = mu / se  #t-stat\n",
      "/home/zkavian/thesis_code_git/.venv/lib/python3.12/site-packages/scipy/stats/_stats_py.py:1361: RuntimeWarning: invalid value encountered in divide\n",
      "  nval = ((n - 1.0) * n)**0.5 / (n - 2.0) * m3 / m2**1.5\n",
      "/home/zkavian/thesis_code_git/.venv/lib/python3.12/site-packages/scipy/stats/_stats_py.py:1469: RuntimeWarning: invalid value encountered in divide\n",
      "  nval = 1.0/(n-2)/(n-3) * ((n**2-1.0)*m4/m2**2.0 - 3*(n-1)**2.0)\n"
     ]
    },
    {
     "name": "stdout",
     "output_type": "stream",
     "text": [
      "\u001bcNumber of Active Voxels 131402 from Total Voxels: 979200\n",
      "Number of Positively Active Voxels 70134, Number of Negatively Active Voxels 61268\n"
     ]
    }
   ],
   "source": [
    "t_thr = 3\n",
    "R2_thr = 1.5\n",
    "sk_thr = 0.1 \n",
    "kt_thr = 0.2\n",
    "run = 1\n",
    "ses = 1\n",
    "sub = '04'\n",
    "num_trials = 90\n",
    "trial_len = 9\n",
    "\n",
    "# param_grid = {\n",
    "#     \"alpha_var\":   [0.5, 1.0, 10.0],\n",
    "#     \"alpha_smooth\":[0.5, 0.1, 1.0],\n",
    "#     \"alpha_sparse\":[0.001, 0.01, 0.1]}\n",
    "\n",
    "param_grid = {\n",
    "    \"alpha_var\":   [0.5],\n",
    "    \"alpha_smooth\":[0.5],\n",
    "    \"alpha_sparse\":[0.001]}\n",
    "\n",
    "glm_result_path = '/mnt/TeamShare/Data_Masterfile/Zahra-Thesis-Data/Master_Thesis_Files/GLM_single_results/GLMOutputs2-sub04-ses02/TYPED_FITHRF_GLMDENOISE_RR.npy'\n",
    "anat_img = nib.load('/mnt/TeamShare/Data_Masterfile/H20-00572_All-Dressed/PRECISIONSTIM_PD_Data_Results/fMRI_preprocessed_data/Rev_pipeline/derivatives/sub-pd004/ses-1/anat/sub-pd004_ses-1_T1w_brain_2mm.nii.gz')\n",
    "base_path = '/mnt/TeamShare/Data_Masterfile/H20-00572_All-Dressed/PRECISIONSTIM_PD_Data_Results/fMRI_preprocessed_data/Rev_pipeline/derivatives'\n",
    "data_name = f'sub-pd0{sub}_ses-{ses}_run-{run}_task-mv_bold_corrected_smoothed_reg_2mm.nii.gz'\n",
    "BOLD_path_org = join(base_path, f'sub-pd0{sub}',f'ses-{ses}','func', data_name)\n",
    "\n",
    "glm_results = np.load(glm_result_path, allow_pickle=True).item()\n",
    "betasmd, mask_pos, mask_neg = find_active_voxels(glm_results, run, t_thr, R2_thr)  #(90,120,85,90)\n",
    "active_low_var_voxels, beta_diff = find_active_low_var_voxels(betasmd, mask_pos, mask_neg, sk_thr, kt_thr)\n",
    "nvox = int(active_low_var_voxels.sum())\n",
    "if nvox == 0:\n",
    "    raise ValueError(\"No voxels selected. Relax R2/t/sk/kt thresholds.\")\n",
    "if nvox == 1:\n",
    "    print(\"Warning: only one voxel selected; smoothing will be skipped.\")\n",
    "\n",
    "# plot_active_voxels(active_low_var_voxels, ses, run)\n",
    "# plot_dist(beta_diff, run, ses)\n",
    "\n",
    "anat_data = anat_img.get_fdata()\n",
    "affine = anat_img.affine\n",
    "selected_voxels = nib.Nifti1Image(active_low_var_voxels.astype(np.uint8), affine)\n",
    "# nib.save(selected_voxels, f'affine_selected_active_low_var_voxels_session{ses}_run{run}.nii.gz')\n",
    "# save_path = f\"anat_with_overlay(active_low_var_voxels_session{ses}_run{run}).png\"\n",
    "# plot_on_brain(anat_img, selected_voxels, save_path)\n",
    "\n",
    "# L_task, L_var, L_smooth, selected_BOLD_data = calculate_matrices(betasmd, active_low_var_voxels, anat_img, affine, BOLD_path_org, num_trials, trial_len)\n",
    "# best_params, best_score = calculate_weight(param_grid, betasmd, active_low_var_voxels, anat_img, affine, BOLD_path_org, trial_len)"
   ]
  },
  {
   "cell_type": "code",
   "execution_count": null,
   "id": "1f0e0cc5",
   "metadata": {},
   "outputs": [],
   "source": [
    "# kf = KFold(n_splits=2, shuffle=True, random_state=0)\n",
    "# best_score = np.inf\n",
    "# best_params = None\n",
    "# num_trials = betasmd.shape[-1]\n",
    "\n",
    "# for a_var, a_smooth, a_sparse in product(*param_grid.values()):\n",
    "#     fold_scores = []\n",
    "#     print(f\"a_var: {a_var}, a_smooth: {a_smooth}, a_sparse: {a_sparse}\")\n",
    "#     count = 1\n",
    "\n",
    "#     for train_idx, val_idx in kf.split(np.arange(num_trials)):\n",
    "#         clear_console()\n",
    "#         print(f\"k-fold num: {count}\")\n",
    "#         L_task_train, L_var_train, L_smooth_train, _ = calculate_matrices(betasmd, active_low_var_voxels, anat_img, affine, BOLD_path_org, train_idx, trial_len)\n",
    "#         w = optimize_voxel_weights(L_task_train, L_var_train, L_smooth_train, alpha_var=a_var, alpha_smooth=a_smooth, alpha_sparse=a_sparse)\n",
    "\n",
    "#         L_task_val, L_var_val, L_smooth_val, _ = calculate_matrices(betasmd, active_low_var_voxels, anat_img, affine, BOLD_path_org, val_idx, trial_len)\n",
    "\n",
    "#         fold_scores.append(objective_func(w, L_task_val, L_var_val, L_smooth_val, a_var, a_smooth, a_sparse))\n",
    "#         count += 1\n",
    "\n",
    "#     mean_score = np.mean(fold_scores)\n",
    "#     print(mean_score)\n",
    "#     if mean_score < best_score:\n",
    "#         best_score = mean_score\n",
    "#         best_params = (a_var, a_smooth, a_sparse)\n",
    "\n",
    "# clear_console()\n",
    "# print(\"Best parameters:\", best_params, \"with CV loss:\", best_score)\n"
   ]
  },
  {
   "cell_type": "code",
   "execution_count": null,
   "id": "8d73cc2d",
   "metadata": {},
   "outputs": [
    {
     "name": "stdout",
     "output_type": "stream",
     "text": [
      "a_var: 0.5, a_smooth: 0.5, a_sparse: 0.001\n",
      "\u001bck-fold num: 1\n"
     ]
    },
    {
     "name": "stderr",
     "output_type": "stream",
     "text": [
      "(CVXPY) Sep 03 04:04:45 PM: Your problem has 12558 variables, 1 constraints, and 0 parameters.\n"
     ]
    },
    {
     "name": "stdout",
     "output_type": "stream",
     "text": [
      "===============================================================================\n",
      "                                     CVXPY                                     \n",
      "                                     v1.7.2                                    \n",
      "===============================================================================\n"
     ]
    },
    {
     "name": "stderr",
     "output_type": "stream",
     "text": [
      "(CVXPY) Sep 03 04:06:25 PM: It is compliant with the following grammars: DCP, DQCP\n",
      "(CVXPY) Sep 03 04:06:25 PM: (If you need to solve this problem multiple times, but with different data, consider using parameters.)\n",
      "(CVXPY) Sep 03 04:06:25 PM: CVXPY will first compile your problem; then, it will invoke a numerical solver to obtain a solution.\n",
      "(CVXPY) Sep 03 04:06:25 PM: Your problem is compiled with the CPP canonicalization backend.\n",
      "(CVXPY) Sep 03 04:06:25 PM: Compiling problem (target solver=OSQP).\n",
      "(CVXPY) Sep 03 04:06:25 PM: Reduction chain: CvxAttr2Constr -> Qp2SymbolicQp -> QpMatrixStuffing -> OSQP\n",
      "(CVXPY) Sep 03 04:06:25 PM: Applying reduction CvxAttr2Constr\n",
      "(CVXPY) Sep 03 04:06:25 PM: Applying reduction Qp2SymbolicQp\n",
      "(CVXPY) Sep 03 04:06:25 PM: Applying reduction QpMatrixStuffing\n"
     ]
    },
    {
     "name": "stdout",
     "output_type": "stream",
     "text": [
      "-------------------------------------------------------------------------------\n",
      "                                  Compilation                                  \n",
      "-------------------------------------------------------------------------------\n"
     ]
    },
    {
     "name": "stderr",
     "output_type": "stream",
     "text": [
      "(CVXPY) Sep 03 04:06:38 PM: Applying reduction OSQP\n",
      "(CVXPY) Sep 03 04:06:48 PM: Finished problem compilation (took 2.270e+01 seconds).\n",
      "(CVXPY) Sep 03 04:06:48 PM: Invoking solver OSQP  to obtain a solution.\n"
     ]
    },
    {
     "name": "stdout",
     "output_type": "stream",
     "text": [
      "-------------------------------------------------------------------------------\n",
      "                                Numerical solver                               \n",
      "-------------------------------------------------------------------------------\n",
      "-----------------------------------------------------------------\n",
      "           OSQP v1.0.0  -  Operator Splitting QP Solver\n",
      "              (c) The OSQP Developer Team\n",
      "-----------------------------------------------------------------\n",
      "problem:  variables n = 12558, constraints m = 12559\n",
      "          nnz(P) + nnz(A) = 78883077\n",
      "settings: algebra = Built-in,\n",
      "          OSQPInt = 4 bytes, OSQPFloat = 8 bytes,\n",
      "          linear system solver = QDLDL v0.1.8,\n",
      "          eps_abs = 1.0e-05, eps_rel = 1.0e-05,\n",
      "          eps_prim_inf = 1.0e-04, eps_dual_inf = 1.0e-04,\n",
      "          rho = 1.00e-01 (adaptive: 50 iterations),\n",
      "          sigma = 1.00e-06, alpha = 1.60, max_iter = 10000\n",
      "          check_termination: on (interval 25, duality gap: on),\n",
      "          time_limit: 1.00e+10 sec,\n",
      "          scaling: on (10 iterations), scaled_termination: off\n",
      "          warm starting: on, polishing: on, \n",
      "iter   objective    prim res   dual res   gap        rel kkt    rho         time\n",
      "   1   0.0000e+00   1.00e+00   1.07e+05  -1.07e+05   1.07e+05   1.00e-01    2.13e+02s\n",
      "  50   8.3961e-02   7.36e-06   2.77e-03  -7.69e-03   2.77e-03   1.58e-02*   2.17e+02s\n",
      " 200   8.6388e-02   5.09e-06   5.35e-05  -6.44e-03   5.35e-05   1.58e-02    4.36e+02s\n",
      " 400   8.8461e-02   3.54e-06   3.68e-05  -5.16e-03   3.68e-05   1.58e-02    4.55e+02s\n",
      " 600   8.9863e-02   2.61e-06   2.20e-05  -4.18e-03   2.20e-05   1.58e-02    4.75e+02s\n",
      " 800   9.0863e-02   1.97e-06   1.67e-05  -3.42e-03   1.67e-05   1.58e-02    4.94e+02s\n",
      "1000   9.1617e-02   1.54e-06   1.12e-05  -2.81e-03   1.12e-05   1.58e-02    5.14e+02s\n",
      "1200   9.2202e-02   1.23e-06   8.18e-06  -2.31e-03   8.18e-06   1.58e-02    5.33e+02s\n",
      "1400   9.2668e-02   9.82e-07   6.76e-06  -1.90e-03   6.76e-06   1.58e-02    5.53e+02s\n",
      "1600   9.3036e-02   7.99e-07   4.60e-06  -1.57e-03   4.60e-06   1.58e-02    5.72e+02s\n",
      "1800   9.3330e-02   6.50e-07   3.58e-06  -1.30e-03   3.58e-06   1.58e-02    5.91e+02s\n",
      "2000   9.3568e-02   5.31e-07   2.91e-06  -1.08e-03   2.91e-06   1.58e-02    6.11e+02s\n",
      "2200   9.3762e-02   4.36e-07   2.36e-06  -8.99e-04   2.36e-06   1.58e-02    6.30e+02s\n",
      "2400   9.3920e-02   3.60e-07   1.95e-06  -7.49e-04   1.95e-06   1.58e-02    6.50e+02s\n",
      "2600   9.4050e-02   2.98e-07   1.78e-06  -6.24e-04   1.78e-06   1.58e-02    6.69e+02s\n",
      "2800   9.4157e-02   2.46e-07   1.47e-06  -5.20e-04   1.47e-06   1.58e-02    6.88e+02s\n",
      "3000   9.4246e-02   2.04e-07   1.23e-06  -4.34e-04   1.23e-06   1.58e-02    7.08e+02s\n",
      "3200   9.4320e-02   1.69e-07   1.02e-06  -3.62e-04   1.02e-06   1.58e-02    7.27e+02s\n",
      "3400   9.4381e-02   1.40e-07   8.23e-07  -3.02e-04   8.23e-07   1.58e-02    7.47e+02s\n",
      "3600   9.4432e-02   1.16e-07   6.89e-07  -2.51e-04   6.89e-07   1.58e-02    7.66e+02s\n",
      "3800   9.4474e-02   9.64e-08   5.75e-07  -2.09e-04   5.75e-07   1.58e-02    7.86e+02s\n",
      "4000   9.4510e-02   8.01e-08   4.81e-07  -1.75e-04   4.81e-07   1.58e-02    8.05e+02s\n",
      "4200   9.4539e-02   6.65e-08   4.08e-07  -1.45e-04   4.08e-07   1.58e-02    8.25e+02s\n",
      "4400   9.4563e-02   5.54e-08   3.43e-07  -1.21e-04   3.43e-07   1.58e-02    8.44e+02s\n",
      "4600   9.4584e-02   4.61e-08   2.86e-07  -1.01e-04   2.86e-07   1.58e-02    8.64e+02s\n",
      "4800   9.4601e-02   3.83e-08   2.37e-07  -8.41e-05   2.37e-07   1.58e-02    8.83e+02s\n",
      "5000   9.4615e-02   3.19e-08   1.94e-07  -7.01e-05   1.94e-07   1.58e-02    9.03e+02s\n",
      "5200   9.4626e-02   2.66e-08   1.61e-07  -5.85e-05   1.61e-07   1.58e-02    9.22e+02s\n",
      "5400   9.4636e-02   2.21e-08   1.34e-07  -4.87e-05   1.34e-07   1.58e-02    9.41e+02s\n",
      "5600   9.4644e-02   1.85e-08   1.18e-07  -4.06e-05   1.18e-07   1.58e-02    9.61e+02s\n",
      "5800   9.4651e-02   1.54e-08   9.84e-08  -3.39e-05   9.84e-08   1.58e-02    9.80e+02s\n",
      "6000   9.4657e-02   1.29e-08   8.20e-08  -2.83e-05   8.20e-08   1.58e-02    1.00e+03s\n",
      "6200   9.4661e-02   1.07e-08   6.83e-08  -2.36e-05   6.83e-08   1.58e-02    1.02e+03s\n",
      "6400   9.4665e-02   8.95e-09   5.68e-08  -1.97e-05   5.68e-08   1.58e-02    1.04e+03s\n",
      "6600   9.4669e-02   7.47e-09   4.73e-08  -1.64e-05   4.73e-08   1.58e-02    1.06e+03s\n",
      "6800   9.4671e-02   6.23e-09   3.95e-08  -1.37e-05   3.95e-08   1.58e-02    1.08e+03s\n",
      "6975   9.4673e-02   5.31e-09   3.37e-08  -1.17e-05   3.37e-08   1.58e-02    1.09e+03s\n"
     ]
    },
    {
     "name": "stderr",
     "output_type": "stream",
     "text": [
      "(CVXPY) Sep 03 04:28:31 PM: Problem status: optimal\n",
      "(CVXPY) Sep 03 04:28:31 PM: Optimal value: 9.468e-02\n",
      "(CVXPY) Sep 03 04:28:31 PM: Compilation took 2.270e+01 seconds\n",
      "(CVXPY) Sep 03 04:28:31 PM: Solver (including time spent in interface) took 1.303e+03 seconds\n"
     ]
    },
    {
     "name": "stdout",
     "output_type": "stream",
     "text": [
      "plsh   9.4685e-02   6.11e-16   1.02e-12   6.06e-13   1.02e-12   --------    1.30e+03s\n",
      "\n",
      "status:               solved\n",
      "solution polishing:   successful\n",
      "number of iterations: 6975\n",
      "optimal objective:    0.0947\n",
      "dual objective:       0.0947\n",
      "duality gap:          6.0590e-13\n",
      "primal-dual integral: 1.0735e+05\n",
      "run time:             1.30e+03s\n",
      "optimal rho estimate: 2.46e-02\n",
      "\n",
      "-------------------------------------------------------------------------------\n",
      "                                    Summary                                    \n",
      "-------------------------------------------------------------------------------\n"
     ]
    }
   ],
   "source": [
    "# kf = KFold(n_splits=2, shuffle=True, random_state=0)\n",
    "# best_score = np.inf\n",
    "# best_params = None\n",
    "# num_trials = betasmd.shape[-1]\n",
    "# alpha_var: float = 1.0\n",
    "# alpha_smooth: float = 0.1\n",
    "# alpha_sparse: float = 0.01\n",
    "\n",
    "# for a_var, a_smooth, a_sparse in product(*param_grid.values()):\n",
    "#     fold_scores = []\n",
    "#     print(f\"a_var: {a_var}, a_smooth: {a_smooth}, a_sparse: {a_sparse}\")\n",
    "#     count = 1\n",
    "\n",
    "#     for train_idx, val_idx in kf.split(np.arange(num_trials)):\n",
    "#         clear_console()\n",
    "#         print(f\"k-fold num: {count}\")\n",
    "#         L_task_train, L_var_train, L_smooth_train, _ = calculate_matrices(betasmd, active_low_var_voxels, anat_img, affine, BOLD_path_org, train_idx, trial_len)\n",
    "#         L_total = np.diag(L_task_train) + alpha_var * L_var_train + alpha_smooth * L_smooth_train\n",
    "#         n = L_total.shape[0]\n",
    "#         L_total = 0.5*(L_total + L_total.T) + 1e-8*np.eye(n)\n",
    "#         w = cp.Variable(n, nonneg=True)\n",
    "#         constraints = [cp.sum(w) == 1]\n",
    "        \n",
    "#         # objective = cp.Minimize(cp.quad_form(w, L_total) + alpha_sparse * cp.norm1(w))\n",
    "#         objective = cp.Minimize(cp.quad_form(w, L_total))\n",
    "#         problem = cp.Problem(objective, constraints)\n",
    "#         problem.solve(solver=cp.OSQP, verbose=True)\n",
    "\n",
    "#         # w = optimize_voxel_weights(L_task_train, L_var_train, L_smooth_train, alpha_var=a_var, alpha_smooth=a_smooth, alpha_sparse=a_sparse)\n",
    "\n",
    "#         break\n",
    "\n",
    "#     break"
   ]
  },
  {
   "cell_type": "code",
   "execution_count": 5,
   "id": "cd65020e",
   "metadata": {},
   "outputs": [
    {
     "name": "stdout",
     "output_type": "stream",
     "text": [
      "a_var: 0.5, a_smooth: 0.5, a_sparse: 0.001\n",
      "\u001bck-fold num: 1\n"
     ]
    },
    {
     "name": "stderr",
     "output_type": "stream",
     "text": [
      "(CVXPY) Sep 03 04:30:45 PM: Your problem has 12558 variables, 1 constraints, and 0 parameters.\n"
     ]
    },
    {
     "name": "stdout",
     "output_type": "stream",
     "text": [
      "===============================================================================\n",
      "                                     CVXPY                                     \n",
      "                                     v1.7.2                                    \n",
      "===============================================================================\n"
     ]
    },
    {
     "name": "stderr",
     "output_type": "stream",
     "text": [
      "(CVXPY) Sep 03 04:31:05 PM: It is compliant with the following grammars: DCP, DQCP\n",
      "(CVXPY) Sep 03 04:31:05 PM: (If you need to solve this problem multiple times, but with different data, consider using parameters.)\n",
      "(CVXPY) Sep 03 04:31:05 PM: CVXPY will first compile your problem; then, it will invoke a numerical solver to obtain a solution.\n",
      "(CVXPY) Sep 03 04:31:05 PM: Your problem is compiled with the CPP canonicalization backend.\n",
      "(CVXPY) Sep 03 04:31:05 PM: Compiling problem (target solver=OSQP).\n",
      "(CVXPY) Sep 03 04:31:05 PM: Reduction chain: CvxAttr2Constr -> Qp2SymbolicQp -> QpMatrixStuffing -> OSQP\n",
      "(CVXPY) Sep 03 04:31:05 PM: Applying reduction CvxAttr2Constr\n",
      "(CVXPY) Sep 03 04:31:05 PM: Applying reduction Qp2SymbolicQp\n",
      "(CVXPY) Sep 03 04:31:05 PM: Applying reduction QpMatrixStuffing\n"
     ]
    },
    {
     "name": "stdout",
     "output_type": "stream",
     "text": [
      "-------------------------------------------------------------------------------\n",
      "                                  Compilation                                  \n",
      "-------------------------------------------------------------------------------\n"
     ]
    },
    {
     "name": "stderr",
     "output_type": "stream",
     "text": [
      "(CVXPY) Sep 03 04:31:18 PM: Applying reduction OSQP\n",
      "(CVXPY) Sep 03 04:31:27 PM: Finished problem compilation (took 2.277e+01 seconds).\n",
      "(CVXPY) Sep 03 04:31:27 PM: Invoking solver OSQP  to obtain a solution.\n"
     ]
    },
    {
     "name": "stdout",
     "output_type": "stream",
     "text": [
      "-------------------------------------------------------------------------------\n",
      "                                Numerical solver                               \n",
      "-------------------------------------------------------------------------------\n",
      "-----------------------------------------------------------------\n",
      "           OSQP v1.0.0  -  Operator Splitting QP Solver\n",
      "              (c) The OSQP Developer Team\n",
      "-----------------------------------------------------------------\n",
      "problem:  variables n = 12558, constraints m = 12559\n",
      "          nnz(P) + nnz(A) = 78883077\n",
      "settings: algebra = Built-in,\n",
      "          OSQPInt = 4 bytes, OSQPFloat = 8 bytes,\n",
      "          linear system solver = QDLDL v0.1.8,\n",
      "          eps_abs = 1.0e-05, eps_rel = 1.0e-05,\n",
      "          eps_prim_inf = 1.0e-04, eps_dual_inf = 1.0e-04,\n",
      "          rho = 1.00e-01 (adaptive: 50 iterations),\n",
      "          sigma = 1.00e-06, alpha = 1.60, max_iter = 10000\n",
      "          check_termination: on (interval 25, duality gap: on),\n",
      "          time_limit: 1.00e+10 sec,\n",
      "          scaling: on (10 iterations), scaled_termination: off\n",
      "          warm starting: on, polishing: on, \n",
      "iter   objective    prim res   dual res   gap        rel kkt    rho         time\n",
      "   1   0.0000e+00   1.00e+00   5.34e+05  -5.34e+05   5.34e+05   1.00e-01    2.12e+02s\n",
      " 200   3.6802e-01   3.14e-06   4.28e-04  -1.34e-02   4.28e-04   1.00e-01    2.31e+02s\n",
      " 400   3.7877e-01   8.05e-07   9.93e-05  -3.90e-03   9.93e-05   1.00e-01    2.50e+02s\n",
      " 600   3.8159e-01   2.35e-07   2.65e-05  -1.17e-03   2.65e-05   1.00e-01    2.70e+02s\n",
      " 800   3.8242e-01   7.03e-08   7.94e-06  -3.55e-04   7.94e-06   1.00e-01    2.89e+02s\n",
      "1000   3.8266e-01   2.14e-08   2.48e-06  -1.08e-04   2.48e-06   1.00e-01    3.09e+02s\n",
      "1200   3.8274e-01   6.50e-09   7.54e-07  -3.30e-05   7.54e-07   1.00e-01    3.28e+02s\n",
      "1325   3.8276e-01   3.09e-09   3.59e-07  -1.57e-05   3.59e-07   1.00e-01    3.40e+02s\n"
     ]
    },
    {
     "name": "stderr",
     "output_type": "stream",
     "text": [
      "(CVXPY) Sep 03 04:40:37 PM: Problem status: optimal\n",
      "(CVXPY) Sep 03 04:40:37 PM: Optimal value: 3.828e-01\n",
      "(CVXPY) Sep 03 04:40:37 PM: Compilation took 2.277e+01 seconds\n",
      "(CVXPY) Sep 03 04:40:37 PM: Solver (including time spent in interface) took 5.497e+02 seconds\n"
     ]
    },
    {
     "name": "stdout",
     "output_type": "stream",
     "text": [
      "\n",
      "status:               solved\n",
      "solution polishing:   unsuccessful\n",
      "number of iterations: 1325\n",
      "optimal objective:    0.3828\n",
      "dual objective:       0.3828\n",
      "duality gap:          -1.5690e-05\n",
      "primal-dual integral: 5.3414e+05\n",
      "run time:             5.47e+02s\n",
      "optimal rho estimate: 5.28e-02\n",
      "\n",
      "-------------------------------------------------------------------------------\n",
      "                                    Summary                                    \n",
      "-------------------------------------------------------------------------------\n"
     ]
    }
   ],
   "source": [
    "kf = KFold(n_splits=2, shuffle=True, random_state=0)\n",
    "best_score = np.inf\n",
    "best_params = None\n",
    "num_trials = betasmd.shape[-1]\n",
    "alpha_var: float = 1.0\n",
    "alpha_smooth: float = 0.1\n",
    "alpha_sparse: float = 0.01\n",
    "\n",
    "for a_var, a_smooth, a_sparse in product(*param_grid.values()):\n",
    "    fold_scores = []\n",
    "    print(f\"a_var: {a_var}, a_smooth: {a_smooth}, a_sparse: {a_sparse}\")\n",
    "    count = 1\n",
    "\n",
    "    for train_idx, val_idx in kf.split(np.arange(num_trials)):\n",
    "        clear_console()\n",
    "        print(f\"k-fold num: {count}\")\n",
    "        L_task_train, L_var_train, L_smooth_train, _ = calculate_matrices(betasmd, active_low_var_voxels, anat_img, affine, BOLD_path_org, train_idx, trial_len)\n",
    "        w = optimize_voxel_weights(L_task_train, L_var_train, L_smooth_train, alpha_var=a_var, alpha_smooth=a_smooth, alpha_sparse=a_sparse)\n",
    "        L_task_val, L_var_val, L_smooth_val, tmp = calculate_matrices(betasmd, active_low_var_voxels, anat_img, affine, BOLD_path_org, val_idx, trial_len)\n",
    "\n",
    "        fold_scores.append(objective_func(w, L_task_val, L_var_val, L_smooth_val, a_var, a_smooth, a_sparse))\n",
    "        count += 1\n",
    "    \n",
    "    mean_score = np.mean(fold_scores)\n",
    "    print(mean_score)\n",
    "    if mean_score < best_score:\n",
    "        best_score = mean_score\n",
    "        best_params = (a_var, a_smooth, a_sparse)"
   ]
  },
  {
   "cell_type": "code",
   "execution_count": 33,
   "id": "ff8c5ef4",
   "metadata": {},
   "outputs": [
    {
     "name": "stdout",
     "output_type": "stream",
     "text": [
      "[ 0  1  9 10 11 12 14 19 20 21 23 25 28 29 31 32 34 35 36 37 39 44 46 47\n",
      " 49 52 57 58 60 64 65 67 68 69 70 71 72 76 81 83 84 85 86 87 88] [ 2  3  4  5  6  7  8 13 15 16 17 18 22 24 26 27 30 33 38 40 41 42 43 45\n",
      " 48 50 51 53 54 55 56 59 61 62 63 66 73 74 75 77 78 79 80 82 89]\n",
      "[ 2  3  4  5  6  7  8 13 15 16 17 18 22 24 26 27 30 33 38 40 41 42 43 45\n",
      " 48 50 51 53 54 55 56 59 61 62 63 66 73 74 75 77 78 79 80 82 89] [ 0  1  9 10 11 12 14 19 20 21 23 25 28 29 31 32 34 35 36 37 39 44 46 47\n",
      " 49 52 57 58 60 64 65 67 68 69 70 71 72 76 81 83 84 85 86 87 88]\n"
     ]
    }
   ],
   "source": [
    "for train_idx, val_idx in kf.split(np.arange(num_trials)):\n",
    "    print(train_idx, val_idx)"
   ]
  },
  {
   "cell_type": "code",
   "execution_count": 16,
   "id": "9cb06316",
   "metadata": {},
   "outputs": [],
   "source": [
    "def calculate_matrices(betasmd, selected_voxels, anat_img, affine, BOLD_path_org, trial_indices, trial_len):\n",
    "    ## L_task Vector (contains beta values for selected voxels)##\n",
    "    num_total_trials = betasmd.shape[-1]\n",
    "    if trial_indices is None:\n",
    "        trial_indices = np.arange(num_total_trials)\n",
    "\n",
    "    V1 = betasmd[selected_voxels.astype(bool), :][:, trial_indices]\n",
    "    mean_V1 = np.mean(V1, axis=-1)\n",
    "    L_task = np.divide(1., np.abs(mean_V1), out=np.zeros_like(mean_V1), where=mean_V1 != 0)\n",
    "    # L_task = 1./np.abs(mean_V1)\n",
    "\n",
    "\n",
    "    BOLD_data = nib.load(BOLD_path_org).get_fdata() #(90, 128, 85, 850)\n",
    "    print(BOLD_data.shape)\n",
    "    selected_BOLD_data = BOLD_data[selected_voxels.astype(bool), :]\n",
    "    print(selected_BOLD_data.shape)\n",
    "    selected_BOLD_data_reshape = np.zeros((selected_BOLD_data.shape[0], num_total_trials, trial_len))\n",
    "    print(selected_BOLD_data_reshape.shape)\n",
    "    start = 0\n",
    "    for i in range(num_trials):\n",
    "        selected_BOLD_data_reshape[:, i, :] = selected_BOLD_data[:, start:start+trial_len]\n",
    "        start += trial_len\n",
    "        if start == 270 or start == 560:\n",
    "            start += 20\n",
    "    \n",
    "    print(selected_BOLD_data_reshape.shape)\n",
    "    selected_BOLD_data_subset = selected_BOLD_data_reshape[:, trial_indices, :]\n",
    "    print(selected_BOLD_data_subset.shape)\n",
    "\n",
    "    ## L_var matrix (contains variance of selected voxels)##\n",
    "    diff_mat = np.diff(selected_BOLD_data_subset, axis=1)\n",
    "    diff_mat_flat = diff_mat.reshape(diff_mat.shape[0], -1)\n",
    "    L_var = np.cov(diff_mat_flat, bias=False)\n",
    "    L_var = (L_var + L_var.T) / 2 + 1e-6 * np.eye(L_var.shape[0])\n",
    "    # C2 = diff_mat_flat @ diff_mat_flat.T\n",
    "    # L_var = C2 / selected_BOLD_data_reshape.shape[1]\n",
    "\n",
    "\n",
    "    ## L_smooth matrix (contains distance beyween selected voxels)##\n",
    "    anat_img_shape = anat_img.shape\n",
    "    coords = np.array(np.meshgrid(\n",
    "        np.arange(anat_img_shape[0]),\n",
    "        np.arange(anat_img_shape[1]),\n",
    "        np.arange(anat_img_shape[2]),\n",
    "        indexing='ij'\n",
    "    )).reshape(3, -1).T\n",
    "\n",
    "    # Convert to world (scanner/MNI) coordinates\n",
    "    world_coords = nib.affines.apply_affine(affine, coords)\n",
    "    tmp = selected_voxels.astype(bool).reshape(-1)\n",
    "    selected_world_coords = world_coords[tmp,:]\n",
    "    D = cdist(selected_world_coords, selected_world_coords)\n",
    "    sigma = np.median(D[D>0])\n",
    "    W = np.exp(-D**2 / (2*sigma**2))      # similarity\n",
    "    np.fill_diagonal(W, 0.0)\n",
    "    L_smooth = csgraph.laplacian(W, normed=False)\n",
    "    # L_smooth = csgraph.laplacian(D)\n",
    "\n",
    "    return L_task, L_var, L_smooth, selected_BOLD_data_subset.reshape(selected_BOLD_data_subset.shape[0], -1)"
   ]
  },
  {
   "cell_type": "code",
   "execution_count": null,
   "id": "bf86625e",
   "metadata": {},
   "outputs": [],
   "source": []
  },
  {
   "cell_type": "code",
   "execution_count": 17,
   "id": "82ca632d",
   "metadata": {},
   "outputs": [
    {
     "name": "stdout",
     "output_type": "stream",
     "text": [
      "(90, 128, 85, 850)\n",
      "(12558, 850)\n",
      "(12558, 90, 9)\n",
      "(12558, 90, 9)\n",
      "(12558, 45, 9)\n"
     ]
    }
   ],
   "source": [
    "L_task_val, L_var_val, L_smooth_val, tmp = calculate_matrices(betasmd, active_low_var_voxels, anat_img, affine, BOLD_path_org, val_idx, trial_len)\n",
    "\n",
    "fold_scores.append(objective_func(w, L_task_val, L_var_val, L_smooth_val, a_var, a_smooth, a_sparse))"
   ]
  },
  {
   "cell_type": "code",
   "execution_count": 30,
   "id": "d21fa5d0",
   "metadata": {},
   "outputs": [
    {
     "data": {
      "text/plain": [
       "[np.float64(0.7721797622785991), np.float64(0.7721797622785991)]"
      ]
     },
     "execution_count": 30,
     "metadata": {},
     "output_type": "execute_result"
    }
   ],
   "source": [
    "fold_scores"
   ]
  },
  {
   "cell_type": "code",
   "execution_count": 18,
   "id": "6270de64",
   "metadata": {},
   "outputs": [],
   "source": [
    "best_params = (a_var, a_smooth, a_sparse)"
   ]
  },
  {
   "cell_type": "code",
   "execution_count": 20,
   "id": "bdfd0326",
   "metadata": {},
   "outputs": [
    {
     "name": "stdout",
     "output_type": "stream",
     "text": [
      "(90, 128, 85, 850)\n",
      "(12558, 850)\n",
      "(12558, 90, 9)\n",
      "(12558, 90, 9)\n",
      "(12558, 90, 9)\n"
     ]
    },
    {
     "name": "stderr",
     "output_type": "stream",
     "text": [
      "(CVXPY) Sep 03 04:52:46 PM: Your problem has 12558 variables, 1 constraints, and 0 parameters.\n"
     ]
    },
    {
     "name": "stdout",
     "output_type": "stream",
     "text": [
      "===============================================================================\n",
      "                                     CVXPY                                     \n",
      "                                     v1.7.2                                    \n",
      "===============================================================================\n"
     ]
    },
    {
     "name": "stderr",
     "output_type": "stream",
     "text": [
      "(CVXPY) Sep 03 04:53:05 PM: It is compliant with the following grammars: DCP, DQCP\n",
      "(CVXPY) Sep 03 04:53:05 PM: (If you need to solve this problem multiple times, but with different data, consider using parameters.)\n",
      "(CVXPY) Sep 03 04:53:05 PM: CVXPY will first compile your problem; then, it will invoke a numerical solver to obtain a solution.\n",
      "(CVXPY) Sep 03 04:53:05 PM: Your problem is compiled with the CPP canonicalization backend.\n",
      "(CVXPY) Sep 03 04:53:05 PM: Compiling problem (target solver=OSQP).\n",
      "(CVXPY) Sep 03 04:53:05 PM: Reduction chain: CvxAttr2Constr -> Qp2SymbolicQp -> QpMatrixStuffing -> OSQP\n",
      "(CVXPY) Sep 03 04:53:05 PM: Applying reduction CvxAttr2Constr\n",
      "(CVXPY) Sep 03 04:53:05 PM: Applying reduction Qp2SymbolicQp\n",
      "(CVXPY) Sep 03 04:53:05 PM: Applying reduction QpMatrixStuffing\n"
     ]
    },
    {
     "name": "stdout",
     "output_type": "stream",
     "text": [
      "-------------------------------------------------------------------------------\n",
      "                                  Compilation                                  \n",
      "-------------------------------------------------------------------------------\n"
     ]
    },
    {
     "name": "stderr",
     "output_type": "stream",
     "text": [
      "(CVXPY) Sep 03 04:53:18 PM: Applying reduction OSQP\n",
      "(CVXPY) Sep 03 04:53:28 PM: Finished problem compilation (took 2.271e+01 seconds).\n",
      "(CVXPY) Sep 03 04:53:28 PM: Invoking solver OSQP  to obtain a solution.\n"
     ]
    },
    {
     "name": "stdout",
     "output_type": "stream",
     "text": [
      "-------------------------------------------------------------------------------\n",
      "                                Numerical solver                               \n",
      "-------------------------------------------------------------------------------\n",
      "-----------------------------------------------------------------\n",
      "           OSQP v1.0.0  -  Operator Splitting QP Solver\n",
      "              (c) The OSQP Developer Team\n",
      "-----------------------------------------------------------------\n",
      "problem:  variables n = 12558, constraints m = 12559\n",
      "          nnz(P) + nnz(A) = 78883077\n",
      "settings: algebra = Built-in,\n",
      "          OSQPInt = 4 bytes, OSQPFloat = 8 bytes,\n",
      "          linear system solver = QDLDL v0.1.8,\n",
      "          eps_abs = 1.0e-05, eps_rel = 1.0e-05,\n",
      "          eps_prim_inf = 1.0e-04, eps_dual_inf = 1.0e-04,\n",
      "          rho = 1.00e-01 (adaptive: 50 iterations),\n",
      "          sigma = 1.00e-06, alpha = 1.60, max_iter = 10000\n",
      "          check_termination: on (interval 25, duality gap: on),\n",
      "          time_limit: 1.00e+10 sec,\n",
      "          scaling: on (10 iterations), scaled_termination: off\n",
      "          warm starting: on, polishing: on, \n",
      "iter   objective    prim res   dual res   gap        rel kkt    rho         time\n",
      "   1   0.0000e+00   1.00e+00   5.34e+05  -5.34e+05   5.34e+05   1.00e-01    2.10e+02s\n",
      " 200   4.1627e-01   3.68e-06   3.55e-04  -1.47e-02   3.55e-04   1.00e-01    2.30e+02s\n",
      " 400   4.2729e-01   1.12e-06   1.11e-04  -5.40e-03   1.11e-04   1.00e-01    2.49e+02s\n",
      " 600   4.3081e-01   4.03e-07   4.49e-05  -2.07e-03   4.49e-05   1.00e-01    2.69e+02s\n",
      " 800   4.3211e-01   1.52e-07   1.73e-05  -8.00e-04   1.73e-05   1.00e-01    2.88e+02s\n",
      "1000   4.3260e-01   6.00e-08   6.85e-06  -3.16e-04   6.85e-06   1.00e-01    3.08e+02s\n",
      "1200   4.3279e-01   2.37e-08   2.70e-06  -1.25e-04   2.70e-06   1.00e-01    3.27e+02s\n",
      "1400   4.3287e-01   9.37e-09   1.07e-06  -4.94e-05   1.07e-06   1.00e-01    3.46e+02s\n",
      "1600   4.3290e-01   3.70e-09   4.22e-07  -1.96e-05   4.22e-07   1.00e-01    3.66e+02s\n",
      "1625   4.3290e-01   3.30e-09   3.76e-07  -1.74e-05   3.76e-07   1.00e-01    3.68e+02s\n"
     ]
    },
    {
     "name": "stderr",
     "output_type": "stream",
     "text": [
      "(CVXPY) Sep 03 05:03:05 PM: Problem status: optimal\n",
      "(CVXPY) Sep 03 05:03:05 PM: Optimal value: 4.329e-01\n",
      "(CVXPY) Sep 03 05:03:05 PM: Compilation took 2.271e+01 seconds\n",
      "(CVXPY) Sep 03 05:03:05 PM: Solver (including time spent in interface) took 5.767e+02 seconds\n"
     ]
    },
    {
     "name": "stdout",
     "output_type": "stream",
     "text": [
      "\n",
      "status:               solved\n",
      "solution polishing:   unsuccessful\n",
      "number of iterations: 1625\n",
      "optimal objective:    0.4329\n",
      "dual objective:       0.4329\n",
      "duality gap:          -1.7418e-05\n",
      "primal-dual integral: 5.3415e+05\n",
      "run time:             5.74e+02s\n",
      "optimal rho estimate: 4.51e-02\n",
      "\n",
      "-------------------------------------------------------------------------------\n",
      "                                    Summary                                    \n",
      "-------------------------------------------------------------------------------\n"
     ]
    }
   ],
   "source": [
    "L_task, L_var, L_smooth, selected_BOLD_data = calculate_matrices(betasmd, active_low_var_voxels, anat_img, affine, BOLD_path_org, None, trial_len)\n",
    "weights = optimize_voxel_weights(L_task, L_var, L_smooth, alpha_var=best_params[0], alpha_smooth=best_params[1], alpha_sparse=best_params[2])\n",
    "weight_img, masked_weights, y = select_opt_weight(selected_BOLD_data, weights, active_low_var_voxels.astype(bool), affine)"
   ]
  },
  {
   "cell_type": "code",
   "execution_count": 29,
   "id": "6bf08e99",
   "metadata": {},
   "outputs": [
    {
     "data": {
      "text/plain": [
       "[<matplotlib.lines.Line2D at 0x73a798d8b9b0>]"
      ]
     },
     "execution_count": 29,
     "metadata": {},
     "output_type": "execute_result"
    },
    {
     "data": {
      "image/png": "[encoded data removed]",
      "text/plain": [
       "<Figure size 640x480 with 1 Axes>"
      ]
     },
     "metadata": {},
     "output_type": "display_data"
    }
   ],
   "source": [
    "plt.plot(y[:200])"
   ]
  },
  {
   "cell_type": "code",
   "execution_count": null,
   "id": "011d8b24",
   "metadata": {},
   "outputs": [],
   "source": []
  },
  {
   "cell_type": "code",
   "execution_count": 15,
   "id": "7e321781",
   "metadata": {},
   "outputs": [
    {
     "data": {
      "text/plain": [
       "(90, 128, 85)"
      ]
     },
     "execution_count": 15,
     "metadata": {},
     "output_type": "execute_result"
    }
   ],
   "source": [
    "active_low_var_voxels.shape"
   ]
  },
  {
   "cell_type": "code",
   "execution_count": 14,
   "id": "187fd5d2",
   "metadata": {},
   "outputs": [
    {
     "data": {
      "text/plain": [
       "array([[ 6.93872060e+03, -9.97731913e-01, -9.80884428e-01, ...,\n",
       "        -2.23385244e-01, -2.22726814e-01, -2.21969498e-01],\n",
       "       [-9.97731913e-01,  6.94653606e+03, -9.67611500e-01, ...,\n",
       "        -2.22878587e-01, -2.22322591e-01, -2.21667293e-01],\n",
       "       [-9.80884428e-01, -9.67611500e-01,  6.77298910e+03, ...,\n",
       "        -2.22120755e-01, -2.21667293e-01, -2.21114319e-01],\n",
       "       ...,\n",
       "       [-2.23385244e-01, -2.22878587e-01, -2.22120755e-01, ...,\n",
       "         6.96228248e+03, -9.99772959e-01, -9.99092147e-01],\n",
       "       [-2.22726814e-01, -2.22322591e-01, -2.21667293e-01, ...,\n",
       "        -9.99772959e-01,  6.94997881e+03, -9.99772959e-01],\n",
       "       [-2.21969498e-01, -2.21667293e-01, -2.21114319e-01, ...,\n",
       "        -9.99092147e-01, -9.99772959e-01,  6.93524128e+03]],\n",
       "      shape=(12558, 12558))"
      ]
     },
     "execution_count": 14,
     "metadata": {},
     "output_type": "execute_result"
    }
   ],
   "source": [
    "L_smooth_val"
   ]
  },
  {
   "cell_type": "code",
   "execution_count": null,
   "id": "929a3399",
   "metadata": {},
   "outputs": [],
   "source": []
  },
  {
   "cell_type": "code",
   "execution_count": null,
   "id": "9461289c",
   "metadata": {},
   "outputs": [],
   "source": []
  },
  {
   "cell_type": "code",
   "execution_count": 40,
   "id": "e17fd0ee",
   "metadata": {},
   "outputs": [
    {
     "data": {
      "text/plain": [
       "(90, 128, 85)"
      ]
     },
     "execution_count": 40,
     "metadata": {},
     "output_type": "execute_result"
    }
   ],
   "source": [
    "active_low_var_voxels.shape"
   ]
  },
  {
   "cell_type": "code",
   "execution_count": 39,
   "id": "fa47f74a",
   "metadata": {},
   "outputs": [
    {
     "data": {
      "text/plain": [
       "array([0.00021066, 0.00021004, 0.00021383, ..., 0.00020997, 0.00021056,\n",
       "       0.00021097], shape=(12558,))"
      ]
     },
     "execution_count": 39,
     "metadata": {},
     "output_type": "execute_result"
    }
   ],
   "source": [
    "np.asarray(w.value).ravel()"
   ]
  },
  {
   "cell_type": "code",
   "execution_count": 34,
   "id": "608c69f6",
   "metadata": {},
   "outputs": [
    {
     "data": {
      "text/plain": [
       "np.float64(0.0)"
      ]
     },
     "execution_count": 34,
     "metadata": {},
     "output_type": "execute_result"
    }
   ],
   "source": [
    "w.value.max()"
   ]
  },
  {
   "cell_type": "code",
   "execution_count": 10,
   "id": "a985d7e8",
   "metadata": {},
   "outputs": [
    {
     "data": {
      "text/plain": [
       "np.float64(0.0)"
      ]
     },
     "execution_count": 10,
     "metadata": {},
     "output_type": "execute_result"
    }
   ],
   "source": [
    "best_score"
   ]
  },
  {
   "cell_type": "code",
   "execution_count": null,
   "id": "222d4933",
   "metadata": {},
   "outputs": [],
   "source": [
    "selected_voxels, trial_indices = active_low_var_voxels, None\n",
    "\n",
    "## L_task Vector (contains beta values for selected voxels)##\n",
    "num_total_trials = betasmd.shape[-1]\n",
    "if trial_indices is None:\n",
    "    trial_indices = np.arange(num_total_trials)\n",
    "\n",
    "V1 = betasmd[selected_voxels.astype(bool), :][:, trial_indices]\n",
    "mean_V1 = np.mean(V1, axis=-1)\n",
    "L_task = np.divide(1., np.abs(mean_V1), out=np.zeros_like(mean_V1), where=mean_V1 != 0)\n",
    "# L_task = 1./np.abs(mean_V1)\n",
    "\n",
    "\n",
    "BOLD_data = nib.load(BOLD_path_org).get_fdata() #(90, 128, 85, 850)\n",
    "selected_BOLD_data = BOLD_data[selected_voxels.astype(bool), :]\n",
    "selected_BOLD_data_reshape = np.zeros((selected_BOLD_data.shape[0], num_total_trials, trial_len))\n",
    "start = 0\n",
    "for i in range(num_trials):\n",
    "    selected_BOLD_data_reshape[:, i, :] = selected_BOLD_data[:, start:start+trial_len]\n",
    "    start += trial_len\n",
    "    if start == 270 or start == 560:\n",
    "        start += 20\n",
    "selected_BOLD_data_subset = selected_BOLD_data_reshape[:, trial_indices, :]\n",
    "\n",
    "## L_var matrix (contains variance of selected voxels)##\n",
    "diff_mat = np.diff(selected_BOLD_data_subset, axis=1)\n",
    "diff_mat_flat = diff_mat.reshape(diff_mat.shape[0], -1)\n",
    "L_var = np.cov(diff_mat_flat, bias=False)\n",
    "L_var = (L_var + L_var.T) / 2 + 1e-6 * np.eye(L_var.shape[0])\n",
    "# C2 = diff_mat_flat @ diff_mat_flat.T\n",
    "# L_var = C2 / selected_BOLD_data_reshape.shape[1]\n",
    "\n",
    "\n",
    "## L_smooth matrix (contains distance beyween selected voxels)##\n",
    "anat_img_shape = anat_img.shape\n",
    "coords = np.array(np.meshgrid(\n",
    "    np.arange(anat_img_shape[0]),\n",
    "    np.arange(anat_img_shape[1]),\n",
    "    np.arange(anat_img_shape[2]),\n",
    "    indexing='ij'\n",
    ")).reshape(3, -1).T\n",
    "\n",
    "# Convert to world (scanner/MNI) coordinates\n",
    "world_coords = nib.affines.apply_affine(affine, coords)\n",
    "tmp = selected_voxels.astype(bool).reshape(-1)\n",
    "selected_world_coords = world_coords[tmp,:]\n",
    "D = cdist(selected_world_coords, selected_world_coords)\n",
    "sigma = np.median(D[D>0])\n",
    "W = np.exp(-D**2 / (2*sigma**2))      # similarity\n",
    "np.fill_diagonal(W, 0.0)\n",
    "L_smooth = csgraph.laplacian(W, normed=False)\n",
    "# L_smooth = csgraph.laplacian(D)"
   ]
  },
  {
   "cell_type": "code",
   "execution_count": null,
   "id": "9a8c32a9",
   "metadata": {},
   "outputs": [],
   "source": [
    "L_task, L_var, L_smooth, selected_BOLD_data = calculate_matrices(betasmd, active_low_var_voxels, anat_img, affine, BOLD_path_org, None, trial_len)"
   ]
  },
  {
   "cell_type": "code",
   "execution_count": null,
   "id": "c0b28ed2",
   "metadata": {},
   "outputs": [],
   "source": [
    "# %% \n",
    "\n",
    "weights = optimize_voxel_weights(L_task, L_var, L_smooth, alpha_var=0.1, alpha_smooth=0.1, alpha_sparse=0.01)\n",
    "weight_img, masked_weights, y = select_opt_weight(selected_BOLD_data, weights, active_low_var_voxels.astype(bool), affine)\n",
    "\n",
    "np.save(\"best_params.npy\", best_params)\n",
    "np.save(\"masked_weights.npy\", masked_weights)\n",
    "np.save(\"all_weights.npy\", weight_img)\n",
    "np.save(\"reconstructed_sig.npy\",y)\n",
    "\n",
    "\n",
    "save_path = f\"opt_5_percent_weight_on_brain_session{ses}_run{run}.png\"\n",
    "plot_on_brain(anat_img, weight_img, save_path)\n",
    "\n",
    "finish = 1\n"
   ]
  }
 ],
 "metadata": {
  "kernelspec": {
   "display_name": ".venv",
   "language": "python",
   "name": "python3"
  },
  "language_info": {
   "codemirror_mode": {
    "name": "ipython",
    "version": 3
   },
   "file_extension": ".py",
   "mimetype": "text/x-python",
   "name": "python",
   "nbconvert_exporter": "python",
   "pygments_lexer": "ipython3",
   "version": "3.12.11"
  }
 },
 "nbformat": 4,
 "nbformat_minor": 5
}
