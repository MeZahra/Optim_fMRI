{
 "cells": [
  {
   "cell_type": "code",
   "execution_count": 14,
   "id": "711c4269",
   "metadata": {},
   "outputs": [],
   "source": [
    "import nibabel as nib\n",
    "import numpy as np\n",
    "import matplotlib.pylab as plt\n",
    "import cvxpy as cp\n",
    "import pandas as pd\n",
    "from os.path import join\n",
    "from scipy.spatial.distance import cdist\n",
    "from scipy.sparse import csgraph\n",
    "from scipy.stats import skew, kurtosis\n",
    "from itertools import product\n",
    "from sklearn.model_selection import KFold\n",
    "from matplotlib.animation import FuncAnimation\n",
    "from nilearn import masking\n",
    "from nilearn.image import new_img_like\n",
    "from nilearn.plotting import plot_stat_map, view_img\n",
    "import os, sys\n",
    "from config import Config\n",
    "from pathlib import Path\n",
    "from nilearn.image import mean_img\n",
    "from nilearn.image import resample_to_img\n",
    "import warnings"
   ]
  },
  {
   "cell_type": "code",
   "execution_count": 15,
   "id": "19eedcf8",
   "metadata": {},
   "outputs": [],
   "source": [
    "ses = 1\n",
    "sub = '04'\n",
    "runs_to_process = [1, 2]\n",
    "\n",
    "anat_img = nib.load(f'/mnt/TeamShare/Data_Masterfile/H20-00572_All-Dressed/PRECISIONSTIM_PD_Data_Results/fMRI_preprocessed_data/Rev_pipeline/derivatives/sub-pd0{sub}/ses-{ses}/anat/sub-pd0{sub}_ses-{ses}_T1w_brain_2mm.nii.gz')\n",
    "\n",
    "base_path = '/mnt/TeamShare/Data_Masterfile/H20-00572_All-Dressed/PRECISIONSTIM_PD_Data_Results/fMRI_preprocessed_data/Rev_pipeline/derivatives'\n",
    "\n",
    "fmt = lambda x: f\"{x:.3f}\"\n",
    "fmt_arr = lambda a: np.array2string(np.asarray(a), precision=3, separator=', ', suppress_small=True)"
   ]
  },
  {
   "cell_type": "code",
   "execution_count": 16,
   "id": "2f698fff",
   "metadata": {},
   "outputs": [],
   "source": [
    "def remove_background(mask, bold_img, bold_data, R2, beta):\n",
    "    mask_in_bold_img = resample_to_img(\n",
    "        source_img=mask,\n",
    "        target_img=bold_img,\n",
    "        interpolation='nearest',\n",
    "        force_resample=True,\n",
    "        copy_header=True,\n",
    "    )\n",
    "    mask_in_bold = mask_in_bold_img.get_fdata().astype(bool)\n",
    "\n",
    "    masked_timeseries_3d = np.where(mask_in_bold[..., None], bold_data, 0)\n",
    "\n",
    "    active_voxels = np.any(masked_timeseries_3d != 0, axis=-1)\n",
    "    coords = np.array(np.where(active_voxels)).T\n",
    "    if coords.size == 0:\n",
    "        return masked_timeseries_3d, 0, 0, 0, R2, beta\n",
    "\n",
    "    xmin, ymin, zmin = coords.min(axis=0)\n",
    "    xmax, ymax, zmax = coords.max(axis=0)\n",
    "\n",
    "    masked_timeseries_3d_cropped = masked_timeseries_3d[xmin:xmax+1, ymin:ymax+1, zmin:zmax+1, :]\n",
    "    R2_cropped = R2[xmin:xmax+1, ymin:ymax+1, zmin:zmax+1]\n",
    "    beta_cropped = beta[xmin:xmax+1, ymin:ymax+1, zmin:zmax+1]\n",
    "    return masked_timeseries_3d_cropped, xmin, ymin, zmin, R2_cropped, beta_cropped\n",
    "\n",
    "def save_beta_html(beta_3d, anat_img, bold_img, A, title, fname):\n",
    "    with warnings.catch_warnings():\n",
    "        warnings.filterwarnings(\"ignore\", message=\".*symmetric_cmap=False.*\", category=UserWarning)\n",
    "        warnings.filterwarnings(\"ignore\", message=\".*vmin cannot be chosen when cmap is symmetric.*\", category=UserWarning)\n",
    "\n",
    "    # Keep only finite voxels; set the rest to 0 so we can threshold them away\n",
    "    finite = np.isfinite(beta_3d)\n",
    "    beta_filled = np.where(finite, beta_3d, 0.0)\n",
    "\n",
    "    # Pick a symmetric range from percentiles of finite voxels\n",
    "    vmax = np.nanpercentile(beta_3d[finite], 99)  \n",
    "    vmin = np.nanpercentile(beta_3d[finite], 1)\n",
    "    print(\"Colormap Range: [\", vmax, \",\", vmin, \"]\")\n",
    "\n",
    "    # Small threshold hides zeros/very small values (the “white” part)\n",
    "    thr = 1e-6 \n",
    "\n",
    "    beta_on_anat = nib.Nifti1Image(beta_filled, A, bold_img.header)\n",
    "    \n",
    "    view = view_img(\n",
    "        beta_on_anat,\n",
    "        bg_img=anat_img,\n",
    "        cmap='seismic',\n",
    "        symmetric_cmap=False,\n",
    "        vmax=vmax,\n",
    "        vmin=vmin,\n",
    "        threshold=thr,  \n",
    "        colorbar=True,\n",
    "        title=title,\n",
    "    )\n",
    "    view.save_as_html(file_name=fname)\n",
    "\n",
    "def robust_vrange(img, lo=2, hi=98):\n",
    "    \"\"\"Percentile-based vmin/vmax on plain ndarray (no masked array).\"\"\"\n",
    "    data = np.asarray(img.get_fdata(), dtype=float)\n",
    "    data = data[np.isfinite(data)]\n",
    "    if data.size == 0:\n",
    "        return 0.0, 1.0\n",
    "    vmin, vmax = np.percentile(data, [lo, hi])\n",
    "    return float(vmin), float(vmax)\n",
    "\n",
    "def plot_beta_hist(beta_value, xlim_range=None, title=None):\n",
    "    plt.figure()\n",
    "    plt.hist(beta_value.ravel(), bins=10)\n",
    "    plt.xlabel('Beta Value')\n",
    "    plt.ylabel('Count')\n",
    "    if xlim_range:\n",
    "        plt.xlim(xlim_range)\n",
    "    if title:\n",
    "        plt.title(title)\n",
    "    plt.show()\n"
   ]
  },
  {
   "cell_type": "code",
   "execution_count": 17,
   "id": "dc727933",
   "metadata": {},
   "outputs": [],
   "source": [
    "glm_dict = np.load('/home/zkavian/thesis_code_git/GLMOutputs-sub04-ses1/TYPED_FITHRF_GLMDENOISE_RR.npy', allow_pickle=True).item()\n",
    "beta = glm_dict['betasmd']\n",
    "beta_run1, beta_run2 = beta[..., :90], beta[..., 90:]\n",
    "R2_run1, R2_run2 = glm_dict['R2run'][:,:,:,0], glm_dict['R2run'][:,:,:,1]\n",
    "\n",
    "mask_path = f'/mnt/TeamShare/Data_Masterfile/H20-00572_All-Dressed/PRECISIONSTIM_PD_Data_Results/fMRI_preprocessed_data/Rev_pipeline/derivatives/sub-pd0{sub}/ses-{ses}/anat/sub-pd0{sub}_ses-{ses}_T1w_brain_mask.nii.gz'\n",
    "mask = nib.load(mask_path)\n",
    "\n",
    "run = 1\n",
    "data_name = f'sub-pd0{sub}_ses-{ses}_run-{run}_task-mv_bold_corrected_smoothed_reg_2mm.nii.gz'\n",
    "BOLD_path_org = join(base_path, f'sub-pd0{sub}', f'ses-{ses}', 'func', data_name)\n",
    "bold_img_run1 = nib.load(BOLD_path_org)\n",
    "func_img = nib.as_closest_canonical(bold_img_run1)\n",
    "bold_data_run1 = bold_img_run1.get_fdata()\n",
    "\n",
    "bold_can = nib.as_closest_canonical(bold_img_run1)\n",
    "beta_img_can = nib.Nifti1Image(glm_dict['betasmd'].astype(np.float32),\n",
    "                               bold_can.affine, bold_can.header)\n",
    "\n",
    "# Now resample betas into the actual BOLD run grid\n",
    "beta_img_in_bold = resample_to_img(beta_img_can, bold_img_run1, interpolation='continuous')\n",
    "betas_in_bold = beta_img_in_bold.get_fdata() \n",
    "\n",
    "bold_data_run1_masked, xmin1, ymin1, zmin1, R2_run1_masked, beta_run1_masked = remove_background(mask, bold_img_run1, bold_data_run1, \n",
    "                                                                                                 R2_run1, beta_run1)\n",
    "A1 = bold_img_run1.affine.copy()\n",
    "A1[:3, 3] = A1[:3, 3] + A1[:3, :3] @ np.array([xmin1, ymin1, zmin1], dtype=float)\n",
    "\n",
    "run = 2\n",
    "data_name = f'sub-pd0{sub}_ses-{ses}_run-{runs_to_process[1]}_task-mv_bold_corrected_smoothed_reg_2mm.nii.gz'\n",
    "BOLD_path_org = join(base_path, f'sub-pd0{sub}', f'ses-{ses}', 'func', data_name)\n",
    "bold_img_run2 = nib.load(BOLD_path_org)\n",
    "func_img = nib.as_closest_canonical(bold_img_run2)\n",
    "bold_data_run2 = bold_img_run2.get_fdata()\n",
    "bold_data_run2_masked, xmin2, ymin2, zmin2, R2_run2_masked, beta_run2_masked = remove_background(mask, bold_img_run2, \n",
    "                                                                                                 bold_data_run2, R2_run2, beta_run2)\n",
    "A2 = bold_img_run2.affine.copy()\n",
    "A2[:3, 3] = A2[:3, 3] + A2[:3, :3] @ np.array([xmin2, ymin2, zmin2], dtype=float)"
   ]
  },
  {
   "cell_type": "code",
   "execution_count": 18,
   "id": "94164196",
   "metadata": {},
   "outputs": [
    {
     "data": {
      "text/plain": [
       "(4, 4)"
      ]
     },
     "execution_count": 18,
     "metadata": {},
     "output_type": "execute_result"
    }
   ],
   "source": [
    "A1.shape"
   ]
  },
  {
   "cell_type": "code",
   "execution_count": 19,
   "id": "517578f8",
   "metadata": {},
   "outputs": [
    {
     "data": {
      "text/plain": [
       "(59, 79, 72, 90)"
      ]
     },
     "execution_count": 19,
     "metadata": {},
     "output_type": "execute_result"
    }
   ],
   "source": [
    "beta_run1_masked.shape"
   ]
  },
  {
   "cell_type": "code",
   "execution_count": 20,
   "id": "92b0c17e",
   "metadata": {},
   "outputs": [
    {
     "name": "stderr",
     "output_type": "stream",
     "text": [
      "/home/zkavian/thesis_code_git/.venv/lib/python3.12/site-packages/numpy/_core/fromnumeric.py:868: UserWarning: Warning: 'partition' will ignore the 'mask' of the MaskedArray.\n",
      "  a.partition(kth, axis=axis, kind=kind, order=order)\n"
     ]
    }
   ],
   "source": [
    "bold_img_masked_run1 = nib.Nifti1Image(bold_data_run1_masked, A1, bold_img_run1.header)\n",
    "bold_mean_masked_run1 = mean_img(bold_img_masked_run1, copy_header=True)\n",
    "view = view_img(bold_mean_masked_run1, bg_img=anat_img, title='Masked BOLD Image on Anatomic Brain')\n",
    "view.save_as_html(f\"Masked_BOLD_data_on_anat_sub{sub}_ses{ses}_run{run}.html\")"
   ]
  },
  {
   "cell_type": "code",
   "execution_count": 21,
   "id": "41d46d73",
   "metadata": {},
   "outputs": [
    {
     "name": "stdout",
     "output_type": "stream",
     "text": [
      "Beta Range: 12023.0693359375, -2978.960693359375, mean: 0.012000038047560847\n",
      "Beta Range: 2182.961669921875, -4227.345703125, mean: 0.024143908404541038\n"
     ]
    },
    {
     "data": {
      "image/png": "[encoded data removed]",
      "text/plain": [
       "<Figure size 640x480 with 1 Axes>"
      ]
     },
     "metadata": {},
     "output_type": "display_data"
    },
    {
     "data": {
      "image/png": "[encoded data removed]",
      "text/plain": [
       "<Figure size 640x480 with 1 Axes>"
      ]
     },
     "metadata": {},
     "output_type": "display_data"
    },
    {
     "name": "stdout",
     "output_type": "stream",
     "text": [
      "== Run1 ==\n",
      "Number of Voxels: 335592, thr: None\n",
      "Number of Voxels: 204, thr: 10\n",
      "Number of Voxels: 496, thr: 6\n",
      "Number of Voxels: 1543, thr: 3\n",
      "== Run2 ==\n",
      "Number of Voxels: 335592, thr: None\n",
      "Number of Voxels: 78, thr: 10\n",
      "Number of Voxels: 218, thr: 6\n",
      "Number of Voxels: 954, thr: 3\n"
     ]
    }
   ],
   "source": [
    "# Remove Voxles with NaN value\n",
    "mask = np.isfinite(beta_run1_masked)\n",
    "beta_run1_without_nan = np.full(beta_run1_masked.shape, np.nan, dtype=float)\n",
    "beta_run1_without_nan[mask] = beta_run1_masked[mask]\n",
    "\n",
    "mask = np.isfinite(beta_run2_masked)\n",
    "beta_run2_without_nan = np.full(beta_run2_masked.shape, np.nan, dtype=float)\n",
    "beta_run2_without_nan[mask] = beta_run2_masked[mask]\n",
    "\n",
    "mask = np.isfinite(R2_run1_masked)\n",
    "R2_run1_without_nan = np.full(R2_run1_masked.shape, np.nan, dtype=float)\n",
    "R2_run1_without_nan[mask] = R2_run1_masked[mask]\n",
    "\n",
    "mask = np.isfinite(R2_run2_masked)\n",
    "R2_run2_without_nan = np.full(R2_run2_masked.shape, np.nan, dtype=float)\n",
    "R2_run2_without_nan[mask] = R2_run2_masked[mask]\n",
    "\n",
    "print(f\"Beta Range: {np.nanmax(beta_run1_without_nan)}, {np.nanmin(beta_run1_without_nan)}, mean: {np.nanmean(beta_run1_without_nan)}\")\n",
    "print(f\"Beta Range: {np.nanmax(beta_run2_without_nan)}, {np.nanmin(beta_run2_without_nan)}, mean: {np.nanmean(beta_run2_without_nan)}\")\n",
    "plot_beta_hist(beta_run1_without_nan)\n",
    "plot_beta_hist(beta_run2_without_nan)\n",
    "\n",
    "beta_mean_run1_without_nan = np.mean(beta_run1_without_nan, axis=-1)\n",
    "beta_mean_run2_without_nan = np.mean(beta_run2_without_nan, axis=-1)\n",
    "\n",
    "\n",
    "thr_list = [None, 10, 6, 3]\n",
    "print(\"== Run1 ==\")\n",
    "for thr in thr_list:\n",
    "    if thr is not None:\n",
    "        mask = beta_mean_run1_without_nan >= thr\n",
    "    else:\n",
    "        mask = beta_mean_run1_without_nan\n",
    "        \n",
    "    count = int(np.count_nonzero(mask))\n",
    "    print(f\"Number of Voxels: {int(count)}, thr: {thr}\")\n",
    "\n",
    "print(\"== Run2 ==\")\n",
    "for thr in thr_list:\n",
    "    if thr is not None:\n",
    "        mask = beta_mean_run2_without_nan >= thr\n",
    "    else:\n",
    "        mask = beta_mean_run2_without_nan\n",
    "        \n",
    "    count = int(np.count_nonzero(mask))\n",
    "    print(f\"Number of Voxels: {int(count)}, thr: {thr}\")"
   ]
  },
  {
   "cell_type": "code",
   "execution_count": 23,
   "id": "bb28fd50",
   "metadata": {},
   "outputs": [
    {
     "ename": "TypeError",
     "evalue": "ufunc 'isfinite' not supported for the input types, and the inputs could not be safely coerced to any supported types according to the casting rule ''safe''",
     "output_type": "error",
     "traceback": [
      "\u001b[31m---------------------------------------------------------------------------\u001b[39m",
      "\u001b[31mTypeError\u001b[39m                                 Traceback (most recent call last)",
      "\u001b[36mCell\u001b[39m\u001b[36m \u001b[39m\u001b[32mIn[23]\u001b[39m\u001b[32m, line 2\u001b[39m\n\u001b[32m      1\u001b[39m beta_mean_run1_without_nan_img = nib.Nifti1Image(beta_mean_run1_without_nan, A1, bold_img_run1.header)\n\u001b[32m----> \u001b[39m\u001b[32m2\u001b[39m \u001b[43msave_beta_html\u001b[49m\u001b[43m(\u001b[49m\u001b[43mbeta_mean_run1_without_nan_img\u001b[49m\u001b[43m,\u001b[49m\u001b[43m \u001b[49m\u001b[43manat_img\u001b[49m\u001b[43m,\u001b[49m\u001b[43m \u001b[49m\u001b[43mbold_img_run1\u001b[49m\u001b[43m,\u001b[49m\u001b[43m \u001b[49m\u001b[43mA1\u001b[49m\u001b[43m,\u001b[49m\u001b[43m \u001b[49m\u001b[33;43m'\u001b[39;49m\u001b[33;43m'\u001b[39;49m\u001b[43m,\u001b[49m\u001b[43m \u001b[49m\u001b[43mfname\u001b[49m\u001b[43m=\u001b[49m\u001b[33;43mf\u001b[39;49m\u001b[33;43m\"\u001b[39;49m\u001b[33;43mMasked_beta_data_without_nan_sub\u001b[39;49m\u001b[38;5;132;43;01m{\u001b[39;49;00m\u001b[43msub\u001b[49m\u001b[38;5;132;43;01m}\u001b[39;49;00m\u001b[33;43m_ses\u001b[39;49m\u001b[38;5;132;43;01m{\u001b[39;49;00m\u001b[43mses\u001b[49m\u001b[38;5;132;43;01m}\u001b[39;49;00m\u001b[33;43m_run\u001b[39;49m\u001b[38;5;132;43;01m{\u001b[39;49;00m\u001b[43mrun\u001b[49m\u001b[38;5;132;43;01m}\u001b[39;49;00m\u001b[33;43m.html\u001b[39;49m\u001b[33;43m\"\u001b[39;49m\u001b[43m)\u001b[49m\n\u001b[32m      3\u001b[39m \u001b[38;5;66;03m# view = view_img(beta_mean_run1_without_nan_img, bg_img=anat_img, title='Masked BOLD Image on Anatomic Brain')\u001b[39;00m\n\u001b[32m      4\u001b[39m \u001b[38;5;66;03m# view.save_as_html(f\"Masked_beta_data_without_nan_sub{sub}_ses{ses}_run{run}.html\")\u001b[39;00m\n",
      "\u001b[36mCell\u001b[39m\u001b[36m \u001b[39m\u001b[32mIn[16]\u001b[39m\u001b[32m, line 32\u001b[39m, in \u001b[36msave_beta_html\u001b[39m\u001b[34m(beta_3d, anat_img, bold_img, A, title, fname)\u001b[39m\n\u001b[32m     29\u001b[39m     warnings.filterwarnings(\u001b[33m\"\u001b[39m\u001b[33mignore\u001b[39m\u001b[33m\"\u001b[39m, message=\u001b[33m\"\u001b[39m\u001b[33m.*vmin cannot be chosen when cmap is symmetric.*\u001b[39m\u001b[33m\"\u001b[39m, category=\u001b[38;5;167;01mUserWarning\u001b[39;00m)\n\u001b[32m     31\u001b[39m \u001b[38;5;66;03m# Keep only finite voxels; set the rest to 0 so we can threshold them away\u001b[39;00m\n\u001b[32m---> \u001b[39m\u001b[32m32\u001b[39m finite = \u001b[43mnp\u001b[49m\u001b[43m.\u001b[49m\u001b[43misfinite\u001b[49m\u001b[43m(\u001b[49m\u001b[43mbeta_3d\u001b[49m\u001b[43m)\u001b[49m\n\u001b[32m     33\u001b[39m beta_filled = np.where(finite, beta_3d, \u001b[32m0.0\u001b[39m)\n\u001b[32m     35\u001b[39m \u001b[38;5;66;03m# Pick a symmetric range from percentiles of finite voxels\u001b[39;00m\n",
      "\u001b[31mTypeError\u001b[39m: ufunc 'isfinite' not supported for the input types, and the inputs could not be safely coerced to any supported types according to the casting rule ''safe''"
     ]
    }
   ],
   "source": [
    "beta_mean_run1_without_nan_img = nib.Nifti1Image(beta_mean_run1_without_nan, A1, bold_img_run1.header)\n",
    "# save_beta_html(beta_mean_run1_without_nan_img, anat_img, bold_img_run1, A1, '', fname=f\"Masked_beta_data_without_nan_sub{sub}_ses{ses}_run{run}.html\")\n",
    "view = view_img(beta_mean_run1_without_nan_img, bg_img=anat_img, title='Masked BOLD Image on Anatomic Brain')\n",
    "view.save_as_html(f\"Masked_beta_data_without_nan_sub{sub}_ses{ses}_run{run}.html\")"
   ]
  },
  {
   "cell_type": "code",
   "execution_count": 6,
   "id": "caf6dfa4",
   "metadata": {},
   "outputs": [
    {
     "name": "stdout",
     "output_type": "stream",
     "text": [
      "Colormap Range: [ 32.19494162216444 , 3.021621630707963 ]\n"
     ]
    },
    {
     "name": "stderr",
     "output_type": "stream",
     "text": [
      "/home/zkavian/thesis_code_git/.venv/lib/python3.12/site-packages/numpy/_core/fromnumeric.py:868: UserWarning: Warning: 'partition' will ignore the 'mask' of the MaskedArray.\n",
      "  a.partition(kth, axis=axis, kind=kind, order=order)\n"
     ]
    },
    {
     "name": "stdout",
     "output_type": "stream",
     "text": [
      "Colormap Range: [ 38.7734891083373 , 3.0129461417206462 ]\n"
     ]
    },
    {
     "name": "stderr",
     "output_type": "stream",
     "text": [
      "/home/zkavian/thesis_code_git/.venv/lib/python3.12/site-packages/numpy/_core/fromnumeric.py:868: UserWarning: Warning: 'partition' will ignore the 'mask' of the MaskedArray.\n",
      "  a.partition(kth, axis=axis, kind=kind, order=order)\n"
     ]
    },
    {
     "name": "stdout",
     "output_type": "stream",
     "text": [
      "Colormap Range: [ 53.77159817923072 , 6.035050927926269 ]\n"
     ]
    },
    {
     "name": "stderr",
     "output_type": "stream",
     "text": [
      "/home/zkavian/thesis_code_git/.venv/lib/python3.12/site-packages/numpy/_core/fromnumeric.py:868: UserWarning: Warning: 'partition' will ignore the 'mask' of the MaskedArray.\n",
      "  a.partition(kth, axis=axis, kind=kind, order=order)\n"
     ]
    },
    {
     "name": "stdout",
     "output_type": "stream",
     "text": [
      "Colormap Range: [ 50.4205756239758 , 6.051966881285111 ]\n"
     ]
    },
    {
     "name": "stderr",
     "output_type": "stream",
     "text": [
      "/home/zkavian/thesis_code_git/.venv/lib/python3.12/site-packages/numpy/_core/fromnumeric.py:868: UserWarning: Warning: 'partition' will ignore the 'mask' of the MaskedArray.\n",
      "  a.partition(kth, axis=axis, kind=kind, order=order)\n"
     ]
    },
    {
     "name": "stdout",
     "output_type": "stream",
     "text": [
      "Colormap Range: [ 102.43567567271654 , 10.115520652363697 ]\n"
     ]
    },
    {
     "name": "stderr",
     "output_type": "stream",
     "text": [
      "/home/zkavian/thesis_code_git/.venv/lib/python3.12/site-packages/numpy/_core/fromnumeric.py:868: UserWarning: Warning: 'partition' will ignore the 'mask' of the MaskedArray.\n",
      "  a.partition(kth, axis=axis, kind=kind, order=order)\n"
     ]
    },
    {
     "name": "stdout",
     "output_type": "stream",
     "text": [
      "Colormap Range: [ 53.108669317974005 , 10.162649302877485 ]\n"
     ]
    },
    {
     "name": "stderr",
     "output_type": "stream",
     "text": [
      "/home/zkavian/thesis_code_git/.venv/lib/python3.12/site-packages/numpy/_core/fromnumeric.py:868: UserWarning: Warning: 'partition' will ignore the 'mask' of the MaskedArray.\n",
      "  a.partition(kth, axis=axis, kind=kind, order=order)\n"
     ]
    }
   ],
   "source": [
    "thr_list = [3, 6, 10]\n",
    "\n",
    "for thr in thr_list:\n",
    "    beta_run1_outline = np.full(beta_mean_run1_without_nan.shape, np.nan, dtype=float)\n",
    "    mask = beta_mean_run1_without_nan>=thr\n",
    "    beta_run1_outline[mask] = beta_mean_run1_without_nan[mask] \n",
    "    save_beta_html(beta_run1_outline, anat_img, bold_img_run1, A1, f\"Removed Beta\", f\"thr{thr}_outline_beta_sub{sub}_ses{ses}_run1.html\")\n",
    "    \n",
    "    beta_run2_outline = np.full(beta_mean_run2_without_nan.shape, np.nan, dtype=float)\n",
    "    mask = beta_mean_run2_without_nan>=thr\n",
    "    beta_run2_outline[mask] = beta_mean_run2_without_nan[mask] \n",
    "    save_beta_html(beta_run2_outline, anat_img, bold_img_run2, A1, f\"Removed Beta\", f\"thr{thr}_outline_beta_sub{sub}_ses{ses}_run2.html\")"
   ]
  },
  {
   "cell_type": "code",
   "execution_count": 7,
   "id": "67fe162e",
   "metadata": {},
   "outputs": [],
   "source": [
    "beta_run1_outline = np.full(beta_run1_without_nan.shape, np.nan, dtype=float)\n",
    "mask = beta_run1_without_nan>=10\n",
    "beta_run1_outline[~mask] = beta_run1_without_nan[~mask]\n",
    "    \n",
    "\n",
    "mask = beta_mean_run1_without_nan>=10\n",
    "R2_run1_without_nan_outline = np.full(R2_run1_without_nan.shape, np.nan, dtype=float)\n",
    "R2_run1_without_nan_outline[~mask] = R2_run1_without_nan[~mask]"
   ]
  },
  {
   "cell_type": "code",
   "execution_count": 8,
   "id": "90e666ca",
   "metadata": {},
   "outputs": [
    {
     "data": {
      "text/plain": [
       "Text(0.5, 0, 'R^2')"
      ]
     },
     "execution_count": 8,
     "metadata": {},
     "output_type": "execute_result"
    },
    {
     "data": {
      "image/png": "[encoded data removed]",
      "text/plain": [
       "<Figure size 640x480 with 1 Axes>"
      ]
     },
     "metadata": {},
     "output_type": "display_data"
    }
   ],
   "source": [
    "plt.hist(R2_run1_without_nan[mask])\n",
    "plt.title(\"R2 value of voxels with high beta value - Run 1\")\n",
    "plt.xlabel(\"R^2\")"
   ]
  },
  {
   "cell_type": "code",
   "execution_count": 9,
   "id": "e6bc2fc6",
   "metadata": {},
   "outputs": [],
   "source": [
    "import numpy as np\n",
    "from scipy import stats\n",
    "from statsmodels.stats.multitest import multipletests\n",
    "\n",
    "def voxelwise_ttest_fdr(betas4d, alpha=0.05, alternative='two-sided', min_trials=5):\n",
    "    X, Y, Z, T = betas4d.shape\n",
    "    V = X * Y * Z\n",
    "    B = betas4d.reshape(V, T)\n",
    "\n",
    "    mask = ~np.isnan(B).all(axis=1)\n",
    "    \n",
    "    # Per-voxel n, mean, std (ignore NaNs)\n",
    "    n  = np.sum(~np.isnan(B), axis=1)\n",
    "    m  = np.nanmean(B, axis=1)\n",
    "    s  = np.nanstd(B, axis=1, ddof=1)\n",
    "\n",
    "    valid = mask & (n >= min_trials) & (s > 0)\n",
    "    tvals = np.full(V, np.nan)\n",
    "    df    = np.maximum(n - 1, 0)\n",
    "\n",
    "    tvals[valid] = m[valid] / (s[valid] / np.sqrt(n[valid]))\n",
    "\n",
    "    # p-values\n",
    "    pvals = np.full(V, np.nan)\n",
    "    if alternative == 'two-sided':\n",
    "        pvals[valid] = 2.0 * stats.t.sf(np.abs(tvals[valid]), df[valid])\n",
    "    elif alternative == 'greater':  # H1: mean > 0\n",
    "        pvals[valid] = stats.t.sf(tvals[valid], df[valid])\n",
    "    elif alternative == 'less':     # H1: mean < 0\n",
    "        pvals[valid] = stats.t.cdf(tvals[valid], df[valid])\n",
    "    else:\n",
    "        raise ValueError(\"alternative must be 'two-sided', 'greater', or 'less'\")\n",
    "\n",
    "    # FDR (Benjamini–Hochberg) across the tested voxels only\n",
    "    tested = np.isfinite(pvals)\n",
    "    qvals  = np.full(V, np.nan)\n",
    "    reject = np.zeros(V, dtype=bool)\n",
    "\n",
    "    if np.any(tested):\n",
    "        rej, q, _, _ = multipletests(pvals[tested], alpha=alpha, method='fdr_bh')\n",
    "        reject[tested] = rej\n",
    "        qvals[tested]  = q\n",
    "\n",
    "    # Pack results back to 3D\n",
    "    out = {\n",
    "        'tmap'   : tvals.reshape(X, Y, Z),\n",
    "        'pmap'   : pvals.reshape(X, Y, Z),\n",
    "        'qmap'   : qvals.reshape(X, Y, Z),\n",
    "        'reject' : reject.reshape(X, Y, Z),  # True = significant at FDR q<=alpha\n",
    "        'df'     : df.reshape(X, Y, Z),\n",
    "        'n'      : n.reshape(X, Y, Z),\n",
    "    }\n",
    "    return out\n"
   ]
  },
  {
   "cell_type": "code",
   "execution_count": 10,
   "id": "fdb2f491",
   "metadata": {},
   "outputs": [
    {
     "name": "stderr",
     "output_type": "stream",
     "text": [
      "/tmp/ipykernel_225328/1160584861.py:14: RuntimeWarning: Mean of empty slice\n",
      "  m  = np.nanmean(B, axis=1)\n",
      "/home/zkavian/thesis_code_git/.venv/lib/python3.12/site-packages/numpy/lib/_nanfunctions_impl.py:2019: RuntimeWarning: Degrees of freedom <= 0 for slice.\n",
      "  var = nanvar(a, axis=axis, dtype=dtype, out=out, ddof=ddof,\n"
     ]
    }
   ],
   "source": [
    "out = voxelwise_ttest_fdr(beta_run1_outline)"
   ]
  },
  {
   "cell_type": "code",
   "execution_count": 11,
   "id": "cf1d4f3e",
   "metadata": {},
   "outputs": [],
   "source": [
    "beta_run1_outline2 = np.full(beta_run1_outline.shape, np.nan, dtype=float)\n",
    "mask = out['reject']\n",
    "beta_run1_outline2[mask] = beta_run1_outline[mask] "
   ]
  },
  {
   "cell_type": "code",
   "execution_count": 13,
   "id": "9328666a",
   "metadata": {},
   "outputs": [
    {
     "name": "stdout",
     "output_type": "stream",
     "text": [
      "Colormap Range: [ 1.0061430827014988 , -1.7212727634468012 ]\n"
     ]
    },
    {
     "name": "stderr",
     "output_type": "stream",
     "text": [
      "/tmp/ipykernel_225328/1638687502.py:43: UserWarning: you have specified symmetric_cmap=False but the map contains negative values; setting symmetric_cmap to True\n",
      "  view = view_img(\n",
      "/tmp/ipykernel_225328/1638687502.py:43: UserWarning: vmin cannot be chosen when cmap is symmetric\n",
      "  view = view_img(\n",
      "/home/zkavian/thesis_code_git/.venv/lib/python3.12/site-packages/numpy/_core/fromnumeric.py:868: UserWarning: Warning: 'partition' will ignore the 'mask' of the MaskedArray.\n",
      "  a.partition(kth, axis=axis, kind=kind, order=order)\n"
     ]
    }
   ],
   "source": [
    "save_beta_html(np.mean(beta_run1_outline, axis=-1), anat_img, bold_img_run1, A1, f\"Selected Beta\", f\"p-value_select_beta_sub{sub}_ses{ses}_run1.html\")"
   ]
  },
  {
   "cell_type": "code",
   "execution_count": null,
   "id": "de7ce33a",
   "metadata": {},
   "outputs": [
    {
     "data": {
      "text/plain": [
       "335592.0"
      ]
     },
     "metadata": {},
     "output_type": "display_data"
    }
   ],
   "source": [
    "30203280/90"
   ]
  },
  {
   "cell_type": "code",
   "execution_count": null,
   "id": "a1e0bc53",
   "metadata": {},
   "outputs": [
    {
     "data": {
      "text/plain": [
       "335592.0"
      ]
     },
     "metadata": {},
     "output_type": "display_data"
    }
   ],
   "source": [
    "30203280/90"
   ]
  },
  {
   "cell_type": "code",
   "execution_count": null,
   "id": "56b3dd09",
   "metadata": {},
   "outputs": [
    {
     "data": {
      "text/plain": [
       "335592.0"
      ]
     },
     "metadata": {},
     "output_type": "display_data"
    }
   ],
   "source": [
    "30203280/90"
   ]
  },
  {
   "cell_type": "code",
   "execution_count": null,
   "id": "f0b69d76",
   "metadata": {},
   "outputs": [
    {
     "data": {
      "text/plain": [
       "335592.0"
      ]
     },
     "metadata": {},
     "output_type": "display_data"
    }
   ],
   "source": [
    "30203280/90"
   ]
  },
  {
   "cell_type": "code",
   "execution_count": null,
   "id": "5cbc8b1a",
   "metadata": {},
   "outputs": [
    {
     "data": {
      "text/plain": [
       "335592.0"
      ]
     },
     "metadata": {},
     "output_type": "display_data"
    }
   ],
   "source": [
    "30203280/90"
   ]
  },
  {
   "cell_type": "code",
   "execution_count": null,
   "id": "04fbfd97",
   "metadata": {},
   "outputs": [
    {
     "data": {
      "text/plain": [
       "335592.0"
      ]
     },
     "metadata": {},
     "output_type": "display_data"
    }
   ],
   "source": [
    "30203280/90"
   ]
  },
  {
   "cell_type": "code",
   "execution_count": null,
   "id": "8a0b61ba",
   "metadata": {},
   "outputs": [
    {
     "data": {
      "text/plain": [
       "335592.0"
      ]
     },
     "metadata": {},
     "output_type": "display_data"
    }
   ],
   "source": [
    "30203280/90"
   ]
  },
  {
   "cell_type": "code",
   "execution_count": null,
   "id": "70066407",
   "metadata": {},
   "outputs": [
    {
     "name": "stdout",
     "output_type": "stream",
     "text": [
      "Colormap Range: [ 30.174674606323418 , 3.021697990894318 ]\n"
     ]
    }
   ],
   "source": [
    "# filtered_image_cleaned = np.full(beta_mean_run1.shape, np.nan, dtype=float)\n",
    "# valid_mask = np.isfinite(beta_mean_run1) & (beta_mean_run1 >= 3)\n",
    "# filtered_image_cleaned[valid_mask] = beta_mean_run1[valid_mask]\n",
    "\n",
    "# run = 1\n",
    "# data_name = f'sub-pd0{sub}_ses-{ses}_run-{run}_task-mv_bold_corrected_smoothed_reg_2mm.nii.gz'\n",
    "# BOLD_path_org = join(base_path, f'sub-pd0{sub}', f'ses-{ses}', 'func', data_name)\n",
    "# bold_img = nib.load(BOLD_path_org)\n",
    "# A = bold_img.affine.copy()\n",
    "# A[:3, 3] = A[:3, 3] + A[:3, :3] @ np.array([xmin, ymin, zmin], dtype=float)\n",
    "# save_beta_html(filtered_image_cleaned, anat_img, bold_img, A, f\"All Beta\", f\"test_sub{sub}_ses{ses}_run{run}.html\")\n"
   ]
  },
  {
   "cell_type": "code",
   "execution_count": null,
   "id": "d8f4f56c",
   "metadata": {},
   "outputs": [],
   "source": [
    "# data_name = f'sub-pd0{sub}_ses-{ses}_run-{run}_task-mv_bold_corrected_smoothed_reg_2mm.nii.gz'\n",
    "# BOLD_path_org = join(base_path, f'sub-pd0{sub}', f'ses-{ses}', 'func', data_name)\n",
    "# bold_img = nib.load(BOLD_path_org)\n",
    "# A = bold_img.affine.copy()\n",
    "# A[:3, 3] = A[:3, 3] + A[:3, :3] @ np.array([xmin, ymin, zmin], dtype=float)"
   ]
  },
  {
   "cell_type": "code",
   "execution_count": null,
   "id": "7232692f",
   "metadata": {},
   "outputs": [],
   "source": []
  },
  {
   "cell_type": "code",
   "execution_count": null,
   "id": "879e79c9",
   "metadata": {},
   "outputs": [],
   "source": []
  },
  {
   "cell_type": "code",
   "execution_count": null,
   "id": "e8c1fabe",
   "metadata": {},
   "outputs": [],
   "source": []
  },
  {
   "cell_type": "code",
   "execution_count": 6,
   "id": "0f734623",
   "metadata": {},
   "outputs": [
    {
     "name": "stdout",
     "output_type": "stream",
     "text": [
      "Colormap Range: [ 2.6614635 , -2.8885217 ]\n",
      "Colormap Range: [ 4.128598 , 0.001221316 ]\n",
      "Histogram Bins (run 1): [-6.13777208  3.86222792 13.86222792 23.86222792 33.86222792 43.86222792], Number of bins: 5\n",
      "run 1 bin 1: min -7.857098579406738, max 13.206343650817871, number of voxels: 135289.0\n",
      "run 1 bin 2: min -42.066619873046875, max 118.27816772460938, number of voxels: 65027.0\n",
      "run 1 bin 3: min -18.964879989624023, max 58.21822738647461, number of voxels: 9345.0\n",
      "run 1 bin 4: min -5.946022033691406, max 11.683488845825195, number of voxels: 752.0\n",
      "run 1 bin 5: min -3.1202824115753174, max 10.34862995147705, number of voxels: 13.0\n",
      "Colormap Range: [ 2.1499376 , -1.8925105 ]\n",
      "Colormap Range: [ 2.94306 , 0.0012415185 ]\n",
      "Histogram Bins (run 2): [-21.85840607 -11.85840607  -1.85840607   8.14159393  18.14159393\n",
      "  28.14159393  38.14159393  48.14159393  58.14159393  68.14159393], Number of bins: 9\n",
      "run 2 bin 1: min -1.5923792123794556, max 1.0531998872756958, number of voxels: 29.0\n",
      "run 2 bin 2: min -21.38827133178711, max 3.7055022716522217, number of voxels: 581.0\n",
      "run 2 bin 3: min -28.951784133911133, max 46.36003875732422, number of voxels: 167882.0\n",
      "run 2 bin 4: min -34.332237243652344, max 56.891483306884766, number of voxels: 34125.0\n",
      "run 2 bin 5: min -12.81415843963623, max 11.765040397644043, number of voxels: 5831.0\n",
      "run 2 bin 6: min -6.676139831542969, max 9.281278610229492, number of voxels: 1452.0\n",
      "run 2 bin 7: min -3.903491973876953, max 6.359148979187012, number of voxels: 442.0\n",
      "run 2 bin 8: min -3.1907196044921875, max 2.3893022537231445, number of voxels: 86.0\n",
      "run 2 bin 9: min -0.7775710225105286, max 0.7023727893829346, number of voxels: 4.0\n"
     ]
    }
   ],
   "source": [
    "warnings.filterwarnings(\n",
    "    \"ignore\",\n",
    "    message=\".*symmetric_cmap=False.*\",\n",
    "    category=UserWarning\n",
    ")\n",
    "warnings.filterwarnings(\n",
    "    \"ignore\",\n",
    "    message=\".*vmin cannot be chosen when cmap is symmetric.*\",\n",
    "    category=UserWarning\n",
    ")\n",
    "warnings.filterwarnings(\n",
    "    \"ignore\",\n",
    "    message=\".*Non-finite values detected.*\",\n",
    "    category=UserWarning\n",
    ")\n",
    "    \n",
    "for run in runs_to_process:\n",
    "    if run == 1:\n",
    "        beta_mean_this = beta_mean_run1\n",
    "        R2_this = R2_run1\n",
    "    else:\n",
    "        beta_mean_this = beta_mean_run2\n",
    "        R2_this = R2_run2\n",
    "    \n",
    "    save_beta_html(beta_mean_this, anat_img, bold_img, A, f\"All Beta\", f\"Beta_all_voxels_sub{sub}_ses{ses}_run{run}.html\")\n",
    "    save_beta_html(np.abs(beta_mean_this), anat_img, bold_img, A, f\"All Abs Beta\", f\"Beta_abs_all_voxels_sub{sub}_ses{ses}_run{run}.html\")\n",
    "\n",
    "    # Histogram & binning based on R2\n",
    "    bin_width = 10\n",
    "    X = R2_this.ravel()\n",
    "    bins = np.arange(np.nanmin(X), np.nanmax(X) + bin_width, bin_width)\n",
    "\n",
    "    plt.figure(figsize=(8,8))\n",
    "    n, bins, patches = plt.hist(X, bins=bins)\n",
    "    plt.tight_layout()\n",
    "    plt.savefig(f\"R2_hist_sub{sub}_ses{ses}_run{run}.png\", dpi=150)\n",
    "    plt.close()\n",
    "    print(f\"Histogram Bins (run {run}): {bins}, Number of bins: {int(len(patches))}\")\n",
    "\n",
    "    # Make per-bin beta masks & save\n",
    "    n_bins = int(len(patches))\n",
    "    for i in range(n_bins):\n",
    "        low, high = float(bins[i]), float(bins[i+1])\n",
    "        if i < n_bins - 1:\n",
    "            mask_i = (R2_this >= low) & (R2_this < high)\n",
    "        else:\n",
    "            mask_i = (R2_this >= low) & (R2_this <= high)\n",
    "\n",
    "        mask_beta_3d = np.full(beta_mean_this.shape, np.nan, dtype=float)\n",
    "        mask_beta_3d[mask_i] = beta_mean_this[mask_i]\n",
    "        c_min, c_max = np.nanmin(mask_beta_3d), np.nanmax(mask_beta_3d)\n",
    "        print(f\"run {run} bin {i+1}: min {c_min}, max {c_max}, number of voxels: {n[i]}\")\n",
    "\n",
    "        finite = np.isfinite(mask_beta_3d)\n",
    "        beta_filled = np.where(finite, mask_beta_3d, 0.0)\n",
    "        vmax = np.nanpercentile(mask_beta_3d[finite], 99)\n",
    "        vmin = np.nanpercentile(mask_beta_3d[finite], 1)\n",
    "        thr = 1e-6 \n",
    "\n",
    "        beta_on_anat = nib.Nifti1Image(mask_beta_3d, A, bold_img.header)\n",
    "        view = view_img(\n",
    "            beta_on_anat,\n",
    "            bg_img=anat_img,\n",
    "            title=f'bin {i+1},  [{fmt(low)},{fmt(high)}]',\n",
    "            colorbar=True,\n",
    "            cmap='seismic',\n",
    "            vmin=vmin,\n",
    "            vmax=vmax,\n",
    "            threshold=thr\n",
    "        )\n",
    "        view.save_as_html(file_name=f'Beta_mask_bin{i+1}_sub{sub}_ses{ses}_run{run}.html')\n"
   ]
  },
  {
   "cell_type": "code",
   "execution_count": 20,
   "id": "518401b1",
   "metadata": {},
   "outputs": [],
   "source": [
    "import numpy as np\n",
    "from scipy.ndimage import median_filter\n",
    "\n",
    "def hampel_filter_image(image, R2_run, window_size, threshold_factor):\n",
    "    filtered_image = np.copy(image).astype(float)\n",
    "    rows, cols, depth = image.shape\n",
    "\n",
    "    for r in range(window_size // 2, rows - window_size // 2):\n",
    "        for c in range(window_size // 2, cols - window_size // 2):\n",
    "            for d in range(window_size // 2, depth - window_size //2):\n",
    "                window = image[r - window_size // 2 : r + window_size // 2 + 1,\n",
    "                               c - window_size // 2 : c + window_size // 2 + 1,\n",
    "                               d - window_size // 2 : d + window_size // 2 + 1]\n",
    "\n",
    "                window_median = np.nanmedian(window)\n",
    "                mad = np.nanmedian(np.abs(window - window_median))\n",
    "                scaled_mad = 1.4826 * mad # Assuming Gaussian data for scaling factor\n",
    "\n",
    "                if image[r, c, d] is not None:\n",
    "                    if np.abs(image[r, c, d] - window_median) > threshold_factor * scaled_mad:\n",
    "                        filtered_image[r, c, d] = np.nan\n",
    "                        R2_run[r, c, d] = np.nan\n",
    "\n",
    "    return filtered_image, R2_run\n",
    "\n",
    "\n",
    "def apply_hf_on_image(beta_mean_run1, beta_mean_run2, R2_run1, R2_run2, sub, run, ses, window_size):\n",
    "    print(beta_mean_run1.shape)\n",
    "    filtered_image1, filtered_R2_run1 = hampel_filter_image(beta_mean_run1, R2_run1, window_size=window_size, threshold_factor=3)\n",
    "    filtered_image2, filtered_R2_run2 = hampel_filter_image(beta_mean_run2, R2_run2, window_size=window_size, threshold_factor=3)\n",
    "\n",
    "    tmp = beta_mean_run1[~np.isnan(beta_mean_run1)]\n",
    "    print(tmp.shape)\n",
    "\n",
    "    tmp2 = filtered_image1[~np.isnan(filtered_image1)]\n",
    "    print(tmp2.shape)\n",
    "\n",
    "    print(f\"{(tmp.shape[0]-tmp2.shape[0])/tmp.shape[0]*100}% voxels is removed!\")\n",
    "\n",
    "    warnings.filterwarnings(\n",
    "        \"ignore\",\n",
    "        message=\".*symmetric_cmap=False.*\",\n",
    "        category=UserWarning\n",
    "    )\n",
    "    warnings.filterwarnings(\n",
    "        \"ignore\",\n",
    "        message=\".*vmin cannot be chosen when cmap is symmetric.*\",\n",
    "        category=UserWarning\n",
    "    )\n",
    "    warnings.filterwarnings(\n",
    "        \"ignore\",\n",
    "        message=\".*Non-finite values detected.*\",\n",
    "        category=UserWarning\n",
    "    )\n",
    "        \n",
    "    for run in runs_to_process:\n",
    "        if run == 1:\n",
    "            beta_mean_this = filtered_image1\n",
    "            R2_this = filtered_R2_run1\n",
    "        else:\n",
    "            beta_mean_this = filtered_image2\n",
    "            R2_this = filtered_R2_run2\n",
    "\n",
    "        # Histogram & binning based on R2\n",
    "        bin_width = 10\n",
    "        X = R2_this.ravel()\n",
    "        bins = np.arange(np.nanmin(X), np.nanmax(X) + bin_width, bin_width)\n",
    "\n",
    "        plt.figure(figsize=(8,8))\n",
    "        n, bins, patches = plt.hist(X, bins=bins)\n",
    "        plt.tight_layout()\n",
    "        plt.savefig(f\"HF_R2_hist_sub{sub}_ses{ses}_run{run}_window{window_size}.png\", dpi=150)\n",
    "        plt.close()\n",
    "        print(f\"HF_Histogram Bins (run {run}): {bins}, Number of bins: {int(len(patches))}\")\n",
    "\n",
    "        # Make per-bin beta masks & save\n",
    "        n_bins = int(len(patches))\n",
    "        for i in range(n_bins):\n",
    "            low, high = float(bins[i]), float(bins[i+1])\n",
    "            if i < n_bins - 1:\n",
    "                mask_i = (R2_this >= low) & (R2_this < high)\n",
    "            else:\n",
    "                mask_i = (R2_this >= low) & (R2_this <= high)\n",
    "\n",
    "            mask_beta_3d = np.full(beta_mean_this.shape, np.nan, dtype=float)\n",
    "            mask_beta_3d[mask_i] = beta_mean_this[mask_i]\n",
    "            c_min, c_max = np.nanmin(mask_beta_3d), np.nanmax(mask_beta_3d)\n",
    "            print(f\"run {run} bin {i+1}: min {c_min}, max {c_max}, number of voxels: {n[i]}\")\n",
    "\n",
    "            finite = np.isfinite(mask_beta_3d)\n",
    "            beta_filled = np.where(finite, mask_beta_3d, 0.0)\n",
    "            vmax = np.nanpercentile(mask_beta_3d[finite], 99)\n",
    "            vmin = np.nanpercentile(mask_beta_3d[finite], 1)\n",
    "            thr = 1e-6 \n",
    "\n",
    "            if c_min != c_max:\n",
    "                beta_on_anat = nib.Nifti1Image(mask_beta_3d, A, bold_img.header)\n",
    "                view = view_img(\n",
    "                    beta_on_anat,\n",
    "                    bg_img=anat_img,\n",
    "                    title=f'bin {i+1},  [{fmt(low)},{fmt(high)}]',\n",
    "                    colorbar=True,\n",
    "                    cmap='seismic',\n",
    "                    vmin=vmin,\n",
    "                    vmax=vmax,\n",
    "                    threshold=thr\n",
    "                )\n",
    "                view.save_as_html(file_name=f'HF_Beta_mask_bin{i+1}_sub{sub}_ses{ses}_run{run}_window{window_size}.html')\n",
    "\n",
    "\n",
    "    return filtered_image1, filtered_R2_run1, filtered_image2, filtered_R2_run2"
   ]
  },
  {
   "cell_type": "code",
   "execution_count": 25,
   "id": "f8a068c4",
   "metadata": {},
   "outputs": [],
   "source": [
    "def clean_and_analysis_output(beta_mean, filtered_image, filtered_R2, sub, run, ses, window_size):\n",
    "    # removing nan value from the BOLD image\n",
    "    num_voxel1 = beta_mean.size\n",
    "    valid_mask = np.isfinite(beta_mean)\n",
    "    filtered_image_cleaned = beta_mean[valid_mask]  # vector (if you still want stats)\n",
    "    filtered_image_cleaned_3d = np.full(beta_mean.shape, np.nan, dtype=float)\n",
    "    filtered_image_cleaned_3d[valid_mask] = filtered_image_cleaned\n",
    "    tmp = filtered_image_cleaned_3d[~np.isnan(filtered_image_cleaned_3d)]\n",
    "    num_voxel2 = tmp.shape[0]\n",
    "    filtered_R2_cleaned = np.full(filtered_R2.shape, np.nan, dtype=float)\n",
    "    filtered_R2_cleaned[valid_mask] = filtered_R2[valid_mask]\n",
    "\n",
    "    save_beta_html(filtered_image_cleaned_3d, anat_img, bold_img, A, f\"All Beta\", f\"Final_voxels_(without_nan)_sub{sub}_ses{ses}_run{run}_window{window_size}.html\")\n",
    "    print(f\"{abs(num_voxel2-num_voxel1)/num_voxel1*100}% of voxles has a NaN beta value.({num_voxel2} of {num_voxel1})\")\n",
    "\n",
    "    # removing nan value from the BOLD image (after HF)\n",
    "    valid_mask = np.isfinite(filtered_image)\n",
    "    beta_mean_cleaned2 = filtered_image[valid_mask]  # vector (if you still want stats)\n",
    "    filtered_image_cleaned = np.full(filtered_image.shape, np.nan, dtype=float)\n",
    "    filtered_image_cleaned[valid_mask] = beta_mean_cleaned2\n",
    "    tmp = filtered_image_cleaned[~np.isnan(filtered_image_cleaned)]\n",
    "    num_voxel3 = tmp.shape[0]\n",
    "    filtered_R2_cleaned2 = np.full(filtered_R2_cleaned.shape, np.nan, dtype=float)\n",
    "    filtered_R2_cleaned2[valid_mask] = filtered_R2_cleaned[valid_mask]\n",
    "    print(f\"{abs(num_voxel3-num_voxel1)/num_voxel1*100}% of voxles has a NaN beta value or are considered as outlier.({num_voxel3} of {num_voxel1})\")\n",
    "    print(f\"{abs(num_voxel3-num_voxel2)/num_voxel2*100}% of nonnan voxles are considered as outlier.({num_voxel3} of {num_voxel2})\")\n",
    "    save_beta_html(filtered_image_cleaned, anat_img, bold_img, A, f\"All Beta\", f\"Final_voxels_(without_nan_outlier)_sub{sub}_ses{ses}_run{run}_window{window_size}.html\")\n",
    "\n",
    "    # Histogram & binning based on R2\n",
    "    bin_width = 10\n",
    "    X = filtered_R2_cleaned2.ravel()\n",
    "    bins = np.arange(np.nanmin(X), np.nanmax(X) + bin_width, bin_width)\n",
    "    n, bins, patches = plt.hist(X, bins=bins)\n",
    "    idx0 = np.searchsorted(bins, 0.0, side='left')\n",
    "    if idx0 < len(bins) - 1:\n",
    "        low = float(bins[idx0])\n",
    "    else:\n",
    "        low = 0.0\n",
    "    mask = (filtered_R2_cleaned2 >= low)\n",
    "    mask_beta_3d = np.full(filtered_R2_cleaned2.shape, np.nan, dtype=float)\n",
    "    mask_beta_3d[mask] = filtered_R2_cleaned2[mask]\n",
    "    mask_beta_3d_cleaned = mask_beta_3d[~np.isnan(mask_beta_3d)]\n",
    "    num_voxel4 = mask_beta_3d_cleaned.shape[0]\n",
    "    print(f\"{abs(num_voxel4-num_voxel1)/num_voxel1*100}% of voxles has a NaN beta value, are considered as outlier, have low R2.({num_voxel4} of {num_voxel1})\")\n",
    "    print(f\"{abs(num_voxel4-num_voxel3)/num_voxel3*100}% of selected voxles have low R2.({num_voxel4} of {num_voxel3})\")\n",
    "    save_beta_html(mask_beta_3d, anat_img, bold_img, A, f\"All Beta\", f\"Final_voxels_(without_nan_outlier_low_R2)_sub{sub}_ses{ses}_run{run}_window{window_size}.html\")\n",
    "    return"
   ]
  },
  {
   "cell_type": "code",
   "execution_count": 28,
   "id": "b9d5131a",
   "metadata": {},
   "outputs": [
    {
     "name": "stdout",
     "output_type": "stream",
     "text": [
      "(69, 92, 73)\n"
     ]
    },
    {
     "name": "stderr",
     "output_type": "stream",
     "text": [
      "/tmp/ipykernel_215053/2308745885.py:15: RuntimeWarning: All-NaN slice encountered\n",
      "  window_median = np.nanmedian(window)\n",
      "/tmp/ipykernel_215053/2308745885.py:16: RuntimeWarning: All-NaN slice encountered\n",
      "  mad = np.nanmedian(np.abs(window - window_median))\n"
     ]
    },
    {
     "name": "stdout",
     "output_type": "stream",
     "text": [
      "(210434,)\n",
      "(192800,)\n",
      "8.37982455306652% voxels is removed!\n",
      "HF_Histogram Bins (run 1): [-6.06684732  3.93315268 13.93315268 23.93315268 33.93315268], Number of bins: 4\n",
      "run 1 bin 1: min -2.242952823638916, max 3.0170810222625732, number of voxels: 134846.0\n",
      "run 1 bin 2: min -10.65752124786377, max 10.369962692260742, number of voxels: 39729.0\n",
      "run 1 bin 3: min -10.36491870880127, max 7.629574298858643, number of voxels: 3662.0\n",
      "run 1 bin 4: min -1.1207144260406494, max 2.289811849594116, number of voxels: 232.0\n",
      "HF_Histogram Bins (run 2): [-20.57930756 -10.57930756  -0.57930756   9.42069244  19.42069244\n",
      "  29.42069244  39.42069244  49.42069244  59.42069244], Number of bins: 8\n",
      "run 2 bin 1: min -0.6440090537071228, max 0.23806732892990112, number of voxels: 10.0\n",
      "run 2 bin 2: min -0.8958060145378113, max 1.1886523962020874, number of voxels: 308.0\n",
      "run 2 bin 3: min -3.093092441558838, max 5.473191261291504, number of voxels: 163626.0\n",
      "run 2 bin 4: min -7.299222946166992, max 10.113801002502441, number of voxels: 13076.0\n",
      "run 2 bin 5: min -4.504156589508057, max 2.86933970451355, number of voxels: 2240.0\n",
      "run 2 bin 6: min -1.4074739217758179, max 1.8444503545761108, number of voxels: 642.0\n",
      "run 2 bin 7: min -0.9769347906112671, max 1.3567826747894287, number of voxels: 180.0\n",
      "run 2 bin 8: min -0.773319661617279, max 1.324507236480713, number of voxels: 27.0\n",
      "Colormap Range: [ 2.661460947990395 , -2.8885217022895815 ]\n",
      "54.58951584362672% of voxles has a NaN beta value.(210434 of 463404)\n",
      "58.394834744628874% of voxles has a NaN beta value or are considered as outlier.(192800 of 463404)\n",
      "8.37982455306652% of nonnan voxles are considered as outlier.(192800 of 210434)\n",
      "Colormap Range: [ 1.3070926487445869 , -1.681930922269821 ]\n",
      "90.58639977212108% of voxles has a NaN beta value, are considered as outlier, have low R2.(43623 of 463404)\n",
      "77.37396265560166% of selected voxles have low R2.(43623 of 192800)\n",
      "Colormap Range: [ 22.0394270324707 , 3.981288857460022 ]\n",
      "Colormap Range: [ 2.1499350786208886 , -1.8925105345249176 ]\n",
      "54.58951584362672% of voxles has a NaN beta value.(210434 of 463404)\n",
      "58.17019274758094% of voxles has a NaN beta value or are considered as outlier.(193841 of 463404)\n",
      "7.885132630658544% of nonnan voxles are considered as outlier.(193841 of 210434)\n",
      "Colormap Range: [ 1.2314522504806529 , -1.0843290328979491 ]\n",
      "96.5116831102019% of voxles has a NaN beta value, are considered as outlier, have low R2.(16165 of 463404)\n",
      "91.66069097868872% of selected voxles have low R2.(16165 of 193841)\n",
      "Colormap Range: [ 40.84152236938477 , 9.46519302368164 ]\n",
      "(69, 92, 73)\n"
     ]
    },
    {
     "name": "stderr",
     "output_type": "stream",
     "text": [
      "/tmp/ipykernel_215053/2308745885.py:15: RuntimeWarning: All-NaN slice encountered\n",
      "  window_median = np.nanmedian(window)\n",
      "/tmp/ipykernel_215053/2308745885.py:16: RuntimeWarning: All-NaN slice encountered\n",
      "  mad = np.nanmedian(np.abs(window - window_median))\n"
     ]
    },
    {
     "name": "stdout",
     "output_type": "stream",
     "text": [
      "(210434,)\n",
      "(184020,)\n",
      "12.552154119581434% voxels is removed!\n",
      "HF_Histogram Bins (run 1): [-6.06684732  3.93315268 13.93315268 23.93315268 33.93315268], Number of bins: 4\n",
      "run 1 bin 1: min -2.242952823638916, max 3.0170810222625732, number of voxels: 134846.0\n",
      "run 1 bin 2: min -10.65752124786377, max 10.369962692260742, number of voxels: 39729.0\n",
      "run 1 bin 3: min -10.36491870880127, max 7.629574298858643, number of voxels: 3662.0\n",
      "run 1 bin 4: min -1.1207144260406494, max 2.289811849594116, number of voxels: 232.0\n",
      "HF_Histogram Bins (run 2): [-20.57930756 -10.57930756  -0.57930756   9.42069244  19.42069244\n",
      "  29.42069244  39.42069244  49.42069244  59.42069244], Number of bins: 8\n",
      "run 2 bin 1: min -0.6440090537071228, max 0.23806732892990112, number of voxels: 10.0\n",
      "run 2 bin 2: min -0.8958060145378113, max 1.1886523962020874, number of voxels: 308.0\n",
      "run 2 bin 3: min -3.093092441558838, max 5.473191261291504, number of voxels: 163626.0\n",
      "run 2 bin 4: min -7.299222946166992, max 10.113801002502441, number of voxels: 13076.0\n",
      "run 2 bin 5: min -4.504156589508057, max 2.86933970451355, number of voxels: 2240.0\n",
      "run 2 bin 6: min -1.4074739217758179, max 1.8444503545761108, number of voxels: 642.0\n",
      "run 2 bin 7: min -0.9769347906112671, max 1.3567826747894287, number of voxels: 180.0\n",
      "run 2 bin 8: min -0.773319661617279, max 1.324507236480713, number of voxels: 27.0\n",
      "Colormap Range: [ 2.661460947990395 , -2.8885217022895815 ]\n",
      "54.58951584362672% of voxles has a NaN beta value.(210434 of 463404)\n",
      "60.28950980138281% of voxles has a NaN beta value or are considered as outlier.(184020 of 463404)\n",
      "12.552154119581434% of nonnan voxles are considered as outlier.(184020 of 210434)\n",
      "Colormap Range: [ 0.7357239753007884 , -0.6819192969799042 ]\n",
      "90.58639977212108% of voxles has a NaN beta value, are considered as outlier, have low R2.(43623 of 463404)\n",
      "76.29442451907401% of selected voxles have low R2.(43623 of 184020)\n",
      "Colormap Range: [ 22.0394270324707 , 3.981288857460022 ]\n",
      "Colormap Range: [ 2.1499350786208886 , -1.8925105345249176 ]\n",
      "54.58951584362672% of voxles has a NaN beta value.(210434 of 463404)\n",
      "59.9673287239644% of voxles has a NaN beta value or are considered as outlier.(185513 of 463404)\n",
      "11.84266800992235% of nonnan voxles are considered as outlier.(185513 of 210434)\n",
      "Colormap Range: [ 0.7373270225524917 , -0.5990263199806213 ]\n",
      "96.5116831102019% of voxles has a NaN beta value, are considered as outlier, have low R2.(16165 of 463404)\n",
      "91.2863249475778% of selected voxles have low R2.(16165 of 185513)\n",
      "Colormap Range: [ 40.84152236938477 , 9.46519302368164 ]\n",
      "(69, 92, 73)\n"
     ]
    },
    {
     "name": "stderr",
     "output_type": "stream",
     "text": [
      "/tmp/ipykernel_215053/2308745885.py:15: RuntimeWarning: All-NaN slice encountered\n",
      "  window_median = np.nanmedian(window)\n",
      "/tmp/ipykernel_215053/2308745885.py:16: RuntimeWarning: All-NaN slice encountered\n",
      "  mad = np.nanmedian(np.abs(window - window_median))\n"
     ]
    },
    {
     "name": "stdout",
     "output_type": "stream",
     "text": [
      "(210434,)\n",
      "(181043,)\n",
      "13.966849463489739% voxels is removed!\n",
      "HF_Histogram Bins (run 1): [-6.06684732  3.93315268 13.93315268 23.93315268 33.93315268], Number of bins: 4\n",
      "run 1 bin 1: min -2.242952823638916, max 3.0170810222625732, number of voxels: 134846.0\n",
      "run 1 bin 2: min -10.65752124786377, max 10.369962692260742, number of voxels: 39729.0\n",
      "run 1 bin 3: min -10.36491870880127, max 7.629574298858643, number of voxels: 3662.0\n",
      "run 1 bin 4: min -1.1207144260406494, max 2.289811849594116, number of voxels: 232.0\n",
      "HF_Histogram Bins (run 2): [-20.57930756 -10.57930756  -0.57930756   9.42069244  19.42069244\n",
      "  29.42069244  39.42069244  49.42069244  59.42069244], Number of bins: 8\n",
      "run 2 bin 1: min -0.6440090537071228, max 0.23806732892990112, number of voxels: 10.0\n",
      "run 2 bin 2: min -0.8958060145378113, max 1.1886523962020874, number of voxels: 308.0\n",
      "run 2 bin 3: min -3.093092441558838, max 5.473191261291504, number of voxels: 163626.0\n",
      "run 2 bin 4: min -7.299222946166992, max 10.113801002502441, number of voxels: 13076.0\n",
      "run 2 bin 5: min -4.504156589508057, max 2.86933970451355, number of voxels: 2240.0\n",
      "run 2 bin 6: min -1.4074739217758179, max 1.8444503545761108, number of voxels: 642.0\n",
      "run 2 bin 7: min -0.9769347906112671, max 1.3567826747894287, number of voxels: 180.0\n",
      "run 2 bin 8: min -0.773319661617279, max 1.324507236480713, number of voxels: 27.0\n",
      "Colormap Range: [ 2.661460947990395 , -2.8885217022895815 ]\n",
      "54.58951584362672% of voxles has a NaN beta value.(210434 of 463404)\n",
      "60.93192980638924% of voxles has a NaN beta value or are considered as outlier.(181043 of 463404)\n",
      "13.966849463489739% of nonnan voxles are considered as outlier.(181043 of 210434)\n",
      "Colormap Range: [ 0.6266151547431908 , -0.5092293906211853 ]\n",
      "90.58639977212108% of voxles has a NaN beta value, are considered as outlier, have low R2.(43623 of 463404)\n",
      "75.9046193445756% of selected voxles have low R2.(43623 of 181043)\n",
      "Colormap Range: [ 22.0394270324707 , 3.981288857460022 ]\n",
      "Colormap Range: [ 2.1499350786208886 , -1.8925105345249176 ]\n",
      "54.58951584362672% of voxles has a NaN beta value.(210434 of 463404)\n",
      "60.56162657206239% of voxles has a NaN beta value or are considered as outlier.(182759 of 463404)\n",
      "13.151391885341724% of nonnan voxles are considered as outlier.(182759 of 210434)\n",
      "Colormap Range: [ 0.6222701215744028 , -0.47830436885356903 ]\n",
      "96.5116831102019% of voxles has a NaN beta value, are considered as outlier, have low R2.(16165 of 463404)\n",
      "91.15501835750906% of selected voxles have low R2.(16165 of 182759)\n",
      "Colormap Range: [ 40.84152236938477 , 9.46519302368164 ]\n"
     ]
    },
    {
     "data": {
      "image/png": "[encoded data removed]",
      "text/plain": [
       "<Figure size 640x480 with 1 Axes>"
      ]
     },
     "metadata": {},
     "output_type": "display_data"
    }
   ],
   "source": [
    "filtered_image1, filtered_R2_run1, filtered_image2, filtered_R2_run2 = apply_hf_on_image(beta_mean_run1, beta_mean_run2, R2_run1, R2_run2, sub, run, ses, window_size=3)\n",
    "clean_and_analysis_output(beta_mean_run1, filtered_image1, filtered_R2_run1, sub, 1, ses, window_size=3)\n",
    "clean_and_analysis_output(beta_mean_run2, filtered_image2, filtered_R2_run2, sub, 2, ses, window_size=3)\n",
    "\n",
    "filtered_image1, filtered_R2_run1, filtered_image2, filtered_R2_run2 = apply_hf_on_image(beta_mean_run1, beta_mean_run2, R2_run1, R2_run2, sub, run, ses, window_size=5)\n",
    "clean_and_analysis_output(beta_mean_run1, filtered_image1, filtered_R2_run1, sub, 1, ses, window_size=5)\n",
    "clean_and_analysis_output(beta_mean_run2, filtered_image2, filtered_R2_run2, sub, 2, ses, window_size=5)\n",
    "\n",
    "filtered_image1, filtered_R2_run1, filtered_image2, filtered_R2_run2 = apply_hf_on_image(beta_mean_run1, beta_mean_run2, R2_run1, R2_run2, sub, run, ses, window_size=7)\n",
    "clean_and_analysis_output(beta_mean_run1, filtered_image1, filtered_R2_run1, sub, 1, ses, window_size=7)\n",
    "clean_and_analysis_output(beta_mean_run2, filtered_image2, filtered_R2_run2, sub, 2, ses, window_size=7)"
   ]
  },
  {
   "cell_type": "code",
   "execution_count": 29,
   "id": "ead54235",
   "metadata": {},
   "outputs": [
    {
     "name": "stdout",
     "output_type": "stream",
     "text": [
      "Copied: /home/zkavian/thesis_code_git/Optim_fMRI/Optim_fMRI_new/HF_Beta_mask_bin7_sub04_ses1_run2_window7.html -> /mnt/TeamShare/Data_Masterfile/Zahra-Thesis-Data/Newfolder/HF_Beta_mask_bin7_sub04_ses1_run2_window7.html\n",
      "Copied: /home/zkavian/thesis_code_git/Optim_fMRI/Optim_fMRI_new/HF_Beta_mask_bin8_sub04_ses1_run2.html -> /mnt/TeamShare/Data_Masterfile/Zahra-Thesis-Data/Newfolder/HF_Beta_mask_bin8_sub04_ses1_run2.html\n",
      "Copied: /home/zkavian/thesis_code_git/Optim_fMRI/Optim_fMRI_new/Final_voxels_(without_nan_outlier_low_R2)_sub04_ses1_run2_window5.html -> /mnt/TeamShare/Data_Masterfile/Zahra-Thesis-Data/Newfolder/Final_voxels_(without_nan_outlier_low_R2)_sub04_ses1_run2_window5.html\n",
      "Copied: /home/zkavian/thesis_code_git/Optim_fMRI/Optim_fMRI_new/HF_Beta_mask_bin3_sub04_ses1_run1_window5.html -> /mnt/TeamShare/Data_Masterfile/Zahra-Thesis-Data/Newfolder/HF_Beta_mask_bin3_sub04_ses1_run1_window5.html\n",
      "Copied: /home/zkavian/thesis_code_git/Optim_fMRI/Optim_fMRI_new/HF_Beta_mask_bin9_sub04_ses1_run2_window3.html -> /mnt/TeamShare/Data_Masterfile/Zahra-Thesis-Data/Newfolder/HF_Beta_mask_bin9_sub04_ses1_run2_window3.html\n",
      "Copied: /home/zkavian/thesis_code_git/Optim_fMRI/Optim_fMRI_new/HF_Beta_mask_bin5_sub04_ses1_run2_window5.html -> /mnt/TeamShare/Data_Masterfile/Zahra-Thesis-Data/Newfolder/HF_Beta_mask_bin5_sub04_ses1_run2_window5.html\n",
      "Copied: /home/zkavian/thesis_code_git/Optim_fMRI/Optim_fMRI_new/Beta_mask_bin3_sub04_ses1_run1.html -> /mnt/TeamShare/Data_Masterfile/Zahra-Thesis-Data/Newfolder/Beta_mask_bin3_sub04_ses1_run1.html\n",
      "Copied: /home/zkavian/thesis_code_git/Optim_fMRI/Optim_fMRI_new/HF_Beta_mask_bin3_sub04_ses1_run1_window3.html -> /mnt/TeamShare/Data_Masterfile/Zahra-Thesis-Data/Newfolder/HF_Beta_mask_bin3_sub04_ses1_run1_window3.html\n",
      "Copied: /home/zkavian/thesis_code_git/Optim_fMRI/Optim_fMRI_new/HF_Beta_mask_bin3_sub04_ses1_run2_window3.html -> /mnt/TeamShare/Data_Masterfile/Zahra-Thesis-Data/Newfolder/HF_Beta_mask_bin3_sub04_ses1_run2_window3.html\n",
      "Copied: /home/zkavian/thesis_code_git/Optim_fMRI/Optim_fMRI_new/HF_Beta_mask_bin7_sub04_ses1_run2_window3.html -> /mnt/TeamShare/Data_Masterfile/Zahra-Thesis-Data/Newfolder/HF_Beta_mask_bin7_sub04_ses1_run2_window3.html\n",
      "Copied: /home/zkavian/thesis_code_git/Optim_fMRI/Optim_fMRI_new/Final_voxels_(without_nan_outlier_low_R2)_sub04_ses1_run1_window3.html -> /mnt/TeamShare/Data_Masterfile/Zahra-Thesis-Data/Newfolder/Final_voxels_(without_nan_outlier_low_R2)_sub04_ses1_run1_window3.html\n",
      "Copied: /home/zkavian/thesis_code_git/Optim_fMRI/Optim_fMRI_new/HF_Beta_mask_bin3_sub04_ses1_run2_window7.html -> /mnt/TeamShare/Data_Masterfile/Zahra-Thesis-Data/Newfolder/HF_Beta_mask_bin3_sub04_ses1_run2_window7.html\n",
      "Copied: /home/zkavian/thesis_code_git/Optim_fMRI/Optim_fMRI_new/Final_voxels_(without_nan)_sub04_ses1_run2_window3.html -> /mnt/TeamShare/Data_Masterfile/Zahra-Thesis-Data/Newfolder/Final_voxels_(without_nan)_sub04_ses1_run2_window3.html\n",
      "Copied: /home/zkavian/thesis_code_git/Optim_fMRI/Optim_fMRI_new/HF_Beta_mask_bin6_sub04_ses1_run2.html -> /mnt/TeamShare/Data_Masterfile/Zahra-Thesis-Data/Newfolder/HF_Beta_mask_bin6_sub04_ses1_run2.html\n",
      "Copied: /home/zkavian/thesis_code_git/Optim_fMRI/Optim_fMRI_new/HF_Beta_mask_bin4_sub04_ses1_run2.html -> /mnt/TeamShare/Data_Masterfile/Zahra-Thesis-Data/Newfolder/HF_Beta_mask_bin4_sub04_ses1_run2.html\n",
      "Copied: /home/zkavian/thesis_code_git/Optim_fMRI/Optim_fMRI_new/HF_Beta_mask_bin8_sub04_ses1_run2_window7.html -> /mnt/TeamShare/Data_Masterfile/Zahra-Thesis-Data/Newfolder/HF_Beta_mask_bin8_sub04_ses1_run2_window7.html\n",
      "Copied: /home/zkavian/thesis_code_git/Optim_fMRI/Optim_fMRI_new/Final_voxels_(without_nan)_sub04_ses1_run2_window7.html -> /mnt/TeamShare/Data_Masterfile/Zahra-Thesis-Data/Newfolder/Final_voxels_(without_nan)_sub04_ses1_run2_window7.html\n",
      "Copied: /home/zkavian/thesis_code_git/Optim_fMRI/Optim_fMRI_new/BOLD_data_on_Anat_sub04_ses1_run1.html -> /mnt/TeamShare/Data_Masterfile/Zahra-Thesis-Data/Newfolder/BOLD_data_on_Anat_sub04_ses1_run1.html\n",
      "Copied: /home/zkavian/thesis_code_git/Optim_fMRI/Optim_fMRI_new/Beta_mask_bin1_sub04_ses1_run1.html -> /mnt/TeamShare/Data_Masterfile/Zahra-Thesis-Data/Newfolder/Beta_mask_bin1_sub04_ses1_run1.html\n",
      "Copied: /home/zkavian/thesis_code_git/Optim_fMRI/Optim_fMRI_new/HF_Beta_mask_bin1_sub04_ses1_run2_window5.html -> /mnt/TeamShare/Data_Masterfile/Zahra-Thesis-Data/Newfolder/HF_Beta_mask_bin1_sub04_ses1_run2_window5.html\n",
      "Copied: /home/zkavian/thesis_code_git/Optim_fMRI/Optim_fMRI_new/HF_Beta_mask_bin1_sub04_ses1_run2_window3.html -> /mnt/TeamShare/Data_Masterfile/Zahra-Thesis-Data/Newfolder/HF_Beta_mask_bin1_sub04_ses1_run2_window3.html\n",
      "Copied: /home/zkavian/thesis_code_git/Optim_fMRI/Optim_fMRI_new/Final_voxels_(without_nan_outlier)_sub04_ses1_run1_window7.html -> /mnt/TeamShare/Data_Masterfile/Zahra-Thesis-Data/Newfolder/Final_voxels_(without_nan_outlier)_sub04_ses1_run1_window7.html\n",
      "Copied: /home/zkavian/thesis_code_git/Optim_fMRI/Optim_fMRI_new/HF_Beta_mask_bin5_sub04_ses1_run1_window5.html -> /mnt/TeamShare/Data_Masterfile/Zahra-Thesis-Data/Newfolder/HF_Beta_mask_bin5_sub04_ses1_run1_window5.html\n",
      "Copied: /home/zkavian/thesis_code_git/Optim_fMRI/Optim_fMRI_new/Beta_all_voxels_sub04_ses1_run1.html -> /mnt/TeamShare/Data_Masterfile/Zahra-Thesis-Data/Newfolder/Beta_all_voxels_sub04_ses1_run1.html\n",
      "Copied: /home/zkavian/thesis_code_git/Optim_fMRI/Optim_fMRI_new/Beta_mask_bin4_sub04_ses1_run1.html -> /mnt/TeamShare/Data_Masterfile/Zahra-Thesis-Data/Newfolder/Beta_mask_bin4_sub04_ses1_run1.html\n",
      "Copied: /home/zkavian/thesis_code_git/Optim_fMRI/Optim_fMRI_new/HF_Beta_mask_bin7_sub04_ses1_run2.html -> /mnt/TeamShare/Data_Masterfile/Zahra-Thesis-Data/Newfolder/HF_Beta_mask_bin7_sub04_ses1_run2.html\n",
      "Copied: /home/zkavian/thesis_code_git/Optim_fMRI/Optim_fMRI_new/Final_voxels_(without_nan_outlier)_sub04_ses1_run1_window5.html -> /mnt/TeamShare/Data_Masterfile/Zahra-Thesis-Data/Newfolder/Final_voxels_(without_nan_outlier)_sub04_ses1_run1_window5.html\n",
      "Copied: /home/zkavian/thesis_code_git/Optim_fMRI/Optim_fMRI_new/HF_Beta_mask_bin1_sub04_ses1_run1.html -> /mnt/TeamShare/Data_Masterfile/Zahra-Thesis-Data/Newfolder/HF_Beta_mask_bin1_sub04_ses1_run1.html\n",
      "Copied: /home/zkavian/thesis_code_git/Optim_fMRI/Optim_fMRI_new/HF_Beta_mask_bin5_sub04_ses1_run2_window7.html -> /mnt/TeamShare/Data_Masterfile/Zahra-Thesis-Data/Newfolder/HF_Beta_mask_bin5_sub04_ses1_run2_window7.html\n",
      "Copied: /home/zkavian/thesis_code_git/Optim_fMRI/Optim_fMRI_new/HF_Beta_mask_bin5_sub04_ses1_run1.html -> /mnt/TeamShare/Data_Masterfile/Zahra-Thesis-Data/Newfolder/HF_Beta_mask_bin5_sub04_ses1_run1.html\n",
      "Copied: /home/zkavian/thesis_code_git/Optim_fMRI/Optim_fMRI_new/HF_Beta_mask_bin4_sub04_ses1_run1_window3.html -> /mnt/TeamShare/Data_Masterfile/Zahra-Thesis-Data/Newfolder/HF_Beta_mask_bin4_sub04_ses1_run1_window3.html\n",
      "Copied: /home/zkavian/thesis_code_git/Optim_fMRI/Optim_fMRI_new/Beta_abs_all_voxels_sub04_ses1_run1.html -> /mnt/TeamShare/Data_Masterfile/Zahra-Thesis-Data/Newfolder/Beta_abs_all_voxels_sub04_ses1_run1.html\n",
      "Copied: /home/zkavian/thesis_code_git/Optim_fMRI/Optim_fMRI_new/Beta_mask_bin6_sub04_ses1_run2.html -> /mnt/TeamShare/Data_Masterfile/Zahra-Thesis-Data/Newfolder/Beta_mask_bin6_sub04_ses1_run2.html\n",
      "Copied: /home/zkavian/thesis_code_git/Optim_fMRI/Optim_fMRI_new/HF_Beta_mask_bin5_sub04_ses1_run2.html -> /mnt/TeamShare/Data_Masterfile/Zahra-Thesis-Data/Newfolder/HF_Beta_mask_bin5_sub04_ses1_run2.html\n",
      "Copied: /home/zkavian/thesis_code_git/Optim_fMRI/Optim_fMRI_new/Noisepool_Mask_on_the_brain_sub04_ses1_run2.html -> /mnt/TeamShare/Data_Masterfile/Zahra-Thesis-Data/Newfolder/Noisepool_Mask_on_the_brain_sub04_ses1_run2.html\n",
      "Copied: /home/zkavian/thesis_code_git/Optim_fMRI/Optim_fMRI_new/HF_Beta_mask_bin1_sub04_ses1_run1_window5.html -> /mnt/TeamShare/Data_Masterfile/Zahra-Thesis-Data/Newfolder/HF_Beta_mask_bin1_sub04_ses1_run1_window5.html\n",
      "Copied: /home/zkavian/thesis_code_git/Optim_fMRI/Optim_fMRI_new/Beta_mask_bin9_sub04_ses1_run2.html -> /mnt/TeamShare/Data_Masterfile/Zahra-Thesis-Data/Newfolder/Beta_mask_bin9_sub04_ses1_run2.html\n",
      "Copied: /home/zkavian/thesis_code_git/Optim_fMRI/Optim_fMRI_new/HF_Beta_mask_bin1_sub04_ses1_run1_window3.html -> /mnt/TeamShare/Data_Masterfile/Zahra-Thesis-Data/Newfolder/HF_Beta_mask_bin1_sub04_ses1_run1_window3.html\n",
      "Copied: /home/zkavian/thesis_code_git/Optim_fMRI/Optim_fMRI_new/HF_Beta_mask_bin8_sub04_ses1_run2_window3.html -> /mnt/TeamShare/Data_Masterfile/Zahra-Thesis-Data/Newfolder/HF_Beta_mask_bin8_sub04_ses1_run2_window3.html\n",
      "Copied: /home/zkavian/thesis_code_git/Optim_fMRI/Optim_fMRI_new/Final_voxels_(without_nan_outlier)_sub04_ses1_run2_window7.html -> /mnt/TeamShare/Data_Masterfile/Zahra-Thesis-Data/Newfolder/Final_voxels_(without_nan_outlier)_sub04_ses1_run2_window7.html\n",
      "Copied: /home/zkavian/thesis_code_git/Optim_fMRI/Optim_fMRI_new/HF_Beta_mask_bin2_sub04_ses1_run2_window5.html -> /mnt/TeamShare/Data_Masterfile/Zahra-Thesis-Data/Newfolder/HF_Beta_mask_bin2_sub04_ses1_run2_window5.html\n",
      "Copied: /home/zkavian/thesis_code_git/Optim_fMRI/Optim_fMRI_new/Final_voxels_(without_nan_outlier_low_R2)_sub04_ses1_run2_window7.html -> /mnt/TeamShare/Data_Masterfile/Zahra-Thesis-Data/Newfolder/Final_voxels_(without_nan_outlier_low_R2)_sub04_ses1_run2_window7.html\n",
      "Copied: /home/zkavian/thesis_code_git/Optim_fMRI/Optim_fMRI_new/HF_Beta_mask_bin1_sub04_ses1_run1_window7.html -> /mnt/TeamShare/Data_Masterfile/Zahra-Thesis-Data/Newfolder/HF_Beta_mask_bin1_sub04_ses1_run1_window7.html\n",
      "Copied: /home/zkavian/thesis_code_git/Optim_fMRI/Optim_fMRI_new/HF_Beta_mask_bin4_sub04_ses1_run2_window7.html -> /mnt/TeamShare/Data_Masterfile/Zahra-Thesis-Data/Newfolder/HF_Beta_mask_bin4_sub04_ses1_run2_window7.html\n",
      "Copied: /home/zkavian/thesis_code_git/Optim_fMRI/Optim_fMRI_new/Beta_mask_bin5_sub04_ses1_run1.html -> /mnt/TeamShare/Data_Masterfile/Zahra-Thesis-Data/Newfolder/Beta_mask_bin5_sub04_ses1_run1.html\n",
      "Copied: /home/zkavian/thesis_code_git/Optim_fMRI/Optim_fMRI_new/Beta_mask_bin1_sub04_ses1_run2.html -> /mnt/TeamShare/Data_Masterfile/Zahra-Thesis-Data/Newfolder/Beta_mask_bin1_sub04_ses1_run2.html\n",
      "Copied: /home/zkavian/thesis_code_git/Optim_fMRI/Optim_fMRI_new/Final_voxels_(without_nan_outlier_low_R2)_sub04_ses1_run1_window7.html -> /mnt/TeamShare/Data_Masterfile/Zahra-Thesis-Data/Newfolder/Final_voxels_(without_nan_outlier_low_R2)_sub04_ses1_run1_window7.html\n",
      "Copied: /home/zkavian/thesis_code_git/Optim_fMRI/Optim_fMRI_new/Beta_mask_bin4_sub04_ses1_run2.html -> /mnt/TeamShare/Data_Masterfile/Zahra-Thesis-Data/Newfolder/Beta_mask_bin4_sub04_ses1_run2.html\n",
      "Copied: /home/zkavian/thesis_code_git/Optim_fMRI/Optim_fMRI_new/HF_Beta_mask_bin1_sub04_ses1_run2.html -> /mnt/TeamShare/Data_Masterfile/Zahra-Thesis-Data/Newfolder/HF_Beta_mask_bin1_sub04_ses1_run2.html\n",
      "Copied: /home/zkavian/thesis_code_git/Optim_fMRI/Optim_fMRI_new/HF_Beta_mask_bin2_sub04_ses1_run2_window3.html -> /mnt/TeamShare/Data_Masterfile/Zahra-Thesis-Data/Newfolder/HF_Beta_mask_bin2_sub04_ses1_run2_window3.html\n",
      "Copied: /home/zkavian/thesis_code_git/Optim_fMRI/Optim_fMRI_new/Final_voxels_(without_nan_outlier_low_R2)_sub04_ses1_run2_window3.html -> /mnt/TeamShare/Data_Masterfile/Zahra-Thesis-Data/Newfolder/Final_voxels_(without_nan_outlier_low_R2)_sub04_ses1_run2_window3.html\n",
      "Copied: /home/zkavian/thesis_code_git/Optim_fMRI/Optim_fMRI_new/Final_voxels_(without_nan)_sub04_ses1_run1_window5.html -> /mnt/TeamShare/Data_Masterfile/Zahra-Thesis-Data/Newfolder/Final_voxels_(without_nan)_sub04_ses1_run1_window5.html\n",
      "Copied: /home/zkavian/thesis_code_git/Optim_fMRI/Optim_fMRI_new/HF_Beta_mask_bin6_sub04_ses1_run2_window7.html -> /mnt/TeamShare/Data_Masterfile/Zahra-Thesis-Data/Newfolder/HF_Beta_mask_bin6_sub04_ses1_run2_window7.html\n",
      "Copied: /home/zkavian/thesis_code_git/Optim_fMRI/Optim_fMRI_new/HF_Beta_mask_bin6_sub04_ses1_run2_window5.html -> /mnt/TeamShare/Data_Masterfile/Zahra-Thesis-Data/Newfolder/HF_Beta_mask_bin6_sub04_ses1_run2_window5.html\n",
      "Copied: /home/zkavian/thesis_code_git/Optim_fMRI/Optim_fMRI_new/HF_Beta_mask_bin7_sub04_ses1_run2_window5.html -> /mnt/TeamShare/Data_Masterfile/Zahra-Thesis-Data/Newfolder/HF_Beta_mask_bin7_sub04_ses1_run2_window5.html\n",
      "Copied: /home/zkavian/thesis_code_git/Optim_fMRI/Optim_fMRI_new/HF_Beta_mask_bin4_sub04_ses1_run1_window5.html -> /mnt/TeamShare/Data_Masterfile/Zahra-Thesis-Data/Newfolder/HF_Beta_mask_bin4_sub04_ses1_run1_window5.html\n",
      "Copied: /home/zkavian/thesis_code_git/Optim_fMRI/Optim_fMRI_new/Beta_mask_bin3_sub04_ses1_run2.html -> /mnt/TeamShare/Data_Masterfile/Zahra-Thesis-Data/Newfolder/Beta_mask_bin3_sub04_ses1_run2.html\n",
      "Copied: /home/zkavian/thesis_code_git/Optim_fMRI/Optim_fMRI_new/HF_Beta_mask_bin9_sub04_ses1_run2.html -> /mnt/TeamShare/Data_Masterfile/Zahra-Thesis-Data/Newfolder/HF_Beta_mask_bin9_sub04_ses1_run2.html\n",
      "Copied: /home/zkavian/thesis_code_git/Optim_fMRI/Optim_fMRI_new/Noisepool_Mask_on_the_brain_sub04_ses1_run1.html -> /mnt/TeamShare/Data_Masterfile/Zahra-Thesis-Data/Newfolder/Noisepool_Mask_on_the_brain_sub04_ses1_run1.html\n",
      "Copied: /home/zkavian/thesis_code_git/Optim_fMRI/Optim_fMRI_new/Final_voxels_(without_nan_outlier_low_R2)_sub04_ses1_run1_window5.html -> /mnt/TeamShare/Data_Masterfile/Zahra-Thesis-Data/Newfolder/Final_voxels_(without_nan_outlier_low_R2)_sub04_ses1_run1_window5.html\n",
      "Copied: /home/zkavian/thesis_code_git/Optim_fMRI/Optim_fMRI_new/Beta_mask_bin7_sub04_ses1_run2.html -> /mnt/TeamShare/Data_Masterfile/Zahra-Thesis-Data/Newfolder/Beta_mask_bin7_sub04_ses1_run2.html\n",
      "Copied: /home/zkavian/thesis_code_git/Optim_fMRI/Optim_fMRI_new/HF_Beta_mask_bin4_sub04_ses1_run2_window3.html -> /mnt/TeamShare/Data_Masterfile/Zahra-Thesis-Data/Newfolder/HF_Beta_mask_bin4_sub04_ses1_run2_window3.html\n",
      "Copied: /home/zkavian/thesis_code_git/Optim_fMRI/Optim_fMRI_new/HF_Beta_mask_bin2_sub04_ses1_run1_window5.html -> /mnt/TeamShare/Data_Masterfile/Zahra-Thesis-Data/Newfolder/HF_Beta_mask_bin2_sub04_ses1_run1_window5.html\n",
      "Copied: /home/zkavian/thesis_code_git/Optim_fMRI/Optim_fMRI_new/HF_Beta_mask_bin2_sub04_ses1_run1.html -> /mnt/TeamShare/Data_Masterfile/Zahra-Thesis-Data/Newfolder/HF_Beta_mask_bin2_sub04_ses1_run1.html\n",
      "Copied: /home/zkavian/thesis_code_git/Optim_fMRI/Optim_fMRI_new/Beta_mask_bin2_sub04_ses1_run1.html -> /mnt/TeamShare/Data_Masterfile/Zahra-Thesis-Data/Newfolder/Beta_mask_bin2_sub04_ses1_run1.html\n",
      "Copied: /home/zkavian/thesis_code_git/Optim_fMRI/Optim_fMRI_new/HF_Beta_mask_bin5_sub04_ses1_run2_window3.html -> /mnt/TeamShare/Data_Masterfile/Zahra-Thesis-Data/Newfolder/HF_Beta_mask_bin5_sub04_ses1_run2_window3.html\n",
      "Copied: /home/zkavian/thesis_code_git/Optim_fMRI/Optim_fMRI_new/HF_Beta_mask_bin3_sub04_ses1_run1.html -> /mnt/TeamShare/Data_Masterfile/Zahra-Thesis-Data/Newfolder/HF_Beta_mask_bin3_sub04_ses1_run1.html\n",
      "Copied: /home/zkavian/thesis_code_git/Optim_fMRI/Optim_fMRI_new/HF_Beta_mask_bin2_sub04_ses1_run1_window3.html -> /mnt/TeamShare/Data_Masterfile/Zahra-Thesis-Data/Newfolder/HF_Beta_mask_bin2_sub04_ses1_run1_window3.html\n",
      "Copied: /home/zkavian/thesis_code_git/Optim_fMRI/Optim_fMRI_new/Final_voxels_sub04_ses1_run2.html -> /mnt/TeamShare/Data_Masterfile/Zahra-Thesis-Data/Newfolder/Final_voxels_sub04_ses1_run2.html\n",
      "Copied: /home/zkavian/thesis_code_git/Optim_fMRI/Optim_fMRI_new/Beta_mask_bin8_sub04_ses1_run2.html -> /mnt/TeamShare/Data_Masterfile/Zahra-Thesis-Data/Newfolder/Beta_mask_bin8_sub04_ses1_run2.html\n",
      "Copied: /home/zkavian/thesis_code_git/Optim_fMRI/Optim_fMRI_new/Masked_BOLD_data_on_Anat_sub04_ses1_run2.html -> /mnt/TeamShare/Data_Masterfile/Zahra-Thesis-Data/Newfolder/Masked_BOLD_data_on_Anat_sub04_ses1_run2.html\n",
      "Copied: /home/zkavian/thesis_code_git/Optim_fMRI/Optim_fMRI_new/Final_voxels_(without_nan)_sub04_ses1_run2_window5.html -> /mnt/TeamShare/Data_Masterfile/Zahra-Thesis-Data/Newfolder/Final_voxels_(without_nan)_sub04_ses1_run2_window5.html\n",
      "Copied: /home/zkavian/thesis_code_git/Optim_fMRI/Optim_fMRI_new/HF_Beta_mask_bin2_sub04_ses1_run1_window7.html -> /mnt/TeamShare/Data_Masterfile/Zahra-Thesis-Data/Newfolder/HF_Beta_mask_bin2_sub04_ses1_run1_window7.html\n",
      "Copied: /home/zkavian/thesis_code_git/Optim_fMRI/Optim_fMRI_new/HF_Beta_mask_bin4_sub04_ses1_run2_window5.html -> /mnt/TeamShare/Data_Masterfile/Zahra-Thesis-Data/Newfolder/HF_Beta_mask_bin4_sub04_ses1_run2_window5.html\n",
      "Copied: /home/zkavian/thesis_code_git/Optim_fMRI/Optim_fMRI_new/Final_voxels_(without_nan)_sub04_ses1_run1_window7.html -> /mnt/TeamShare/Data_Masterfile/Zahra-Thesis-Data/Newfolder/Final_voxels_(without_nan)_sub04_ses1_run1_window7.html\n",
      "Copied: /home/zkavian/thesis_code_git/Optim_fMRI/Optim_fMRI_new/Final_voxels_(without_nan_outlier)_sub04_ses1_run2_window5.html -> /mnt/TeamShare/Data_Masterfile/Zahra-Thesis-Data/Newfolder/Final_voxels_(without_nan_outlier)_sub04_ses1_run2_window5.html\n",
      "Copied: /home/zkavian/thesis_code_git/Optim_fMRI/Optim_fMRI_new/Final_voxels_(without_nan)_sub04_ses1_run1_window3.html -> /mnt/TeamShare/Data_Masterfile/Zahra-Thesis-Data/Newfolder/Final_voxels_(without_nan)_sub04_ses1_run1_window3.html\n",
      "Copied: /home/zkavian/thesis_code_git/Optim_fMRI/Optim_fMRI_new/HF_Beta_mask_bin5_sub04_ses1_run1_window3.html -> /mnt/TeamShare/Data_Masterfile/Zahra-Thesis-Data/Newfolder/HF_Beta_mask_bin5_sub04_ses1_run1_window3.html\n",
      "Copied: /home/zkavian/thesis_code_git/Optim_fMRI/Optim_fMRI_new/Beta_mask_bin5_sub04_ses1_run2.html -> /mnt/TeamShare/Data_Masterfile/Zahra-Thesis-Data/Newfolder/Beta_mask_bin5_sub04_ses1_run2.html\n",
      "Copied: /home/zkavian/thesis_code_git/Optim_fMRI/Optim_fMRI_new/HF_Beta_mask_bin3_sub04_ses1_run1_window7.html -> /mnt/TeamShare/Data_Masterfile/Zahra-Thesis-Data/Newfolder/HF_Beta_mask_bin3_sub04_ses1_run1_window7.html\n",
      "Copied: /home/zkavian/thesis_code_git/Optim_fMRI/Optim_fMRI_new/Final_voxels_(without_nan_outlier)_sub04_ses1_run1_window3.html -> /mnt/TeamShare/Data_Masterfile/Zahra-Thesis-Data/Newfolder/Final_voxels_(without_nan_outlier)_sub04_ses1_run1_window3.html\n",
      "Copied: /home/zkavian/thesis_code_git/Optim_fMRI/Optim_fMRI_new/HF_Beta_mask_bin3_sub04_ses1_run2.html -> /mnt/TeamShare/Data_Masterfile/Zahra-Thesis-Data/Newfolder/HF_Beta_mask_bin3_sub04_ses1_run2.html\n",
      "Copied: /home/zkavian/thesis_code_git/Optim_fMRI/Optim_fMRI_new/HF_Beta_mask_bin4_sub04_ses1_run1.html -> /mnt/TeamShare/Data_Masterfile/Zahra-Thesis-Data/Newfolder/HF_Beta_mask_bin4_sub04_ses1_run1.html\n",
      "Copied: /home/zkavian/thesis_code_git/Optim_fMRI/Optim_fMRI_new/HF_Beta_mask_bin2_sub04_ses1_run2.html -> /mnt/TeamShare/Data_Masterfile/Zahra-Thesis-Data/Newfolder/HF_Beta_mask_bin2_sub04_ses1_run2.html\n",
      "Copied: /home/zkavian/thesis_code_git/Optim_fMRI/Optim_fMRI_new/Final_voxels_(without_nan_outlier)_sub04_ses1_run2_window3.html -> /mnt/TeamShare/Data_Masterfile/Zahra-Thesis-Data/Newfolder/Final_voxels_(without_nan_outlier)_sub04_ses1_run2_window3.html\n",
      "Copied: /home/zkavian/thesis_code_git/Optim_fMRI/Optim_fMRI_new/Beta_all_voxels_sub04_ses1_run2.html -> /mnt/TeamShare/Data_Masterfile/Zahra-Thesis-Data/Newfolder/Beta_all_voxels_sub04_ses1_run2.html\n",
      "Copied: /home/zkavian/thesis_code_git/Optim_fMRI/Optim_fMRI_new/Beta_mask_bin2_sub04_ses1_run2.html -> /mnt/TeamShare/Data_Masterfile/Zahra-Thesis-Data/Newfolder/Beta_mask_bin2_sub04_ses1_run2.html\n",
      "Copied: /home/zkavian/thesis_code_git/Optim_fMRI/Optim_fMRI_new/BOLD_data_on_Anat_sub04_ses1_run2.html -> /mnt/TeamShare/Data_Masterfile/Zahra-Thesis-Data/Newfolder/BOLD_data_on_Anat_sub04_ses1_run2.html\n",
      "Copied: /home/zkavian/thesis_code_git/Optim_fMRI/Optim_fMRI_new/HF_Beta_mask_bin3_sub04_ses1_run2_window5.html -> /mnt/TeamShare/Data_Masterfile/Zahra-Thesis-Data/Newfolder/HF_Beta_mask_bin3_sub04_ses1_run2_window5.html\n",
      "Copied: /home/zkavian/thesis_code_git/Optim_fMRI/Optim_fMRI_new/HF_Beta_mask_bin8_sub04_ses1_run2_window5.html -> /mnt/TeamShare/Data_Masterfile/Zahra-Thesis-Data/Newfolder/HF_Beta_mask_bin8_sub04_ses1_run2_window5.html\n",
      "Copied: /home/zkavian/thesis_code_git/Optim_fMRI/Optim_fMRI_new/HF_Beta_mask_bin2_sub04_ses1_run2_window7.html -> /mnt/TeamShare/Data_Masterfile/Zahra-Thesis-Data/Newfolder/HF_Beta_mask_bin2_sub04_ses1_run2_window7.html\n",
      "Copied: /home/zkavian/thesis_code_git/Optim_fMRI/Optim_fMRI_new/HF_Beta_mask_bin4_sub04_ses1_run1_window7.html -> /mnt/TeamShare/Data_Masterfile/Zahra-Thesis-Data/Newfolder/HF_Beta_mask_bin4_sub04_ses1_run1_window7.html\n",
      "Copied: /home/zkavian/thesis_code_git/Optim_fMRI/Optim_fMRI_new/Beta_abs_all_voxels_sub04_ses1_run2.html -> /mnt/TeamShare/Data_Masterfile/Zahra-Thesis-Data/Newfolder/Beta_abs_all_voxels_sub04_ses1_run2.html\n",
      "Copied: /home/zkavian/thesis_code_git/Optim_fMRI/Optim_fMRI_new/HF_Beta_mask_bin6_sub04_ses1_run2_window3.html -> /mnt/TeamShare/Data_Masterfile/Zahra-Thesis-Data/Newfolder/HF_Beta_mask_bin6_sub04_ses1_run2_window3.html\n",
      "Copied: /home/zkavian/thesis_code_git/Optim_fMRI/Optim_fMRI_new/Masked_BOLD_data_on_Anat_sub04_ses1_run1.html -> /mnt/TeamShare/Data_Masterfile/Zahra-Thesis-Data/Newfolder/Masked_BOLD_data_on_Anat_sub04_ses1_run1.html\n",
      "Copied: /home/zkavian/thesis_code_git/Optim_fMRI/Optim_fMRI_new/HF_Beta_mask_bin1_sub04_ses1_run2_window7.html -> /mnt/TeamShare/Data_Masterfile/Zahra-Thesis-Data/Newfolder/HF_Beta_mask_bin1_sub04_ses1_run2_window7.html\n"
     ]
    }
   ],
   "source": [
    "import os\n",
    "import shutil\n",
    "\n",
    "def copy_html_files(src_folder, dst_folder):\n",
    "    # Make sure the destination folder exists\n",
    "    os.makedirs(dst_folder, exist_ok=True)\n",
    "\n",
    "    # Walk through the source folder\n",
    "    for root, dirs, files in os.walk(src_folder):\n",
    "        for file in files:\n",
    "            if file.endswith(\".html\"):\n",
    "                src_path = os.path.join(root, file)\n",
    "                dst_path = os.path.join(dst_folder, file)\n",
    "\n",
    "                # Copy the file\n",
    "                shutil.copy2(src_path, dst_path)\n",
    "                print(f\"Copied: {src_path} -> {dst_path}\")\n",
    "\n",
    "# Example usage:\n",
    "src_folder = \"/home/zkavian/thesis_code_git/Optim_fMRI/Optim_fMRI_new\"   # Change this to your folder\n",
    "dst_folder = \"/mnt/TeamShare/Data_Masterfile/Zahra-Thesis-Data/Newfolder/\"  # Change this to where you want files saved\n",
    "\n",
    "copy_html_files(src_folder, dst_folder)\n"
   ]
  },
  {
   "cell_type": "code",
   "execution_count": null,
   "id": "20fa4fde",
   "metadata": {},
   "outputs": [],
   "source": []
  },
  {
   "cell_type": "code",
   "execution_count": null,
   "id": "fe9e21d9",
   "metadata": {},
   "outputs": [],
   "source": []
  }
 ],
 "metadata": {
  "kernelspec": {
   "display_name": ".venv",
   "language": "python",
   "name": "python3"
  },
  "language_info": {
   "codemirror_mode": {
    "name": "ipython",
    "version": 3
   },
   "file_extension": ".py",
   "mimetype": "text/x-python",
   "name": "python",
   "nbconvert_exporter": "python",
   "pygments_lexer": "ipython3",
   "version": "3.10.12"
  }
 },
 "nbformat": 4,
 "nbformat_minor": 5
}
