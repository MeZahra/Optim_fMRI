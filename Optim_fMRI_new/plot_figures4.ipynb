{
 "cells": [
  {
   "cell_type": "code",
   "execution_count": 1,
   "id": "711c4269",
   "metadata": {},
   "outputs": [],
   "source": [
    "import nibabel as nib\n",
    "import numpy as np\n",
    "import matplotlib.pylab as plt\n",
    "import cvxpy as cp\n",
    "import pandas as pd\n",
    "from os.path import join\n",
    "from scipy.spatial.distance import cdist\n",
    "from scipy.sparse import csgraph\n",
    "from scipy.stats import skew, kurtosis\n",
    "from itertools import product\n",
    "from sklearn.model_selection import KFold\n",
    "from matplotlib.animation import FuncAnimation\n",
    "from nilearn import masking\n",
    "from nilearn.image import new_img_like\n",
    "from nilearn.plotting import plot_stat_map, view_img\n",
    "import os, sys\n",
    "from config import Config\n",
    "from pathlib import Path\n",
    "from nilearn.image import mean_img\n",
    "from nilearn.image import resample_to_img\n",
    "import warnings\n",
    "from scipy import stats\n",
    "from statsmodels.stats.multitest import multipletests\n",
    "from scipy.ndimage import median_filter\n",
    "import statistics"
   ]
  },
  {
   "cell_type": "code",
   "execution_count": 2,
   "id": "2f698fff",
   "metadata": {},
   "outputs": [],
   "source": [
    "def remove_background(mask, anat_file, bold_data):\n",
    "    mask_in_run1_img = resample_to_img(source_img=mask, target_img=anat_file, interpolation='nearest')\n",
    "    anat_data = anat_file.get_fdata()\n",
    "    valid_run1 = np.isfinite(anat_data) & (anat_data != 0)\n",
    "    mask_in_run1 = mask_in_run1_img.get_fdata().astype(bool)\n",
    "    combined_mask = mask_in_run1 & valid_run1\n",
    "    mask_4d = combined_mask[..., np.newaxis]\n",
    "\n",
    "    bold_data_masked = bold_data * mask_4d\n",
    "    active_voxels = np.any(bold_data_masked != 0, axis=-1)  \n",
    "    final_mask = active_voxels & combined_mask\n",
    "    masked_timeseries_3d = np.where(final_mask[..., None], bold_data, 0)\n",
    "\n",
    "    active_voxels = np.any(masked_timeseries_3d != 0, axis=-1)\n",
    "    coords = np.array(np.where(active_voxels)).T\n",
    "    xmin, ymin, zmin = coords.min(axis=0)\n",
    "    xmax, ymax, zmax = coords.max(axis=0)\n",
    "    # crop to bounding box\n",
    "    masked_timeseries_3d_cropped = masked_timeseries_3d[xmin:xmax+1, ymin:ymax+1, zmin:zmax+1, :]\n",
    "    return masked_timeseries_3d_cropped, xmin, ymin, zmin\n",
    "\n",
    "\n",
    "def save_beta_html(beta_3d, anat_img, bold_img, A, title, fname):\n",
    "    with warnings.catch_warnings():\n",
    "        warnings.filterwarnings(\"ignore\", message=\".*symmetric_cmap=False.*\", category=UserWarning)\n",
    "        warnings.filterwarnings(\"ignore\", message=\".*vmin cannot be chosen when cmap is symmetric.*\", category=UserWarning)\n",
    "\n",
    "    finite = np.isfinite(beta_3d)\n",
    "    beta_filled = np.where(finite, beta_3d, 0.0)\n",
    "    \n",
    "    # keep NaNs — they’ll be transparent\n",
    "    finite = np.isfinite(beta_3d)\n",
    "    if not np.any(finite):\n",
    "        raise ValueError(\"No finite values to display.\")\n",
    "    \n",
    "    vmax = np.nanpercentile(beta_filled[finite], 99)  \n",
    "    vmin = np.nanpercentile(beta_filled[finite], 1)\n",
    "    print(f\"vmin: {vmin}, vmax:{vmax}\")\n",
    "    thr = 1e-6 \n",
    "\n",
    "    beta_on_anat = nib.Nifti1Image(beta_3d, A, bold_img.header)\n",
    "    \n",
    "    view = view_img(beta_on_anat, bg_img=anat_img, cmap='seismic', symmetric_cmap=False, vmax=vmax, vmin=vmin, threshold=thr, \n",
    "                    colorbar=True, title=title)\n",
    "    view.save_as_html(file_name=fname)\n",
    "\n",
    "# def robust_vrange(img, lo=1, hi=99):\n",
    "#     data = np.asarray(img.get_fdata(), dtype=float)\n",
    "#     data = data[np.isfinite(data)]\n",
    "#     if data.size == 0:\n",
    "#         return 0.0, 1.0\n",
    "#     vmin, vmax = np.percentile(data, [lo, hi])\n",
    "#     return float(vmin), float(vmax)\n",
    "\n",
    "def plot_beta_hist(beta_value, xlim_range=None, title=None):\n",
    "    plt.figure()\n",
    "    plt.hist(beta_value.ravel(), bins=10)\n",
    "    plt.xlabel('Beta Value')\n",
    "    plt.ylabel('Count')\n",
    "    if xlim_range:\n",
    "        plt.xlim(xlim_range)\n",
    "    if title:\n",
    "        plt.title(title)\n",
    "    plt.show()\n",
    "\n",
    "fmt = lambda x: f\"{x:.3f}\"\n",
    "fmt_arr = lambda a: np.array2string(np.asarray(a), precision=3, separator=', ', suppress_small=True)\n"
   ]
  },
  {
   "cell_type": "code",
   "execution_count": 3,
   "id": "19eedcf8",
   "metadata": {},
   "outputs": [
    {
     "name": "stdout",
     "output_type": "stream",
     "text": [
      "(90, 128, 85)\n",
      "(90, 128, 85, 850)\n",
      "(180, 256, 170)\n"
     ]
    }
   ],
   "source": [
    "ses = 1\n",
    "sub = '04'\n",
    "run = 1\n",
    "\n",
    "base_path = '/mnt/TeamShare/Data_Masterfile/H20-00572_All-Dressed/PRECISIONSTIM_PD_Data_Results/fMRI_preprocessed_data/Rev_pipeline/derivatives'\n",
    "anat_img = nib.load(f'/mnt/TeamShare/Data_Masterfile/H20-00572_All-Dressed/PRECISIONSTIM_PD_Data_Results/fMRI_preprocessed_data/Rev_pipeline/derivatives/sub-pd0{sub}/ses-{ses}/anat/sub-pd0{sub}_ses-{ses}_T1w_brain_2mm.nii.gz')\n",
    "\n",
    "data_name = f'sub-pd0{sub}_ses-{ses}_run-{run}_task-mv_bold_corrected_smoothed_reg_2mm.nii.gz'\n",
    "BOLD_path_org = join(base_path, f'sub-pd0{sub}', f'ses-{ses}', 'func', data_name)\n",
    "bold_img = nib.load(BOLD_path_org)\n",
    "bold_data = bold_img.get_fdata()\n",
    "\n",
    "mask_path = f'/mnt/TeamShare/Data_Masterfile/H20-00572_All-Dressed/PRECISIONSTIM_PD_Data_Results/fMRI_preprocessed_data/Rev_pipeline/derivatives/sub-pd0{sub}/ses-{ses}/anat/sub-pd0{sub}_ses-{ses}_T1w_brain_mask.nii.gz'\n",
    "mask = nib.load(mask_path)\n",
    "\n",
    "print(anat_img.shape)\n",
    "print(bold_data.shape)\n",
    "print(mask.shape)"
   ]
  },
  {
   "cell_type": "code",
   "execution_count": 4,
   "id": "fb19ce54",
   "metadata": {},
   "outputs": [
    {
     "name": "stderr",
     "output_type": "stream",
     "text": [
      "/tmp/ipykernel_321280/206324395.py:2: FutureWarning: From release 0.13.0 onwards, this function will, by default, copy the header of the input image to the output. Currently, the header is reset to the default Nifti1Header. To suppress this warning and use the new behavior, set `copy_header=True`.\n",
      "  view = view_img(mean_img(bold_img), bg_img=anat_img, cmap='seismic', symmetric_cmap=False, colorbar=True)\n",
      "/home/zkavian/thesis_code_git/.venv/lib/python3.12/site-packages/numpy/_core/fromnumeric.py:868: UserWarning: Warning: 'partition' will ignore the 'mask' of the MaskedArray.\n",
      "  a.partition(kth, axis=axis, kind=kind, order=order)\n"
     ]
    }
   ],
   "source": [
    "# plot bold on anat\n",
    "view = view_img(mean_img(bold_img), bg_img=anat_img, cmap='seismic', symmetric_cmap=False, colorbar=True)\n",
    "view.save_as_html(file_name='Bold_on_Anat.html')"
   ]
  },
  {
   "cell_type": "code",
   "execution_count": 4,
   "id": "66bfb0a7",
   "metadata": {},
   "outputs": [
    {
     "name": "stderr",
     "output_type": "stream",
     "text": [
      "/tmp/ipykernel_324750/94407561.py:2: FutureWarning: 'force_resample' will be set to 'True' by default in Nilearn 0.13.0.\n",
      "Use 'force_resample=True' to suppress this warning.\n",
      "  mask_in_run1_img = resample_to_img(source_img=mask, target_img=anat_file, interpolation='nearest')\n",
      "/tmp/ipykernel_324750/94407561.py:2: FutureWarning: From release 0.13.0 onwards, this function will, by default, copy the header of the input image to the output. Currently, the header is reset to the default Nifti1Header. To suppress this warning and use the new behavior, set `copy_header=True`.\n",
      "  mask_in_run1_img = resample_to_img(source_img=mask, target_img=anat_file, interpolation='nearest')\n"
     ]
    },
    {
     "name": "stdout",
     "output_type": "stream",
     "text": [
      "(69, 92, 73, 850)\n"
     ]
    }
   ],
   "source": [
    "glm_dict = np.load('/home/zkavian/thesis_code_git/GLMOutputs-sub04-ses1/TYPED_FITHRF_GLMDENOISE_RR.npy', allow_pickle=True).item()\n",
    "beta_glm = glm_dict['betasmd']\n",
    "beta_run1, beta_run2 = beta_glm[..., :90], beta_glm[..., 90:]\n",
    "R2_run1, R2_run2 = glm_dict['R2run'][:,:,:,0], glm_dict['R2run'][:,:,:,1]\n",
    "\n",
    "beta = beta_run1\n",
    "R2 = R2_run1\n",
    "\n",
    "masked_bold_data, xmin, ymin, zmin = remove_background(mask, anat_img, bold_data)\n",
    "print(masked_bold_data.shape)\n",
    "A = bold_img.affine.copy()\n",
    "A[:3, 3] = A[:3, 3] + A[:3, :3] @ np.array([xmin, ymin, zmin], dtype=float)\n",
    "\n",
    "\n",
    "# beta_img_can = nib.Nifti1Image(glm_dict['betasmd'].astype(np.float32),\n",
    "#                                bold_can.affine, bold_can.header)\n",
    "# beta_img_in_bold = resample_to_img(beta_img_can, bold_img_run1, interpolation='continuous')\n",
    "# betas_in_bold = beta_img_in_bold.get_fdata() "
   ]
  },
  {
   "cell_type": "code",
   "execution_count": 6,
   "id": "92b0c17e",
   "metadata": {},
   "outputs": [
    {
     "name": "stderr",
     "output_type": "stream",
     "text": [
      "/home/zkavian/thesis_code_git/.venv/lib/python3.12/site-packages/numpy/_core/fromnumeric.py:868: UserWarning: Warning: 'partition' will ignore the 'mask' of the MaskedArray.\n",
      "  a.partition(kth, axis=axis, kind=kind, order=order)\n",
      "/tmp/ipykernel_319983/1288270985.py:6: RuntimeWarning: Mean of empty slice\n",
      "  save_beta_html(np.nanmean(beta, axis=-1), anat_img, bold_img, A, '', fname = f\"Masked_beta{sub}_ses{ses}_run{run}.html\")\n",
      "/tmp/ipykernel_319983/94407561.py:43: UserWarning: Non-finite values detected. These values will be replaced with zeros.\n",
      "  view = view_img(beta_on_anat, bg_img=anat_img, cmap='seismic', symmetric_cmap=False, vmax=vmax, vmin=vmin, threshold=thr,\n",
      "/tmp/ipykernel_319983/94407561.py:43: UserWarning: you have specified symmetric_cmap=False but the map contains negative values; setting symmetric_cmap to True\n",
      "  view = view_img(beta_on_anat, bg_img=anat_img, cmap='seismic', symmetric_cmap=False, vmax=vmax, vmin=vmin, threshold=thr,\n",
      "/tmp/ipykernel_319983/94407561.py:43: UserWarning: vmin cannot be chosen when cmap is symmetric\n",
      "  view = view_img(beta_on_anat, bg_img=anat_img, cmap='seismic', symmetric_cmap=False, vmax=vmax, vmin=vmin, threshold=thr,\n",
      "/home/zkavian/thesis_code_git/.venv/lib/python3.12/site-packages/numpy/_core/fromnumeric.py:868: UserWarning: Warning: 'partition' will ignore the 'mask' of the MaskedArray.\n",
      "  a.partition(kth, axis=axis, kind=kind, order=order)\n"
     ]
    },
    {
     "name": "stdout",
     "output_type": "stream",
     "text": [
      "vmin: -2.888521671295166, vmax:2.661463499069214\n"
     ]
    }
   ],
   "source": [
    "bold_img_masked = nib.Nifti1Image(masked_bold_data, A)\n",
    "bold_mean_masked = mean_img(bold_img_masked, copy_header=True)\n",
    "view = view_img(bold_mean_masked, bg_img=anat_img, title='Masked BOLD Image on Anatomic Brain')\n",
    "view.save_as_html(f\"Masked_BOLD_data_on_anat_sub{sub}_ses{ses}_run{run}.html\")\n",
    "\n",
    "save_beta_html(np.nanmean(beta, axis=-1), anat_img, bold_img, A, '', fname = f\"Masked_beta{sub}_ses{ses}_run{run}.html\")"
   ]
  },
  {
   "cell_type": "code",
   "execution_count": 16,
   "id": "ab6654b9",
   "metadata": {},
   "outputs": [
    {
     "data": {
      "image/png": "[encoded data removed]",
      "text/plain": [
       "<Figure size 640x480 with 2 Axes>"
      ]
     },
     "metadata": {},
     "output_type": "display_data"
    }
   ],
   "source": [
    "fig, ax = plt.subplots(2,1)\n",
    "ax[0].hist(beta.ravel(), bins=10)\n",
    "ax[0].set_title(f\"All Beta Values (for all trial), range: [{fmt(np.nanmin(beta.ravel()))}, {fmt(np.nanmax(beta.ravel()))}]\")\n",
    "\n",
    "zoom_mask = (-20 <= beta) & (beta <= 50)\n",
    "ax[1].hist(beta[zoom_mask].ravel(), bins=10)\n",
    "# ax[1].set_xlim() #(1500, 20)\n",
    "ax[1].set_title(\"All Beta Values (for all trial), zoom on range which contain most of the beta (-20: 20)\")\n",
    "\n",
    "plt.tight_layout()\n",
    "plt.show()"
   ]
  },
  {
   "cell_type": "code",
   "execution_count": 8,
   "id": "b582daeb",
   "metadata": {},
   "outputs": [],
   "source": [
    "#hist beta of voxels which have high beta\n",
    "mask = np.where(abs(beta)>=20)\n",
    "coords = np.column_stack(mask[:3])\n",
    "unique_coords = np.unique(coords, axis=0)\n",
    "# print(unique_coords)"
   ]
  },
  {
   "cell_type": "code",
   "execution_count": 9,
   "id": "c7db8158",
   "metadata": {},
   "outputs": [
    {
     "name": "stdout",
     "output_type": "stream",
     "text": [
      "0.697% of voxels have abs(beta) value higher than 20.\n",
      "0.471% of trials have abs(beta) value higher than 20.\n"
     ]
    }
   ],
   "source": [
    "print(f\"{fmt(unique_coords.shape[0]/beta[:3].size*100)}% of voxels have abs(beta) value higher than 20.\")\n",
    "print(f\"{fmt(np.where(mask)[0].shape[0]/beta.size*100)}% of trials have abs(beta) value higher than 20.\")"
   ]
  },
  {
   "cell_type": "code",
   "execution_count": 10,
   "id": "e9931dc6",
   "metadata": {},
   "outputs": [
    {
     "name": "stderr",
     "output_type": "stream",
     "text": [
      "/tmp/ipykernel_319983/3215622337.py:7: RuntimeWarning: Mean of empty slice\n",
      "  beta_summary = np.nanmean(beta_new, axis=-1)\n",
      "/tmp/ipykernel_319983/94407561.py:43: UserWarning: Non-finite values detected. These values will be replaced with zeros.\n",
      "  view = view_img(beta_on_anat, bg_img=anat_img, cmap='seismic', symmetric_cmap=False, vmax=vmax, vmin=vmin, threshold=thr,\n",
      "/tmp/ipykernel_319983/94407561.py:43: UserWarning: you have specified symmetric_cmap=False but the map contains negative values; setting symmetric_cmap to True\n",
      "  view = view_img(beta_on_anat, bg_img=anat_img, cmap='seismic', symmetric_cmap=False, vmax=vmax, vmin=vmin, threshold=thr,\n",
      "/tmp/ipykernel_319983/94407561.py:43: UserWarning: vmin cannot be chosen when cmap is symmetric\n",
      "  view = view_img(beta_on_anat, bg_img=anat_img, cmap='seismic', symmetric_cmap=False, vmax=vmax, vmin=vmin, threshold=thr,\n",
      "/home/zkavian/thesis_code_git/.venv/lib/python3.12/site-packages/numpy/_core/fromnumeric.py:868: UserWarning: Warning: 'partition' will ignore the 'mask' of the MaskedArray.\n",
      "  a.partition(kth, axis=axis, kind=kind, order=order)\n"
     ]
    },
    {
     "name": "stdout",
     "output_type": "stream",
     "text": [
      "vmin: -336.05652587890626, vmax:320.15985961914055\n"
     ]
    }
   ],
   "source": [
    "beta_thr = 20  \n",
    "beta_new = np.full_like(beta, np.nan, dtype=float)\n",
    "beta_mask = np.abs(beta) >= beta_thr\n",
    "beta_new[beta_mask] = beta[beta_mask]\n",
    "\n",
    "mask3d = np.any(beta_mask, axis=-1)\n",
    "beta_summary = np.nanmean(beta_new, axis=-1)\n",
    "beta_3d = np.where(mask3d, beta_summary, np.nan)\n",
    "\n",
    "\n",
    "title = f\"Voxels with |beta| >= {beta_thr}\"\n",
    "fname = f\"HighLow_beta_thr{beta_thr}_sub{sub}_ses{ses}_run{run}.html\"\n",
    "save_beta_html(beta_3d, anat_img, bold_img, A, title, fname)"
   ]
  },
  {
   "cell_type": "code",
   "execution_count": 11,
   "id": "23556605",
   "metadata": {},
   "outputs": [
    {
     "name": "stdout",
     "output_type": "stream",
     "text": [
      "-2978.9607 12023.069\n",
      "Axes(0.125,0.653529;0.227941x0.226471) 1 47 34\n",
      "Axes(0.398529,0.653529;0.227941x0.226471) 2 57 28\n",
      "Axes(0.672059,0.653529;0.227941x0.226471) 7 59 50\n",
      "Axes(0.125,0.381765;0.227941x0.226471) 12 26 41\n",
      "Axes(0.398529,0.381765;0.227941x0.226471) 27 42 32\n",
      "Axes(0.672059,0.381765;0.227941x0.226471) 34 32 21\n",
      "Axes(0.125,0.11;0.227941x0.226471) 41 57 70\n",
      "Axes(0.398529,0.11;0.227941x0.226471) 50 31 44\n",
      "Axes(0.672059,0.11;0.227941x0.226471) 68 45 27\n"
     ]
    },
    {
     "name": "stderr",
     "output_type": "stream",
     "text": [
      "/tmp/ipykernel_319983/3266391005.py:22: UserWarning: The figure layout has changed to tight\n",
      "  plt.tight_layout()\n"
     ]
    },
    {
     "data": {
      "image/png": "[encoded data removed]",
      "text/plain": [
       "<Figure size 640x480 with 9 Axes>"
      ]
     },
     "metadata": {},
     "output_type": "display_data"
    }
   ],
   "source": [
    "#hist all beta\n",
    "# plt.figure()\n",
    "# plt.hist(beta.ravel(), bins=10)\n",
    "# plt.xlim([-1600, 50]) #(1500, 20)\n",
    "print(np.nanmin(beta), np.nanmax(beta))\n",
    "\n",
    "fig, axs = plt.subplots(3,3, layout='constrained')\n",
    "axs = axs.ravel()\n",
    "voxels = [10,50,500,1200,4555,6000,8000,10000,-1]\n",
    "n_coords = len(unique_coords)\n",
    "\n",
    "for ax, idx in zip(axs, voxels):\n",
    "    # if not (-n_coords <= idx < n_coords):\n",
    "    #     ax.set_visible(False)\n",
    "    #     continue\n",
    "    i,j,k = unique_coords[idx].astype(int).tolist()\n",
    "    print(ax, i, j, k)\n",
    "    ax.hist(beta[i,j,k,:], bins=10)\n",
    "    ax.set_title(f\"coordinate: {[i,j,k]}\")\n",
    "\n",
    "plt.suptitle(\"Some voxels with high beta value\")\n",
    "plt.tight_layout()\n",
    "plt.subplots_adjust(hspace=0.5, wspace=0.3, top=0.88)\n",
    "plt.show()"
   ]
  },
  {
   "cell_type": "code",
   "execution_count": 39,
   "id": "3bf6d5ca",
   "metadata": {},
   "outputs": [
    {
     "ename": "KeyboardInterrupt",
     "evalue": "",
     "output_type": "error",
     "traceback": [
      "\u001b[31m---------------------------------------------------------------------------\u001b[39m",
      "\u001b[31mKeyboardInterrupt\u001b[39m                         Traceback (most recent call last)",
      "\u001b[36mCell\u001b[39m\u001b[36m \u001b[39m\u001b[32mIn[39]\u001b[39m\u001b[32m, line 12\u001b[39m\n\u001b[32m      9\u001b[39m     \u001b[38;5;28;01mcontinue\u001b[39;00m\n\u001b[32m     11\u001b[39m med = statistics.median(series)\n\u001b[32m---> \u001b[39m\u001b[32m12\u001b[39m mad = \u001b[43mstats\u001b[49m\u001b[43m.\u001b[49m\u001b[43mmedian_abs_deviation\u001b[49m\u001b[43m(\u001b[49m\u001b[43mseries\u001b[49m\u001b[43m)\u001b[49m\n\u001b[32m     13\u001b[39m s_v = \u001b[32m1.4826\u001b[39m*mad\n\u001b[32m     14\u001b[39m s_v = \u001b[38;5;28mmax\u001b[39m(s_v, \u001b[32m1e-8\u001b[39m)\n",
      "\u001b[36mFile \u001b[39m\u001b[32m~/thesis_code_git/.venv/lib/python3.12/site-packages/scipy/stats/_stats_py.py:3394\u001b[39m, in \u001b[36mmedian_abs_deviation\u001b[39m\u001b[34m(x, axis, center, scale, nan_policy)\u001b[39m\n\u001b[32m   3390\u001b[39m     \u001b[38;5;28;01melse\u001b[39;00m:\n\u001b[32m   3391\u001b[39m         \u001b[38;5;66;03m# Wrap the call to center() in expand_dims() so it acts like\u001b[39;00m\n\u001b[32m   3392\u001b[39m         \u001b[38;5;66;03m# keepdims=True was used.\u001b[39;00m\n\u001b[32m   3393\u001b[39m         med = np.expand_dims(center(x, axis=axis), axis)\n\u001b[32m-> \u001b[39m\u001b[32m3394\u001b[39m         mad = \u001b[43mnp\u001b[49m\u001b[43m.\u001b[49m\u001b[43mmedian\u001b[49m\u001b[43m(\u001b[49m\u001b[43mnp\u001b[49m\u001b[43m.\u001b[49m\u001b[43mabs\u001b[49m\u001b[43m(\u001b[49m\u001b[43mx\u001b[49m\u001b[43m \u001b[49m\u001b[43m-\u001b[49m\u001b[43m \u001b[49m\u001b[43mmed\u001b[49m\u001b[43m)\u001b[49m\u001b[43m,\u001b[49m\u001b[43m \u001b[49m\u001b[43maxis\u001b[49m\u001b[43m=\u001b[49m\u001b[43maxis\u001b[49m\u001b[43m)\u001b[49m\n\u001b[32m   3396\u001b[39m \u001b[38;5;28;01mreturn\u001b[39;00m mad / scale\n",
      "\u001b[36mFile \u001b[39m\u001b[32m~/thesis_code_git/.venv/lib/python3.12/site-packages/numpy/lib/_function_base_impl.py:4001\u001b[39m, in \u001b[36mmedian\u001b[39m\u001b[34m(a, axis, out, overwrite_input, keepdims)\u001b[39m\n\u001b[32m   3916\u001b[39m \u001b[38;5;129m@array_function_dispatch\u001b[39m(_median_dispatcher)\n\u001b[32m   3917\u001b[39m \u001b[38;5;28;01mdef\u001b[39;00m\u001b[38;5;250m \u001b[39m\u001b[34mmedian\u001b[39m(a, axis=\u001b[38;5;28;01mNone\u001b[39;00m, out=\u001b[38;5;28;01mNone\u001b[39;00m, overwrite_input=\u001b[38;5;28;01mFalse\u001b[39;00m, keepdims=\u001b[38;5;28;01mFalse\u001b[39;00m):\n\u001b[32m   3918\u001b[39m \u001b[38;5;250m    \u001b[39m\u001b[33;03m\"\"\"\u001b[39;00m\n\u001b[32m   3919\u001b[39m \u001b[33;03m    Compute the median along the specified axis.\u001b[39;00m\n\u001b[32m   3920\u001b[39m \n\u001b[32m   (...)\u001b[39m\u001b[32m   3999\u001b[39m \n\u001b[32m   4000\u001b[39m \u001b[33;03m    \"\"\"\u001b[39;00m\n\u001b[32m-> \u001b[39m\u001b[32m4001\u001b[39m     \u001b[38;5;28;01mreturn\u001b[39;00m \u001b[43m_ureduce\u001b[49m\u001b[43m(\u001b[49m\u001b[43ma\u001b[49m\u001b[43m,\u001b[49m\u001b[43m \u001b[49m\u001b[43mfunc\u001b[49m\u001b[43m=\u001b[49m\u001b[43m_median\u001b[49m\u001b[43m,\u001b[49m\u001b[43m \u001b[49m\u001b[43mkeepdims\u001b[49m\u001b[43m=\u001b[49m\u001b[43mkeepdims\u001b[49m\u001b[43m,\u001b[49m\u001b[43m \u001b[49m\u001b[43maxis\u001b[49m\u001b[43m=\u001b[49m\u001b[43maxis\u001b[49m\u001b[43m,\u001b[49m\u001b[43m \u001b[49m\u001b[43mout\u001b[49m\u001b[43m=\u001b[49m\u001b[43mout\u001b[49m\u001b[43m,\u001b[49m\n\u001b[32m   4002\u001b[39m \u001b[43m                    \u001b[49m\u001b[43moverwrite_input\u001b[49m\u001b[43m=\u001b[49m\u001b[43moverwrite_input\u001b[49m\u001b[43m)\u001b[49m\n",
      "\u001b[36mFile \u001b[39m\u001b[32m~/thesis_code_git/.venv/lib/python3.12/site-packages/numpy/lib/_function_base_impl.py:3894\u001b[39m, in \u001b[36m_ureduce\u001b[39m\u001b[34m(a, func, keepdims, **kwargs)\u001b[39m\n\u001b[32m   3891\u001b[39m             index_out = (\u001b[32m0\u001b[39m, ) * nd\n\u001b[32m   3892\u001b[39m             kwargs[\u001b[33m'\u001b[39m\u001b[33mout\u001b[39m\u001b[33m'\u001b[39m] = out[(\u001b[38;5;28mEllipsis\u001b[39m, ) + index_out]\n\u001b[32m-> \u001b[39m\u001b[32m3894\u001b[39m r = \u001b[43mfunc\u001b[49m\u001b[43m(\u001b[49m\u001b[43ma\u001b[49m\u001b[43m,\u001b[49m\u001b[43m \u001b[49m\u001b[43m*\u001b[49m\u001b[43m*\u001b[49m\u001b[43mkwargs\u001b[49m\u001b[43m)\u001b[49m\n\u001b[32m   3896\u001b[39m \u001b[38;5;28;01mif\u001b[39;00m out \u001b[38;5;129;01mis\u001b[39;00m \u001b[38;5;129;01mnot\u001b[39;00m \u001b[38;5;28;01mNone\u001b[39;00m:\n\u001b[32m   3897\u001b[39m     \u001b[38;5;28;01mreturn\u001b[39;00m out\n",
      "\u001b[36mFile \u001b[39m\u001b[32m~/thesis_code_git/.venv/lib/python3.12/site-packages/numpy/lib/_function_base_impl.py:4053\u001b[39m, in \u001b[36m_median\u001b[39m\u001b[34m(a, axis, out, overwrite_input)\u001b[39m\n\u001b[32m   4049\u001b[39m indexer = \u001b[38;5;28mtuple\u001b[39m(indexer)\n\u001b[32m   4051\u001b[39m \u001b[38;5;66;03m# Use mean in both odd and even case to coerce data type,\u001b[39;00m\n\u001b[32m   4052\u001b[39m \u001b[38;5;66;03m# using out array if needed.\u001b[39;00m\n\u001b[32m-> \u001b[39m\u001b[32m4053\u001b[39m rout = \u001b[43mmean\u001b[49m\u001b[43m(\u001b[49m\u001b[43mpart\u001b[49m\u001b[43m[\u001b[49m\u001b[43mindexer\u001b[49m\u001b[43m]\u001b[49m\u001b[43m,\u001b[49m\u001b[43m \u001b[49m\u001b[43maxis\u001b[49m\u001b[43m=\u001b[49m\u001b[43maxis\u001b[49m\u001b[43m,\u001b[49m\u001b[43m \u001b[49m\u001b[43mout\u001b[49m\u001b[43m=\u001b[49m\u001b[43mout\u001b[49m\u001b[43m)\u001b[49m\n\u001b[32m   4054\u001b[39m \u001b[38;5;28;01mif\u001b[39;00m supports_nans \u001b[38;5;129;01mand\u001b[39;00m sz > \u001b[32m0\u001b[39m:\n\u001b[32m   4055\u001b[39m     \u001b[38;5;66;03m# If nans are possible, warn and replace by nans like mean would.\u001b[39;00m\n\u001b[32m   4056\u001b[39m     rout = np.lib._utils_impl._median_nancheck(part, rout, axis)\n",
      "\u001b[36mFile \u001b[39m\u001b[32m~/thesis_code_git/.venv/lib/python3.12/site-packages/numpy/_core/fromnumeric.py:3860\u001b[39m, in \u001b[36mmean\u001b[39m\u001b[34m(a, axis, dtype, out, keepdims, where)\u001b[39m\n\u001b[32m   3857\u001b[39m     \u001b[38;5;28;01melse\u001b[39;00m:\n\u001b[32m   3858\u001b[39m         \u001b[38;5;28;01mreturn\u001b[39;00m mean(axis=axis, dtype=dtype, out=out, **kwargs)\n\u001b[32m-> \u001b[39m\u001b[32m3860\u001b[39m \u001b[38;5;28;01mreturn\u001b[39;00m \u001b[43m_methods\u001b[49m\u001b[43m.\u001b[49m\u001b[43m_mean\u001b[49m\u001b[43m(\u001b[49m\u001b[43ma\u001b[49m\u001b[43m,\u001b[49m\u001b[43m \u001b[49m\u001b[43maxis\u001b[49m\u001b[43m=\u001b[49m\u001b[43maxis\u001b[49m\u001b[43m,\u001b[49m\u001b[43m \u001b[49m\u001b[43mdtype\u001b[49m\u001b[43m=\u001b[49m\u001b[43mdtype\u001b[49m\u001b[43m,\u001b[49m\n\u001b[32m   3861\u001b[39m \u001b[43m                      \u001b[49m\u001b[43mout\u001b[49m\u001b[43m=\u001b[49m\u001b[43mout\u001b[49m\u001b[43m,\u001b[49m\u001b[43m \u001b[49m\u001b[43m*\u001b[49m\u001b[43m*\u001b[49m\u001b[43mkwargs\u001b[49m\u001b[43m)\u001b[49m\n",
      "\u001b[36mFile \u001b[39m\u001b[32m~/thesis_code_git/.venv/lib/python3.12/site-packages/numpy/_core/_methods.py:123\u001b[39m, in \u001b[36m_mean\u001b[39m\u001b[34m(a, axis, dtype, out, keepdims, where)\u001b[39m\n\u001b[32m    119\u001b[39m arr = asanyarray(a)\n\u001b[32m    121\u001b[39m is_float16_result = \u001b[38;5;28;01mFalse\u001b[39;00m\n\u001b[32m--> \u001b[39m\u001b[32m123\u001b[39m rcount = \u001b[43m_count_reduce_items\u001b[49m\u001b[43m(\u001b[49m\u001b[43marr\u001b[49m\u001b[43m,\u001b[49m\u001b[43m \u001b[49m\u001b[43maxis\u001b[49m\u001b[43m,\u001b[49m\u001b[43m \u001b[49m\u001b[43mkeepdims\u001b[49m\u001b[43m=\u001b[49m\u001b[43mkeepdims\u001b[49m\u001b[43m,\u001b[49m\u001b[43m \u001b[49m\u001b[43mwhere\u001b[49m\u001b[43m=\u001b[49m\u001b[43mwhere\u001b[49m\u001b[43m)\u001b[49m\n\u001b[32m    124\u001b[39m \u001b[38;5;28;01mif\u001b[39;00m rcount == \u001b[32m0\u001b[39m \u001b[38;5;28;01mif\u001b[39;00m where \u001b[38;5;129;01mis\u001b[39;00m \u001b[38;5;28;01mTrue\u001b[39;00m \u001b[38;5;28;01melse\u001b[39;00m umr_any(rcount == \u001b[32m0\u001b[39m, axis=\u001b[38;5;28;01mNone\u001b[39;00m):\n\u001b[32m    125\u001b[39m     warnings.warn(\u001b[33m\"\u001b[39m\u001b[33mMean of empty slice.\u001b[39m\u001b[33m\"\u001b[39m, \u001b[38;5;167;01mRuntimeWarning\u001b[39;00m, stacklevel=\u001b[32m2\u001b[39m)\n",
      "\u001b[36mFile \u001b[39m\u001b[32m~/thesis_code_git/.venv/lib/python3.12/site-packages/numpy/_core/_methods.py:86\u001b[39m, in \u001b[36m_count_reduce_items\u001b[39m\u001b[34m(arr, axis, keepdims, where)\u001b[39m\n\u001b[32m     84\u001b[39m     items = \u001b[32m1\u001b[39m\n\u001b[32m     85\u001b[39m     \u001b[38;5;28;01mfor\u001b[39;00m ax \u001b[38;5;129;01min\u001b[39;00m axis:\n\u001b[32m---> \u001b[39m\u001b[32m86\u001b[39m         items *= arr.shape[\u001b[43mmu\u001b[49m\u001b[43m.\u001b[49m\u001b[43mnormalize_axis_index\u001b[49m\u001b[43m(\u001b[49m\u001b[43max\u001b[49m\u001b[43m,\u001b[49m\u001b[43m \u001b[49m\u001b[43marr\u001b[49m\u001b[43m.\u001b[49m\u001b[43mndim\u001b[49m\u001b[43m)\u001b[49m]\n\u001b[32m     87\u001b[39m     items = nt.intp(items)\n\u001b[32m     88\u001b[39m \u001b[38;5;28;01melse\u001b[39;00m:\n\u001b[32m     89\u001b[39m     \u001b[38;5;66;03m# TODO: Optimize case when `where` is broadcast along a non-reduction\u001b[39;00m\n\u001b[32m     90\u001b[39m     \u001b[38;5;66;03m# axis and full sum is more excessive than needed.\u001b[39;00m\n\u001b[32m     91\u001b[39m \n\u001b[32m     92\u001b[39m     \u001b[38;5;66;03m# guarded to protect circular imports\u001b[39;00m\n",
      "\u001b[31mKeyboardInterrupt\u001b[39m: "
     ]
    }
   ],
   "source": [
    "beta_cleaned = np.full(beta.shape, beta, dtype=float)\n",
    "count = 0\n",
    "q = 0.90\n",
    "outlier_mask = np.zeros(beta.shape[:3], dtype=bool)\n",
    "\n",
    "for i, j, k in np.ndindex(beta.shape[:3]):\n",
    "    series = beta[i, j, k, :]\n",
    "    if np.all(np.isnan(series)):\n",
    "        continue\n",
    "\n",
    "    med = statistics.median(series)\n",
    "    mad = stats.median_abs_deviation(series)\n",
    "    s_v = 1.4826*mad\n",
    "    s_v = max(s_v, 1e-8)\n",
    "    z = (series-med)/(s_v)\n",
    "    absz = np.abs(z)\n",
    "    tau = np.quantile(absz, q)\n",
    "\n",
    "    z_clip = np.clip(z, -tau, tau)  \n",
    "    beta_new = med + s_v * z_clip\n",
    "\n",
    "    # if np.nanmax(beta_new) >= 20 or np.nanmin(beta_new) <= -20:\n",
    "    #     print(np.nanmax(beta_new), i, j, k)\n",
    "    voxel_outliers = np.abs(beta_new) > 20\n",
    "    if np.any(voxel_outliers):\n",
    "        outlier_mask[i, j, k] = True\n",
    "    beta_new = np.where(voxel_outliers, np.nan, beta_new)\n",
    "    beta_cleaned[i,j,k,:] = beta_new\n",
    "    # z_clip = np.clip(z, -5, 5)         # or by quantiles\n",
    "    # beta_cleaned[i,j,k,:] = np.clip(beta_new, -30, 30)\n",
    "    \n",
    "    \n",
    "    # tmp = np.nanmean(beta_cleaned[i,j,k,:])\n",
    "    # tmp2 = np.nanmax(beta_cleaned[i,j,k,:])\n",
    "    # if tmp2 >= 30:\n",
    "    #     print(f\"Max value: {tmp2}, Mean: {tmp}, {i},{j},{k}\")\n",
    "        \n",
    "    # if abs(tmp) >= 30:\n",
    "    #     beta_cleaned[i,j,k,:] = np.nan\n",
    "    \n",
    "    \n",
    "    # plt.figure()\n",
    "    # plt.hist(beta[i,j,k,:])\n",
    "    # plt.title(\"beta before cleaning\")\n",
    "    # # plt.figure()\n",
    "    # # plt.hist(z_clip)\n",
    "    # # plt.title(\"z value\")\n",
    "    # plt.figure()\n",
    "    # plt.hist(beta_cleaned[i,j,k,:], bins=10)\n",
    "    # plt.title(\"beta after cleaning\")\n",
    "    \n",
    "    # count += 1\n",
    "    # if count>=20:\n",
    "    #     break\n",
    "\n",
    "print(np.nanmin(beta_cleaned), np.nanmax(beta_cleaned))\n",
    "\n",
    "# # outlier_map = np.zeros(beta.shape[:3], dtype=float)\n",
    "# # outlier_map[~outlier_mask] = 1.0\n",
    "# outlier_img = nib.Nifti1Image(~outlier_mask, A, bold_img.header)\n",
    "# outlier_view = view_img(outlier_img, bg_img=anat_img, cmap='jet', symmetric_cmap=False,\n",
    "#                         title=f\"Voxels with |beta| <= 20\")\n",
    "# outlier_view.save_as_html(fname := f\"normal_beta_voxels_sub{sub}_ses{ses}_run{run}.html\")\n",
    "# outlier_view\n",
    "\n",
    "save_beta_html(np.nanmean(beta, axis=-1), anat_img, bold_img, A, '', fname = f\"raw_beta{sub}_ses{ses}_run{run}.html\")\n",
    "save_beta_html(np.nanmean(beta_cleaned, axis=-1), anat_img, bold_img, A, '', fname = f\"clean_beta{sub}_ses{ses}_run{run}.html\")"
   ]
  },
  {
   "cell_type": "code",
   "execution_count": 14,
   "id": "7516638f",
   "metadata": {},
   "outputs": [
    {
     "name": "stderr",
     "output_type": "stream",
     "text": [
      "/tmp/ipykernel_324750/1276611059.py:14: RuntimeWarning: All-NaN slice encountered\n",
      "  med = np.nanmedian(beta, axis=-1)                         # (X,Y,Z)\n",
      "/home/zkavian/thesis_code_git/.venv/lib/python3.12/site-packages/numpy/lib/_nanfunctions_impl.py:1620: RuntimeWarning: All-NaN slice encountered\n",
      "  return fnb._ureduce(a,\n",
      "/tmp/ipykernel_324750/1276611059.py:31: RuntimeWarning: All-NaN slice encountered\n",
      "  inlier_mask = (np.nanmax(np.abs(beta_cleaned), axis=-1) <= 20)  # (X,Y,Z) boolean\n",
      "/tmp/ipykernel_324750/1276611059.py:43: FutureWarning: 'force_resample' will be set to 'True' by default in Nilearn 0.13.0.\n",
      "Use 'force_resample=True' to suppress this warning.\n",
      "  roi_img = image.resample_to_img(roi_img, anat_img, interpolation='nearest')\n",
      "/tmp/ipykernel_324750/1276611059.py:43: FutureWarning: From release 0.13.0 onwards, this function will, by default, copy the header of the input image to the output. Currently, the header is reset to the default Nifti1Header. To suppress this warning and use the new behavior, set `copy_header=True`.\n",
      "  roi_img = image.resample_to_img(roi_img, anat_img, interpolation='nearest')\n",
      "/home/zkavian/thesis_code_git/.venv/lib/python3.12/site-packages/numpy/_core/fromnumeric.py:868: UserWarning: Warning: 'partition' will ignore the 'mask' of the MaskedArray.\n",
      "  a.partition(kth, axis=axis, kind=kind, order=order)\n",
      "/tmp/ipykernel_324750/1276611059.py:45: UserWarning: Resampling binary images with continuous or linear interpolation. This might lead to unexpected results. You might consider using nearest interpolation instead.\n",
      "  view = plotting.view_img(\n"
     ]
    }
   ],
   "source": [
    "import numpy as np\n",
    "import nibabel as nib\n",
    "from scipy import stats\n",
    "from nilearn import plotting, image\n",
    "\n",
    "# beta: 4D array (X,Y,Z,T) or beta_img.get_fdata()\n",
    "# A: affine of your BOLD/beta image\n",
    "# anat_img: background anatomy (Nifti1Image)\n",
    "\n",
    "beta = np.asarray(beta, dtype=float)  # ensure float\n",
    "\n",
    "# ---------- 1) Robust per-voxel winsorization (no loops) ----------\n",
    "q = 0.90\n",
    "med = np.nanmedian(beta, axis=-1)                         # (X,Y,Z)\n",
    "mad = stats.median_abs_deviation(beta, axis=-1, nan_policy='omit')  # (X,Y,Z)\n",
    "s_v = np.maximum(1.4826 * mad, 1e-8)\n",
    "\n",
    "z = (beta - med[..., None]) / s_v[..., None]              # (X,Y,Z,T)\n",
    "tau = np.nanquantile(np.abs(z), q, axis=-1)               # (X,Y,Z)\n",
    "z_clip = np.clip(z, -tau[..., None], tau[..., None])\n",
    "beta_cleaned = med[..., None] + s_v[..., None] * z_clip   # (X,Y,Z,T)\n",
    "\n",
    "# ---------- 2) Brain mask to kill non-brain slabs ----------\n",
    "# \"brain\" = finite and not all-zero on at least ~10% of frames\n",
    "# finite = np.isfinite(beta_cleaned)\n",
    "# nonzero = np.any(beta_cleaned != 0, axis=-1)\n",
    "# brain_mask = (finite.mean(axis=-1) > 0.9) & (nonzero)     # (X,Y,Z) boolean\n",
    "\n",
    "# ---------- 3) Voxels whose betas stay within [-20, 20] ----------\n",
    "# (Use beta_cleaned or swap for the raw beta if you want that criterion on raw values)\n",
    "inlier_mask = (np.nanmax(np.abs(beta_cleaned), axis=-1) <= 20)  # (X,Y,Z) boolean\n",
    "\n",
    "# mask_to_plot = inlier_mask & brain_mask                        # keep brain only\n",
    "mask_to_plot = inlier_mask\n",
    "beta_cleaned2 = np.full_like(beta_cleaned, np.nan, dtype=float)\n",
    "beta_cleaned2[mask_to_plot] = beta_cleaned[mask_to_plot]\n",
    "beta_cleaned = beta_cleaned2\n",
    "\n",
    "# ---------- 4) Build an ROI image and overlay on anatomy ----------\n",
    "roi_img = nib.Nifti1Image(mask_to_plot.astype(np.uint8), A)\n",
    "\n",
    "# If anatomy and functional grids differ, resample with nearest neighbor:\n",
    "roi_img = image.resample_to_img(roi_img, anat_img, interpolation='nearest')\n",
    "\n",
    "view = plotting.view_img(\n",
    "    roi_img, bg_img=anat_img,\n",
    "    threshold=0.5,          # show only '1's\n",
    "    opacity=0.8,              # transparency of the overlay\n",
    "    cmap='YlGn',          # single-hue works better for ROIs than 'jet'\n",
    "    title=\"Voxels with |beta| ≤ 20\"\n",
    ")\n",
    "view.save_as_html(f\"normal_beta_voxels_sub{sub}_ses{ses}_run{run}.html\")\n",
    "\n",
    "# save_beta_html(np.nanmean(beta, axis=-1), anat_img, bold_img, A, '', fname = f\"raw_beta{sub}_ses{ses}_run{run}.html\")\n",
    "# save_beta_html(np.nanmean(beta_cleaned, axis=-1), anat_img, bold_img, A, '', fname = f\"clean_beta{sub}_ses{ses}_run{run}.html\")\n"
   ]
  },
  {
   "cell_type": "code",
   "execution_count": 15,
   "id": "b703daf3",
   "metadata": {},
   "outputs": [
    {
     "name": "stdout",
     "output_type": "stream",
     "text": [
      "Voxels with ≥1 NaN trial: 254347/1813320 (14.03%)\n",
      "Voxels with all trials NaN: 254347/1813320 (14.03%)\n"
     ]
    },
    {
     "data": {
      "text/plain": [
       "Text(0.5, 1.0, 'beta after cleaning')"
      ]
     },
     "execution_count": 15,
     "metadata": {},
     "output_type": "execute_result"
    },
    {
     "data": {
      "image/png": "[encoded data removed]",
      "text/plain": [
       "<Figure size 640x480 with 1 Axes>"
      ]
     },
     "metadata": {},
     "output_type": "display_data"
    }
   ],
   "source": [
    "trial_axis = 0  # set to 1 if shape is (n_voxels, n_trials)\n",
    "voxel_axis = 1 - trial_axis\n",
    "\n",
    "isnan = np.isnan(beta_cleaned)\n",
    "vox_any_nan = np.any(isnan, axis=-1)\n",
    "vox_all_nan = np.all(isnan, axis=-1)\n",
    "\n",
    "n_voxels = beta_cleaned[:3].size\n",
    "count_any = int(np.count_nonzero(vox_any_nan))\n",
    "count_all = int(np.count_nonzero(vox_all_nan))\n",
    "\n",
    "print(f\"Voxels with ≥1 NaN trial: {count_any}/{n_voxels} ({count_any/n_voxels:.2%})\")\n",
    "print(f\"Voxels with all trials NaN: {count_all}/{n_voxels} ({count_all/n_voxels:.2%})\")\n",
    "\n",
    "plt.figure()\n",
    "plt.hist(beta_cleaned.ravel(), bins=10)\n",
    "plt.title(\"beta after cleaning\")\n"
   ]
  },
  {
   "cell_type": "code",
   "execution_count": 16,
   "id": "cec2faa6",
   "metadata": {},
   "outputs": [
    {
     "name": "stderr",
     "output_type": "stream",
     "text": [
      "/tmp/ipykernel_319983/1662089557.py:1: RuntimeWarning: Mean of empty slice\n",
      "  save_beta_html(np.nanmean(beta_cleaned, axis=-1), anat_img, bold_img, A, '', fname = f\"cleaned_beta{sub}_ses{ses}_run{run}.html\")\n",
      "/tmp/ipykernel_319983/94407561.py:43: UserWarning: Non-finite values detected. These values will be replaced with zeros.\n",
      "  view = view_img(beta_on_anat, bg_img=anat_img, cmap='seismic', symmetric_cmap=False, vmax=vmax, vmin=vmin, threshold=thr,\n",
      "/tmp/ipykernel_319983/94407561.py:43: UserWarning: you have specified symmetric_cmap=False but the map contains negative values; setting symmetric_cmap to True\n",
      "  view = view_img(beta_on_anat, bg_img=anat_img, cmap='seismic', symmetric_cmap=False, vmax=vmax, vmin=vmin, threshold=thr,\n",
      "/tmp/ipykernel_319983/94407561.py:43: UserWarning: vmin cannot be chosen when cmap is symmetric\n",
      "  view = view_img(beta_on_anat, bg_img=anat_img, cmap='seismic', symmetric_cmap=False, vmax=vmax, vmin=vmin, threshold=thr,\n",
      "/home/zkavian/thesis_code_git/.venv/lib/python3.12/site-packages/numpy/_core/fromnumeric.py:868: UserWarning: Warning: 'partition' will ignore the 'mask' of the MaskedArray.\n",
      "  a.partition(kth, axis=axis, kind=kind, order=order)\n"
     ]
    },
    {
     "name": "stdout",
     "output_type": "stream",
     "text": [
      "vmin: -1.7140980914831163, vmax:1.6611923373788553\n"
     ]
    }
   ],
   "source": [
    "save_beta_html(np.nanmean(beta_cleaned, axis=-1), anat_img, bold_img, A, '', fname = f\"cleaned_beta{sub}_ses{ses}_run{run}.html\")"
   ]
  },
  {
   "cell_type": "code",
   "execution_count": 17,
   "id": "96911ab0",
   "metadata": {},
   "outputs": [],
   "source": [
    "# print(f\"Beta Range: {np.nanmin(beta_cleaned)}, {np.nanmin(beta_cleaned)}\")\n",
    "# print(f\"selected_trial: {fmt(np.count_nonzero(~np.isnan(beta_cleaned))/beta.size)}%\")\n",
    "# print(f\"selected_voxel(mean): {fmt(np.count_nonzero(~np.isnan(np.nanmean(beta_cleaned, axis=-1)))/beta[:3].size)}%\")\n",
    "\n",
    "# plt.figure()\n",
    "# plt.hist(beta_cleaned.ravel(), bins=10)\n",
    "# plt.title(\"beta after cleaning\")"
   ]
  },
  {
   "cell_type": "markdown",
   "id": "e0647705",
   "metadata": {},
   "source": [
    "Method 1"
   ]
  },
  {
   "cell_type": "code",
   "execution_count": 16,
   "id": "59a571a0",
   "metadata": {},
   "outputs": [],
   "source": [
    "def voxelwise_ttest_fdr(betas4d, alpha=0.05, alternative='two-sided'):\n",
    "    X, Y, Z, T = betas4d.shape\n",
    "    V = X * Y * Z\n",
    "    B = betas4d.reshape(V, T)\n",
    "    \n",
    "    n  = np.sum(~np.isnan(B), axis=1)\n",
    "    m  = np.nanmean(B, axis=1)\n",
    "    s  = np.nanstd(B, axis=1, ddof=1)\n",
    "    valid = s> 1e-8\n",
    "    tvals = np.full(V, np.nan)\n",
    "    df    = np.maximum(n - 1, 0)\n",
    "    print(np.nanmin(s[valid]), np.nanmax(s[valid]))\n",
    "    tvals[valid] = m[valid] / (s[valid] / np.sqrt(n[valid]))\n",
    "\n",
    "    # p-values\n",
    "    pvals = np.full(V, np.nan)\n",
    "    if alternative == 'two-sided':\n",
    "        pvals[valid] = 2.0 * stats.t.sf(np.abs(tvals[valid]), df[valid])\n",
    "    elif alternative == 'greater':  # H1: mean > 0\n",
    "        pvals[valid] = stats.t.sf(tvals[valid], df[valid])\n",
    "    elif alternative == 'less':     # H1: mean < 0\n",
    "        pvals[valid] = stats.t.cdf(tvals[valid], df[valid])\n",
    "    else:\n",
    "        raise ValueError(\"alternative must be 'two-sided', 'greater', or 'less'\")\n",
    "\n",
    "    # FDR (Benjamini–Hochberg) across the tested voxels only\n",
    "    tested = np.isfinite(pvals)\n",
    "    qvals  = np.full(V, np.nan)\n",
    "    reject = np.zeros(V, dtype=bool)\n",
    "\n",
    "    if np.any(tested):\n",
    "        rej, q, _, _ = multipletests(pvals[tested], alpha=alpha, method='fdr_bh')\n",
    "        reject[tested] = rej\n",
    "        qvals[tested]  = q\n",
    "\n",
    "    # Pack results back to 3D\n",
    "    out = {\n",
    "        'tmap'   : tvals.reshape(X, Y, Z),\n",
    "        'pmap'   : pvals.reshape(X, Y, Z),\n",
    "        'qmap'   : qvals.reshape(X, Y, Z),\n",
    "        'reject' : reject.reshape(X, Y, Z),  # True = significant at FDR q<=alpha\n",
    "        'df'     : df.reshape(X, Y, Z),\n",
    "        'n'      : n.reshape(X, Y, Z),\n",
    "    }\n",
    "    return out"
   ]
  },
  {
   "cell_type": "code",
   "execution_count": 18,
   "id": "0ae982d5",
   "metadata": {},
   "outputs": [
    {
     "name": "stderr",
     "output_type": "stream",
     "text": [
      "/tmp/ipykernel_324750/677545838.py:7: RuntimeWarning: Mean of empty slice\n",
      "  m  = np.nanmean(B, axis=1)\n"
     ]
    },
    {
     "name": "stdout",
     "output_type": "stream",
     "text": [
      "0.004287854524059121 12.08303289755101\n"
     ]
    },
    {
     "name": "stderr",
     "output_type": "stream",
     "text": [
      "/tmp/ipykernel_324750/4228374586.py:7: FutureWarning: 'force_resample' will be set to 'True' by default in Nilearn 0.13.0.\n",
      "Use 'force_resample=True' to suppress this warning.\n",
      "  roi_img = image.resample_to_img(roi_img, anat_img, interpolation='nearest')\n",
      "/tmp/ipykernel_324750/4228374586.py:7: FutureWarning: From release 0.13.0 onwards, this function will, by default, copy the header of the input image to the output. Currently, the header is reset to the default Nifti1Header. To suppress this warning and use the new behavior, set `copy_header=True`.\n",
      "  roi_img = image.resample_to_img(roi_img, anat_img, interpolation='nearest')\n",
      "/home/zkavian/thesis_code_git/.venv/lib/python3.12/site-packages/numpy/_core/fromnumeric.py:868: UserWarning: Warning: 'partition' will ignore the 'mask' of the MaskedArray.\n",
      "  a.partition(kth, axis=axis, kind=kind, order=order)\n",
      "/tmp/ipykernel_324750/4228374586.py:9: UserWarning: Resampling binary images with continuous or linear interpolation. This might lead to unexpected results. You might consider using nearest interpolation instead.\n",
      "  view = plotting.view_img(\n"
     ]
    }
   ],
   "source": [
    "fdr_out = voxelwise_ttest_fdr(beta_cleaned)\n",
    "mask = fdr_out['reject']\n",
    "\n",
    "roi_img = nib.Nifti1Image(mask.astype(np.uint8), A)\n",
    "\n",
    "# If anatomy and functional grids differ, resample with nearest neighbor:\n",
    "roi_img = image.resample_to_img(roi_img, anat_img, interpolation='nearest')\n",
    "\n",
    "view = plotting.view_img(\n",
    "    roi_img, bg_img=anat_img,\n",
    "    threshold=0.5,          # show only '1's\n",
    "    opacity=0.8,              # transparency of the overlay\n",
    "    cmap='YlGn',          # single-hue works better for ROIs than 'jet'\n",
    "    title=\"Active Voxels\"\n",
    ")\n",
    "view.save_as_html(f\"binary_ttest_beta_voxels_sub{sub}_ses{ses}_run{run}.html\")"
   ]
  },
  {
   "cell_type": "code",
   "execution_count": null,
   "id": "3e8faa23",
   "metadata": {},
   "outputs": [],
   "source": [
    "# fdr_out = voxelwise_ttest_fdr(beta_cleaned)\n",
    "\n",
    "beta_cleaned_ttest = np.full(beta_cleaned.shape, np.nan, dtype=float)\n",
    "mask = fdr_out['reject']\n",
    "beta_cleaned_ttest[mask] = beta_cleaned[mask] \n",
    "\n",
    "# save_beta_html(np.nanmean(beta_cleaned_ttest, axis=-1), anat_img, bold_img, A, '', fname = f\"ttest_beta{sub}_ses{ses}_run{run}.html\")"
   ]
  },
  {
   "cell_type": "code",
   "execution_count": 20,
   "id": "db4cd4cb",
   "metadata": {},
   "outputs": [
    {
     "name": "stdout",
     "output_type": "stream",
     "text": [
      "tmap: -2529.001862283695, (np.float64(1475.3824191801048), {np.float64(0.5939440020226118)})\n",
      "pmap: 6.473515709770779e-218, (np.float64(0.9999132105248971), {np.float64(0.16178697353136734)})\n",
      "qmap: 1.3621960167442258e-212, (np.float64(0.9999132105248971), {np.float64(0.1874546907938964)})\n"
     ]
    }
   ],
   "source": [
    "print(f\"tmap: {np.nanmin(fdr_out['tmap'])}, {np.nanmax(fdr_out['tmap']), {np.nanmean(fdr_out['tmap'])}}\")\n",
    "print(f\"pmap: {np.nanmin(fdr_out['pmap'])}, {np.nanmax(fdr_out['pmap']), {np.nanmean(fdr_out['pmap'])}}\")\n",
    "print(f\"qmap: {np.nanmin(fdr_out['qmap'])}, {np.nanmax(fdr_out['qmap']), {np.nanmean(fdr_out['qmap'])}}\")"
   ]
  },
  {
   "cell_type": "code",
   "execution_count": 21,
   "id": "4445a455",
   "metadata": {},
   "outputs": [
    {
     "name": "stdout",
     "output_type": "stream",
     "text": [
      "selected_trial: 0.261%\n",
      "selected_voxel(mean): 0.067%\n"
     ]
    },
    {
     "name": "stderr",
     "output_type": "stream",
     "text": [
      "/tmp/ipykernel_319983/10508182.py:2: RuntimeWarning: Mean of empty slice\n",
      "  print(f\"selected_voxel(mean): {fmt(np.count_nonzero(~np.isnan(np.nanmean(beta_cleaned_ttest, axis=-1)))/beta[:3].size)}%\")\n"
     ]
    }
   ],
   "source": [
    "print(f\"selected_trial: {fmt(np.count_nonzero(~np.isnan(beta_cleaned_ttest))/beta.size)}%\")\n",
    "print(f\"selected_voxel(mean): {fmt(np.count_nonzero(~np.isnan(np.nanmean(beta_cleaned_ttest, axis=-1)))/beta[:3].size)}%\")"
   ]
  },
  {
   "cell_type": "code",
   "execution_count": 23,
   "id": "4077e258",
   "metadata": {},
   "outputs": [
    {
     "name": "stdout",
     "output_type": "stream",
     "text": [
      "Voxels with ≥1 NaN trial: 342701/1813320 (18.90%)\n",
      "Voxels with all trials NaN: 342473/1813320 (18.89%)\n"
     ]
    }
   ],
   "source": [
    "isnan = np.isnan(beta_cleaned_ttest)\n",
    "vox_any_nan = np.any(isnan, axis=-1)\n",
    "vox_all_nan = np.all(isnan, axis=-1)\n",
    "\n",
    "n_voxels = beta_cleaned_ttest[:3].size\n",
    "count_any = int(np.count_nonzero(vox_any_nan))\n",
    "count_all = int(np.count_nonzero(vox_all_nan))\n",
    "\n",
    "print(f\"Voxels with ≥1 NaN trial: {count_any}/{n_voxels} ({count_any/n_voxels:.2%})\")\n",
    "print(f\"Voxels with all trials NaN: {count_all}/{n_voxels} ({count_all/n_voxels:.2%})\")"
   ]
  },
  {
   "cell_type": "markdown",
   "id": "dc61582a",
   "metadata": {},
   "source": [
    "Method 2"
   ]
  },
  {
   "cell_type": "code",
   "execution_count": 20,
   "id": "20e65808",
   "metadata": {},
   "outputs": [],
   "source": [
    "def hampel_filter_image(image, window_size, threshold_factor):\n",
    "    filtered_image = np.copy(image).astype(float)\n",
    "    rows, cols, depth, time = image.shape\n",
    "    \n",
    "    for t in range(time):\n",
    "        for r in range(window_size // 2, rows - window_size // 2):\n",
    "            for c in range(window_size // 2, cols - window_size // 2):\n",
    "                for d in range(window_size // 2, depth - window_size //2):\n",
    "                    if ~np.isnan(image[r, c, d, t]):\n",
    "                        window = image[r - window_size // 2 : r + window_size // 2 + 1,\n",
    "                                    c - window_size // 2 : c + window_size // 2 + 1,\n",
    "                                    d - window_size // 2 : d + window_size // 2 + 1, t]\n",
    "                        window_median = np.nanmedian(window)\n",
    "                        mad = np.nanmedian(np.abs(window - window_median))\n",
    "                        scaled_mad = 1.4826 * mad # Assuming Gaussian data for scaling factor\n",
    "                        if np.abs(image[r, c, d, t] - window_median) > threshold_factor * scaled_mad:\n",
    "                            filtered_image[r, c, d, t] = np.nan\n",
    "                            \n",
    "    return filtered_image"
   ]
  },
  {
   "cell_type": "code",
   "execution_count": 21,
   "id": "85f4d8fd",
   "metadata": {},
   "outputs": [
    {
     "ename": "KeyboardInterrupt",
     "evalue": "",
     "output_type": "error",
     "traceback": [
      "\u001b[31m---------------------------------------------------------------------------\u001b[39m",
      "\u001b[31mKeyboardInterrupt\u001b[39m                         Traceback (most recent call last)",
      "\u001b[36mCell\u001b[39m\u001b[36m \u001b[39m\u001b[32mIn[21]\u001b[39m\u001b[32m, line 1\u001b[39m\n\u001b[32m----> \u001b[39m\u001b[32m1\u001b[39m filtered_beta_cleaned = \u001b[43mhampel_filter_image\u001b[49m\u001b[43m(\u001b[49m\u001b[43mbeta_cleaned\u001b[49m\u001b[43m,\u001b[49m\u001b[43m \u001b[49m\u001b[43mwindow_size\u001b[49m\u001b[43m=\u001b[49m\u001b[32;43m5\u001b[39;49m\u001b[43m,\u001b[49m\u001b[43m \u001b[49m\u001b[43mthreshold_factor\u001b[49m\u001b[43m=\u001b[49m\u001b[32;43m3\u001b[39;49m\u001b[43m)\u001b[49m\n",
      "\u001b[36mCell\u001b[39m\u001b[36m \u001b[39m\u001b[32mIn[20]\u001b[39m\u001b[32m, line 14\u001b[39m, in \u001b[36mhampel_filter_image\u001b[39m\u001b[34m(image, window_size, threshold_factor)\u001b[39m\n\u001b[32m     10\u001b[39m window = image[r - window_size // \u001b[32m2\u001b[39m : r + window_size // \u001b[32m2\u001b[39m + \u001b[32m1\u001b[39m,\n\u001b[32m     11\u001b[39m             c - window_size // \u001b[32m2\u001b[39m : c + window_size // \u001b[32m2\u001b[39m + \u001b[32m1\u001b[39m,\n\u001b[32m     12\u001b[39m             d - window_size // \u001b[32m2\u001b[39m : d + window_size // \u001b[32m2\u001b[39m + \u001b[32m1\u001b[39m, t]\n\u001b[32m     13\u001b[39m window_median = np.nanmedian(window)\n\u001b[32m---> \u001b[39m\u001b[32m14\u001b[39m mad = \u001b[43mnp\u001b[49m\u001b[43m.\u001b[49m\u001b[43mnanmedian\u001b[49m\u001b[43m(\u001b[49m\u001b[43mnp\u001b[49m\u001b[43m.\u001b[49m\u001b[43mabs\u001b[49m\u001b[43m(\u001b[49m\u001b[43mwindow\u001b[49m\u001b[43m \u001b[49m\u001b[43m-\u001b[49m\u001b[43m \u001b[49m\u001b[43mwindow_median\u001b[49m\u001b[43m)\u001b[49m\u001b[43m)\u001b[49m\n\u001b[32m     15\u001b[39m scaled_mad = \u001b[32m1.4826\u001b[39m * mad \u001b[38;5;66;03m# Assuming Gaussian data for scaling factor\u001b[39;00m\n\u001b[32m     16\u001b[39m \u001b[38;5;28;01mif\u001b[39;00m np.abs(image[r, c, d, t] - window_median) > threshold_factor * scaled_mad:\n",
      "\u001b[36mFile \u001b[39m\u001b[32m~/thesis_code_git/.venv/lib/python3.12/site-packages/numpy/lib/_nanfunctions_impl.py:1217\u001b[39m, in \u001b[36mnanmedian\u001b[39m\u001b[34m(a, axis, out, overwrite_input, keepdims)\u001b[39m\n\u001b[32m   1214\u001b[39m \u001b[38;5;28;01mif\u001b[39;00m a.size == \u001b[32m0\u001b[39m:\n\u001b[32m   1215\u001b[39m     \u001b[38;5;28;01mreturn\u001b[39;00m np.nanmean(a, axis, out=out, keepdims=keepdims)\n\u001b[32m-> \u001b[39m\u001b[32m1217\u001b[39m \u001b[38;5;28;01mreturn\u001b[39;00m \u001b[43mfnb\u001b[49m\u001b[43m.\u001b[49m\u001b[43m_ureduce\u001b[49m\u001b[43m(\u001b[49m\u001b[43ma\u001b[49m\u001b[43m,\u001b[49m\u001b[43m \u001b[49m\u001b[43mfunc\u001b[49m\u001b[43m=\u001b[49m\u001b[43m_nanmedian\u001b[49m\u001b[43m,\u001b[49m\u001b[43m \u001b[49m\u001b[43mkeepdims\u001b[49m\u001b[43m=\u001b[49m\u001b[43mkeepdims\u001b[49m\u001b[43m,\u001b[49m\n\u001b[32m   1218\u001b[39m \u001b[43m                    \u001b[49m\u001b[43maxis\u001b[49m\u001b[43m=\u001b[49m\u001b[43maxis\u001b[49m\u001b[43m,\u001b[49m\u001b[43m \u001b[49m\u001b[43mout\u001b[49m\u001b[43m=\u001b[49m\u001b[43mout\u001b[49m\u001b[43m,\u001b[49m\n\u001b[32m   1219\u001b[39m \u001b[43m                    \u001b[49m\u001b[43moverwrite_input\u001b[49m\u001b[43m=\u001b[49m\u001b[43moverwrite_input\u001b[49m\u001b[43m)\u001b[49m\n",
      "\u001b[36mFile \u001b[39m\u001b[32m~/thesis_code_git/.venv/lib/python3.12/site-packages/numpy/lib/_function_base_impl.py:3894\u001b[39m, in \u001b[36m_ureduce\u001b[39m\u001b[34m(a, func, keepdims, **kwargs)\u001b[39m\n\u001b[32m   3891\u001b[39m             index_out = (\u001b[32m0\u001b[39m, ) * nd\n\u001b[32m   3892\u001b[39m             kwargs[\u001b[33m'\u001b[39m\u001b[33mout\u001b[39m\u001b[33m'\u001b[39m] = out[(\u001b[38;5;28mEllipsis\u001b[39m, ) + index_out]\n\u001b[32m-> \u001b[39m\u001b[32m3894\u001b[39m r = \u001b[43mfunc\u001b[49m\u001b[43m(\u001b[49m\u001b[43ma\u001b[49m\u001b[43m,\u001b[49m\u001b[43m \u001b[49m\u001b[43m*\u001b[49m\u001b[43m*\u001b[49m\u001b[43mkwargs\u001b[49m\u001b[43m)\u001b[49m\n\u001b[32m   3896\u001b[39m \u001b[38;5;28;01mif\u001b[39;00m out \u001b[38;5;129;01mis\u001b[39;00m \u001b[38;5;129;01mnot\u001b[39;00m \u001b[38;5;28;01mNone\u001b[39;00m:\n\u001b[32m   3897\u001b[39m     \u001b[38;5;28;01mreturn\u001b[39;00m out\n",
      "\u001b[36mFile \u001b[39m\u001b[32m~/thesis_code_git/.venv/lib/python3.12/site-packages/numpy/lib/_nanfunctions_impl.py:1086\u001b[39m, in \u001b[36m_nanmedian\u001b[39m\u001b[34m(a, axis, out, overwrite_input)\u001b[39m\n\u001b[32m   1084\u001b[39m part = a.ravel()\n\u001b[32m   1085\u001b[39m \u001b[38;5;28;01mif\u001b[39;00m out \u001b[38;5;129;01mis\u001b[39;00m \u001b[38;5;28;01mNone\u001b[39;00m:\n\u001b[32m-> \u001b[39m\u001b[32m1086\u001b[39m     \u001b[38;5;28;01mreturn\u001b[39;00m \u001b[43m_nanmedian1d\u001b[49m\u001b[43m(\u001b[49m\u001b[43mpart\u001b[49m\u001b[43m,\u001b[49m\u001b[43m \u001b[49m\u001b[43moverwrite_input\u001b[49m\u001b[43m)\u001b[49m\n\u001b[32m   1087\u001b[39m \u001b[38;5;28;01melse\u001b[39;00m:\n\u001b[32m   1088\u001b[39m     out[...] = _nanmedian1d(part, overwrite_input)\n",
      "\u001b[36mFile \u001b[39m\u001b[32m~/thesis_code_git/.venv/lib/python3.12/site-packages/numpy/lib/_nanfunctions_impl.py:1073\u001b[39m, in \u001b[36m_nanmedian1d\u001b[39m\u001b[34m(arr1d, overwrite_input)\u001b[39m\n\u001b[32m   1068\u001b[39m \u001b[38;5;28;01mif\u001b[39;00m arr1d_parsed.size == \u001b[32m0\u001b[39m:\n\u001b[32m   1069\u001b[39m     \u001b[38;5;66;03m# Ensure that a nan-esque scalar of the appropriate type (and unit)\u001b[39;00m\n\u001b[32m   1070\u001b[39m     \u001b[38;5;66;03m# is returned for `timedelta64` and `complexfloating`\u001b[39;00m\n\u001b[32m   1071\u001b[39m     \u001b[38;5;28;01mreturn\u001b[39;00m arr1d[-\u001b[32m1\u001b[39m]\n\u001b[32m-> \u001b[39m\u001b[32m1073\u001b[39m \u001b[38;5;28;01mreturn\u001b[39;00m \u001b[43mnp\u001b[49m\u001b[43m.\u001b[49m\u001b[43mmedian\u001b[49m\u001b[43m(\u001b[49m\u001b[43marr1d_parsed\u001b[49m\u001b[43m,\u001b[49m\u001b[43m \u001b[49m\u001b[43moverwrite_input\u001b[49m\u001b[43m=\u001b[49m\u001b[43moverwrite_input\u001b[49m\u001b[43m)\u001b[49m\n",
      "\u001b[36mFile \u001b[39m\u001b[32m~/thesis_code_git/.venv/lib/python3.12/site-packages/numpy/lib/_function_base_impl.py:4001\u001b[39m, in \u001b[36mmedian\u001b[39m\u001b[34m(a, axis, out, overwrite_input, keepdims)\u001b[39m\n\u001b[32m   3916\u001b[39m \u001b[38;5;129m@array_function_dispatch\u001b[39m(_median_dispatcher)\n\u001b[32m   3917\u001b[39m \u001b[38;5;28;01mdef\u001b[39;00m\u001b[38;5;250m \u001b[39m\u001b[34mmedian\u001b[39m(a, axis=\u001b[38;5;28;01mNone\u001b[39;00m, out=\u001b[38;5;28;01mNone\u001b[39;00m, overwrite_input=\u001b[38;5;28;01mFalse\u001b[39;00m, keepdims=\u001b[38;5;28;01mFalse\u001b[39;00m):\n\u001b[32m   3918\u001b[39m \u001b[38;5;250m    \u001b[39m\u001b[33;03m\"\"\"\u001b[39;00m\n\u001b[32m   3919\u001b[39m \u001b[33;03m    Compute the median along the specified axis.\u001b[39;00m\n\u001b[32m   3920\u001b[39m \n\u001b[32m   (...)\u001b[39m\u001b[32m   3999\u001b[39m \n\u001b[32m   4000\u001b[39m \u001b[33;03m    \"\"\"\u001b[39;00m\n\u001b[32m-> \u001b[39m\u001b[32m4001\u001b[39m     \u001b[38;5;28;01mreturn\u001b[39;00m \u001b[43m_ureduce\u001b[49m\u001b[43m(\u001b[49m\u001b[43ma\u001b[49m\u001b[43m,\u001b[49m\u001b[43m \u001b[49m\u001b[43mfunc\u001b[49m\u001b[43m=\u001b[49m\u001b[43m_median\u001b[49m\u001b[43m,\u001b[49m\u001b[43m \u001b[49m\u001b[43mkeepdims\u001b[49m\u001b[43m=\u001b[49m\u001b[43mkeepdims\u001b[49m\u001b[43m,\u001b[49m\u001b[43m \u001b[49m\u001b[43maxis\u001b[49m\u001b[43m=\u001b[49m\u001b[43maxis\u001b[49m\u001b[43m,\u001b[49m\u001b[43m \u001b[49m\u001b[43mout\u001b[49m\u001b[43m=\u001b[49m\u001b[43mout\u001b[49m\u001b[43m,\u001b[49m\n\u001b[32m   4002\u001b[39m \u001b[43m                    \u001b[49m\u001b[43moverwrite_input\u001b[49m\u001b[43m=\u001b[49m\u001b[43moverwrite_input\u001b[49m\u001b[43m)\u001b[49m\n",
      "\u001b[36mFile \u001b[39m\u001b[32m~/thesis_code_git/.venv/lib/python3.12/site-packages/numpy/lib/_function_base_impl.py:3894\u001b[39m, in \u001b[36m_ureduce\u001b[39m\u001b[34m(a, func, keepdims, **kwargs)\u001b[39m\n\u001b[32m   3891\u001b[39m             index_out = (\u001b[32m0\u001b[39m, ) * nd\n\u001b[32m   3892\u001b[39m             kwargs[\u001b[33m'\u001b[39m\u001b[33mout\u001b[39m\u001b[33m'\u001b[39m] = out[(\u001b[38;5;28mEllipsis\u001b[39m, ) + index_out]\n\u001b[32m-> \u001b[39m\u001b[32m3894\u001b[39m r = \u001b[43mfunc\u001b[49m\u001b[43m(\u001b[49m\u001b[43ma\u001b[49m\u001b[43m,\u001b[49m\u001b[43m \u001b[49m\u001b[43m*\u001b[49m\u001b[43m*\u001b[49m\u001b[43mkwargs\u001b[49m\u001b[43m)\u001b[49m\n\u001b[32m   3896\u001b[39m \u001b[38;5;28;01mif\u001b[39;00m out \u001b[38;5;129;01mis\u001b[39;00m \u001b[38;5;129;01mnot\u001b[39;00m \u001b[38;5;28;01mNone\u001b[39;00m:\n\u001b[32m   3897\u001b[39m     \u001b[38;5;28;01mreturn\u001b[39;00m out\n",
      "\u001b[36mFile \u001b[39m\u001b[32m~/thesis_code_git/.venv/lib/python3.12/site-packages/numpy/lib/_function_base_impl.py:4029\u001b[39m, in \u001b[36m_median\u001b[39m\u001b[34m(a, axis, out, overwrite_input)\u001b[39m\n\u001b[32m   4027\u001b[39m \u001b[38;5;28;01mif\u001b[39;00m axis \u001b[38;5;129;01mis\u001b[39;00m \u001b[38;5;28;01mNone\u001b[39;00m:\n\u001b[32m   4028\u001b[39m     part = a.ravel()\n\u001b[32m-> \u001b[39m\u001b[32m4029\u001b[39m     \u001b[43mpart\u001b[49m\u001b[43m.\u001b[49m\u001b[43mpartition\u001b[49m\u001b[43m(\u001b[49m\u001b[43mkth\u001b[49m\u001b[43m)\u001b[49m\n\u001b[32m   4030\u001b[39m \u001b[38;5;28;01melse\u001b[39;00m:\n\u001b[32m   4031\u001b[39m     a.partition(kth, axis=axis)\n",
      "\u001b[31mKeyboardInterrupt\u001b[39m: "
     ]
    }
   ],
   "source": [
    "filtered_beta_cleaned = hampel_filter_image(beta_cleaned, window_size=5, threshold_factor=3)\n",
    "\n",
    "roi_img = nib.Nifti1Image(mask.astype(np.uint8), A)\n",
    "\n",
    "# If anatomy and functional grids differ, resample with nearest neighbor:\n",
    "roi_img = image.resample_to_img(roi_img, anat_img, interpolation='nearest')\n",
    "\n",
    "view = plotting.view_img(\n",
    "    roi_img, bg_img=anat_img,\n",
    "    threshold=0.5,          # show only '1's\n",
    "    opacity=0.8,              # transparency of the overlay\n",
    "    cmap='YlGn',          # single-hue works better for ROIs than 'jet'\n",
    "    title=\"Active Voxels\"\n",
    ")\n",
    "view.save_as_html(f\"binary_ttest_beta_voxels_sub{sub}_ses{ses}_run{run}.html\")"
   ]
  },
  {
   "cell_type": "code",
   "execution_count": 26,
   "id": "90d5ac23",
   "metadata": {},
   "outputs": [
    {
     "name": "stdout",
     "output_type": "stream",
     "text": [
      "Voxels with ≥1 NaN trial: 298510/1813320 (16.46%)\n",
      "Voxels with all trials NaN: 252980/1813320 (13.95%)\n"
     ]
    }
   ],
   "source": [
    "isnan = np.isnan(filtered_beta_cleaned)\n",
    "vox_any_nan = np.any(isnan, axis=-1)\n",
    "vox_all_nan = np.all(isnan, axis=-1)\n",
    "\n",
    "n_voxels = filtered_beta_cleaned[:3].size\n",
    "count_any = int(np.count_nonzero(vox_any_nan))\n",
    "count_all = int(np.count_nonzero(vox_all_nan))\n",
    "\n",
    "print(f\"Voxels with ≥1 NaN trial: {count_any}/{n_voxels} ({count_any/n_voxels:.2%})\")\n",
    "print(f\"Voxels with all trials NaN: {count_all}/{n_voxels} ({count_all/n_voxels:.2%})\")"
   ]
  },
  {
   "cell_type": "code",
   "execution_count": 27,
   "id": "d9016e65",
   "metadata": {},
   "outputs": [
    {
     "name": "stdout",
     "output_type": "stream",
     "text": [
      "vmin: -0.6916436705484109, vmax:0.8063249461994655\n"
     ]
    },
    {
     "name": "stderr",
     "output_type": "stream",
     "text": [
      "/tmp/ipykernel_319983/778202559.py:1: RuntimeWarning: Mean of empty slice\n",
      "  save_beta_html(np.nanmean(filtered_beta_cleaned, axis=-1), anat_img, bold_img, A, '', fname = f\"spatial_filtered_beta{sub}_ses{ses}_run{run}.html\")\n",
      "/tmp/ipykernel_319983/94407561.py:43: UserWarning: Non-finite values detected. These values will be replaced with zeros.\n",
      "  view = view_img(beta_on_anat, bg_img=anat_img, cmap='seismic', symmetric_cmap=False, vmax=vmax, vmin=vmin, threshold=thr,\n",
      "/tmp/ipykernel_319983/94407561.py:43: UserWarning: you have specified symmetric_cmap=False but the map contains negative values; setting symmetric_cmap to True\n",
      "  view = view_img(beta_on_anat, bg_img=anat_img, cmap='seismic', symmetric_cmap=False, vmax=vmax, vmin=vmin, threshold=thr,\n",
      "/tmp/ipykernel_319983/94407561.py:43: UserWarning: vmin cannot be chosen when cmap is symmetric\n",
      "  view = view_img(beta_on_anat, bg_img=anat_img, cmap='seismic', symmetric_cmap=False, vmax=vmax, vmin=vmin, threshold=thr,\n",
      "/home/zkavian/thesis_code_git/.venv/lib/python3.12/site-packages/numpy/_core/fromnumeric.py:868: UserWarning: Warning: 'partition' will ignore the 'mask' of the MaskedArray.\n",
      "  a.partition(kth, axis=axis, kind=kind, order=order)\n"
     ]
    }
   ],
   "source": [
    "save_beta_html(np.nanmean(filtered_beta_cleaned, axis=-1), anat_img, bold_img, A, '', fname = f\"spatial_filtered_beta{sub}_ses{ses}_run{run}.html\")"
   ]
  },
  {
   "cell_type": "code",
   "execution_count": 28,
   "id": "bcfc1311",
   "metadata": {},
   "outputs": [
    {
     "name": "stdout",
     "output_type": "stream",
     "text": [
      "selected_trial: 0.411%\n",
      "selected_voxel(mean): 0.116%\n"
     ]
    },
    {
     "name": "stderr",
     "output_type": "stream",
     "text": [
      "/tmp/ipykernel_319983/29680945.py:2: RuntimeWarning: Mean of empty slice\n",
      "  print(f\"selected_voxel(mean): {fmt(np.count_nonzero(~np.isnan(np.nanmean(filtered_beta_cleaned, axis=-1)))/beta[:3].size)}%\")\n"
     ]
    }
   ],
   "source": [
    "print(f\"selected_trial: {fmt(np.count_nonzero(~np.isnan(filtered_beta_cleaned))/beta.size)}%\")\n",
    "print(f\"selected_voxel(mean): {fmt(np.count_nonzero(~np.isnan(np.nanmean(filtered_beta_cleaned, axis=-1)))/beta[:3].size)}%\")"
   ]
  },
  {
   "cell_type": "code",
   "execution_count": 29,
   "id": "8aef5e24",
   "metadata": {},
   "outputs": [
    {
     "name": "stderr",
     "output_type": "stream",
     "text": [
      "/tmp/ipykernel_319983/479726783.py:1: RuntimeWarning: Mean of empty slice\n",
      "  np.count_nonzero(~np.isnan(np.nanmean(filtered_beta_cleaned, axis=-1)))\n"
     ]
    },
    {
     "data": {
      "text/plain": [
       "210424"
      ]
     },
     "execution_count": 29,
     "metadata": {},
     "output_type": "execute_result"
    }
   ],
   "source": [
    "np.count_nonzero(~np.isnan(np.nanmean(filtered_beta_cleaned, axis=-1)))"
   ]
  },
  {
   "cell_type": "markdown",
   "id": "0abc2a27",
   "metadata": {},
   "source": [
    "Method 3"
   ]
  },
  {
   "cell_type": "code",
   "execution_count": 30,
   "id": "6546c703",
   "metadata": {},
   "outputs": [
    {
     "name": "stderr",
     "output_type": "stream",
     "text": [
      "/tmp/ipykernel_319983/677545838.py:7: RuntimeWarning: Mean of empty slice\n",
      "  m  = np.nanmean(B, axis=1)\n"
     ]
    },
    {
     "name": "stdout",
     "output_type": "stream",
     "text": [
      "0.004416193466684619 11.752648677711361\n"
     ]
    },
    {
     "name": "stderr",
     "output_type": "stream",
     "text": [
      "/home/zkavian/thesis_code_git/.venv/lib/python3.12/site-packages/numpy/lib/_nanfunctions_impl.py:2019: RuntimeWarning: Degrees of freedom <= 0 for slice.\n",
      "  var = nanvar(a, axis=axis, dtype=dtype, out=out, ddof=ddof,\n"
     ]
    }
   ],
   "source": [
    "fdr_out = voxelwise_ttest_fdr(filtered_beta_cleaned)\n",
    "\n",
    "filtered_beta_cleaned_ttest = np.full(filtered_beta_cleaned.shape, np.nan, dtype=float)\n",
    "mask = fdr_out['reject']\n",
    "filtered_beta_cleaned_ttest[mask] = filtered_beta_cleaned[mask] "
   ]
  },
  {
   "cell_type": "code",
   "execution_count": 31,
   "id": "c0c5003b",
   "metadata": {},
   "outputs": [
    {
     "name": "stdout",
     "output_type": "stream",
     "text": [
      "Voxels with ≥1 NaN trial: 373735/1813320 (20.61%)\n",
      "Voxels with all trials NaN: 351242/1813320 (19.37%)\n",
      "vmin: -0.8927145769208391, vmax:1.053482093786292\n"
     ]
    },
    {
     "name": "stderr",
     "output_type": "stream",
     "text": [
      "/tmp/ipykernel_319983/1503058544.py:12: RuntimeWarning: Mean of empty slice\n",
      "  save_beta_html(np.nanmean(filtered_beta_cleaned_ttest, axis=-1), anat_img, bold_img, A, '', fname = f\"ttest_spatial_filtered_beta{sub}_ses{ses}_run{run}.html\")\n",
      "/tmp/ipykernel_319983/94407561.py:43: UserWarning: Non-finite values detected. These values will be replaced with zeros.\n",
      "  view = view_img(beta_on_anat, bg_img=anat_img, cmap='seismic', symmetric_cmap=False, vmax=vmax, vmin=vmin, threshold=thr,\n",
      "/tmp/ipykernel_319983/94407561.py:43: UserWarning: you have specified symmetric_cmap=False but the map contains negative values; setting symmetric_cmap to True\n",
      "  view = view_img(beta_on_anat, bg_img=anat_img, cmap='seismic', symmetric_cmap=False, vmax=vmax, vmin=vmin, threshold=thr,\n",
      "/tmp/ipykernel_319983/94407561.py:43: UserWarning: vmin cannot be chosen when cmap is symmetric\n",
      "  view = view_img(beta_on_anat, bg_img=anat_img, cmap='seismic', symmetric_cmap=False, vmax=vmax, vmin=vmin, threshold=thr,\n",
      "/home/zkavian/thesis_code_git/.venv/lib/python3.12/site-packages/numpy/_core/fromnumeric.py:868: UserWarning: Warning: 'partition' will ignore the 'mask' of the MaskedArray.\n",
      "  a.partition(kth, axis=axis, kind=kind, order=order)\n"
     ]
    }
   ],
   "source": [
    "isnan = np.isnan(filtered_beta_cleaned_ttest)\n",
    "vox_any_nan = np.any(isnan, axis=-1)\n",
    "vox_all_nan = np.all(isnan, axis=-1)\n",
    "\n",
    "n_voxels = filtered_beta_cleaned_ttest[:3].size\n",
    "count_any = int(np.count_nonzero(vox_any_nan))\n",
    "count_all = int(np.count_nonzero(vox_all_nan))\n",
    "\n",
    "print(f\"Voxels with ≥1 NaN trial: {count_any}/{n_voxels} ({count_any/n_voxels:.2%})\")\n",
    "print(f\"Voxels with all trials NaN: {count_all}/{n_voxels} ({count_all/n_voxels:.2%})\")\n",
    "\n",
    "save_beta_html(np.nanmean(filtered_beta_cleaned_ttest, axis=-1), anat_img, bold_img, A, '', fname = f\"ttest_spatial_filtered_beta{sub}_ses{ses}_run{run}.html\")"
   ]
  },
  {
   "cell_type": "markdown",
   "id": "19253a71",
   "metadata": {},
   "source": [
    "Compute Diff and fit guassian dist"
   ]
  },
  {
   "cell_type": "code",
   "execution_count": 32,
   "id": "fd3a88e8",
   "metadata": {},
   "outputs": [
    {
     "name": "stdout",
     "output_type": "stream",
     "text": [
      "(69, 92, 73, 89)\n",
      "beta_clean_diff: -33.75160789489746, 32.93133354187012\n"
     ]
    },
    {
     "data": {
      "image/png": "[encoded data removed]",
      "text/plain": [
       "<Figure size 640x480 with 1 Axes>"
      ]
     },
     "metadata": {},
     "output_type": "display_data"
    }
   ],
   "source": [
    "beta_cleaned_diff = np.diff(filtered_beta_cleaned_ttest, axis=-1)\n",
    "print(beta_cleaned_diff.shape)\n",
    "print(f\"beta_clean_diff: {np.nanmin(beta_cleaned_diff.ravel())}, {np.nanmax(beta_cleaned_diff.ravel())}\")\n",
    "\n",
    "plt.figure()\n",
    "plt.hist(beta_cleaned_diff.ravel(), bins=10)\n",
    "plt.title(\"Distribution of Consecutive Beta Differences\")\n",
    "plt.show()"
   ]
  },
  {
   "cell_type": "code",
   "execution_count": 33,
   "id": "c072a889",
   "metadata": {},
   "outputs": [],
   "source": [
    "beta_cleaned_diff_reshape = beta_cleaned_diff.reshape(-1, beta_cleaned_diff.shape[-1])\n",
    "mask = ~np.all(np.isnan(beta_cleaned_diff_reshape), axis=1)\n",
    "beta_diff_clean = beta_cleaned_diff_reshape[mask]"
   ]
  },
  {
   "cell_type": "code",
   "execution_count": 34,
   "id": "4981d45d",
   "metadata": {},
   "outputs": [
    {
     "name": "stdout",
     "output_type": "stream",
     "text": [
      "602920\n",
      "9969513\n"
     ]
    },
    {
     "data": {
      "text/plain": [
       "0.24826403127477512"
      ]
     },
     "execution_count": 34,
     "metadata": {},
     "output_type": "execute_result"
    }
   ],
   "source": [
    "print(np.sum(np.isnan(beta_diff_clean)))\n",
    "print(beta_diff_clean.size)\n",
    "46496/18728448*100"
   ]
  },
  {
   "cell_type": "code",
   "execution_count": 38,
   "id": "2d441d10",
   "metadata": {},
   "outputs": [
    {
     "data": {
      "image/png": "[encoded data removed]",
      "text/plain": [
       "<Figure size 1200x1000 with 9 Axes>"
      ]
     },
     "metadata": {},
     "output_type": "display_data"
    }
   ],
   "source": [
    "rng = np.random.default_rng(0)\n",
    "n_pick = min(9, beta_diff_clean.shape[0])\n",
    "picked_rows = rng.choice(beta_diff_clean.shape[0], size=n_pick, replace=False)\n",
    "\n",
    "flat_idx_all = np.where(mask)[0]\n",
    "orig_flat_idx = flat_idx_all[picked_rows]\n",
    "coords = np.array(np.unravel_index(orig_flat_idx, beta_cleaned_diff.shape[:-1])).T  # (n_pick, 3)\n",
    "\n",
    "# Plot 3x3 histograms\n",
    "fig, axes = plt.subplots(3, 3, figsize=(12, 10))\n",
    "axes = axes.ravel()\n",
    "\n",
    "for i in range(9):\n",
    "    ax = axes[i]\n",
    "    if i < n_pick:\n",
    "        vals = beta_diff_clean[picked_rows[i]]\n",
    "        vals = vals[~np.isnan(vals)]\n",
    "        ax.hist(vals, bins=10, color='steelblue', alpha=0.85)\n",
    "        c = tuple(int(x) for x in coords[i])\n",
    "        ax.set_title(f'Voxel {c}')\n",
    "        ax.set_xlabel('beta_cleaned_diff')\n",
    "        ax.set_ylabel('# trials')\n",
    "    else:\n",
    "        ax.axis('off')\n",
    "\n",
    "fig.suptitle('Trial distributions for 9 random voxels (beta difference)')\n",
    "fig.tight_layout()\n",
    "plt.show()"
   ]
  },
  {
   "cell_type": "code",
   "execution_count": 22,
   "id": "74cb1159",
   "metadata": {},
   "outputs": [
    {
     "name": "stderr",
     "output_type": "stream",
     "text": [
      "/home/zkavian/thesis_code_git/.venv/lib/python3.12/site-packages/numpy/lib/_nanfunctions_impl.py:2019: RuntimeWarning: Degrees of freedom <= 0 for slice.\n",
      "  var = nanvar(a, axis=axis, dtype=dtype, out=out, ddof=ddof,\n"
     ]
    }
   ],
   "source": [
    "sk = skew(beta_diff_clean, axis=1, bias=False)     \n",
    "kt = kurtosis(beta_diff_clean, axis=1, fisher=False, bias=False)\n",
    "\n",
    "sk_thr = np.nanpercentile(np.abs(sk), 99)         \n",
    "kt_thr = np.nanpercentile(np.abs(kt - 3), 99)            \n",
    "mask_gaussian_like = (np.abs(sk) < sk_thr) & (np.abs(kt - 3) < kt_thr)\n",
    "\n",
    "# now pick the least-variable among those\n",
    "stds = np.nanstd(beta_diff_clean, axis=1, ddof=1)\n",
    "low_var_mask = mask_gaussian_like & (stds < np.nanpercentile(stds[mask_gaussian_like], 25))  # e.g., lowest quartile\n",
    "\n",
    "low_var_beta = np.full_like(beta_diff_clean, np.nan, dtype=float)\n",
    "low_var_beta[low_var_mask] = beta_diff_clean[low_var_mask]\n"
   ]
  },
  {
   "cell_type": "code",
   "execution_count": null,
   "id": "fa28a43b",
   "metadata": {},
   "outputs": [],
   "source": []
  },
  {
   "cell_type": "code",
   "execution_count": null,
   "id": "15dd9c5c",
   "metadata": {},
   "outputs": [],
   "source": []
  },
  {
   "cell_type": "code",
   "execution_count": null,
   "id": "f0540b35",
   "metadata": {},
   "outputs": [
    {
     "name": "stderr",
     "output_type": "stream",
     "text": [
      "/tmp/ipykernel_310544/94407561.py:43: UserWarning: Non-finite values detected. These values will be replaced with zeros.\n",
      "  view = view_img(beta_on_anat, bg_img=anat_img, cmap='seismic', symmetric_cmap=False, vmax=vmax, vmin=vmin, threshold=thr,\n",
      "/tmp/ipykernel_310544/94407561.py:43: UserWarning: you have specified symmetric_cmap=False but the map contains negative values; setting symmetric_cmap to True\n",
      "  view = view_img(beta_on_anat, bg_img=anat_img, cmap='seismic', symmetric_cmap=False, vmax=vmax, vmin=vmin, threshold=thr,\n",
      "/tmp/ipykernel_310544/94407561.py:43: UserWarning: vmin cannot be chosen when cmap is symmetric\n",
      "  view = view_img(beta_on_anat, bg_img=anat_img, cmap='seismic', symmetric_cmap=False, vmax=vmax, vmin=vmin, threshold=thr,\n",
      "/home/zkavian/thesis_code_git/.venv/lib/python3.12/site-packages/numpy/_core/fromnumeric.py:868: UserWarning: Warning: 'partition' will ignore the 'mask' of the MaskedArray.\n",
      "  a.partition(kth, axis=axis, kind=kind, order=order)\n"
     ]
    },
    {
     "name": "stdout",
     "output_type": "stream",
     "text": [
      "vmin: -0.003426679181918669, vmax:0.0036378101267841453\n",
      "Saved: low_var_beta_diff_mean04_ses1_run1.html\n"
     ]
    }
   ],
   "source": [
    "vol_shape = filtered_beta_cleaned_ttest.shape[:-1]   # (X, Y, Z)\n",
    "flat_idx_all = np.where(mask)[0]                     # rows kept when building beta_diff_clean\n",
    "selected_rows = np.where(low_var_mask)[0]            # rows selected within beta_diff_clean\n",
    "orig_flat_idx = flat_idx_all[selected_rows]          # original flat indices in 3D volume\n",
    "coords = np.unravel_index(orig_flat_idx, vol_shape)  # tuple of (i, j, k)\n",
    "\n",
    "# Option A: visualize mean of low_var_beta differences per voxel\n",
    "low_var_vals = np.nanmean(low_var_beta[selected_rows], axis=1)  # one value per selected voxel\n",
    "low_var_map = np.full(vol_shape, np.nan, dtype=float)\n",
    "low_var_map[coords] = low_var_vals\n",
    "out_name_a = f\"low_var_beta_diff_mean{sub}_ses{ses}_run{run}.html\" if all(v in globals() for v in ['sub','ses','run']) else \"low_var_beta_diff_mean.html\"\n",
    "save_beta_html(low_var_map, anat_img, bold_img, A, '', fname=out_name_a)\n",
    "print(f\"Saved: {out_name_a}\")\n"
   ]
  },
  {
   "cell_type": "code",
   "execution_count": 45,
   "id": "cc5e43e8",
   "metadata": {},
   "outputs": [
    {
     "name": "stdout",
     "output_type": "stream",
     "text": [
      "0.7162653863945659\n"
     ]
    }
   ],
   "source": [
    "print(sk_thr)"
   ]
  },
  {
   "cell_type": "code",
   "execution_count": 55,
   "id": "54644cdf",
   "metadata": {},
   "outputs": [
    {
     "data": {
      "text/plain": [
       "Text(3, -2, '5.425')"
      ]
     },
     "execution_count": 55,
     "metadata": {},
     "output_type": "execute_result"
    },
    {
     "data": {
      "image/png": "[encoded data removed]",
      "text/plain": [
       "<Figure size 600x400 with 1 Axes>"
      ]
     },
     "metadata": {},
     "output_type": "display_data"
    },
    {
     "data": {
      "image/png": "[encoded data removed]",
      "text/plain": [
       "<Figure size 600x400 with 1 Axes>"
      ]
     },
     "metadata": {},
     "output_type": "display_data"
    }
   ],
   "source": [
    "plt.figure(figsize=(6, 4))\n",
    "plt.hist(sk, bins=40, color='steelblue', alpha=0.9)\n",
    "plt.title('Skewness')\n",
    "plt.xlabel('skew')\n",
    "plt.ylabel('# voxels')\n",
    "plt.axvline(sk_thr, color='k', linestyle='--', linewidth=1)\n",
    "ax = plt.gca()\n",
    "fmt = '{:.3f}'\n",
    "ax.annotate(fmt.format(sk_thr),\n",
    "            xy=(sk_thr, 1), xycoords=('data', 'axes fraction'),\n",
    "                xytext=(3, -2), textcoords='offset points',\n",
    "                rotation=90, va='top', ha='left',\n",
    "                fontsize=9, color='k',\n",
    "                bbox=dict(boxstyle='round,pad=0.2', fc='white', ec='none', alpha=0.8))\n",
    "\n",
    "\n",
    "plt.figure(figsize=(6, 4))\n",
    "plt.hist(kt, bins=40, color='indianred', alpha=0.9)\n",
    "plt.title('Kurtosis')\n",
    "plt.xlabel('kurtosis')\n",
    "plt.ylabel('# voxels')\n",
    "plt.axvline(kt_thr+3, color='k', linestyle='--', linewidth=1)\n",
    "ax = plt.gca()\n",
    "ax.annotate(fmt.format(kt_thr+3),\n",
    "            xy=(kt_thr+3, 1), xycoords=('data', 'axes fraction'),\n",
    "                xytext=(3, -2), textcoords='offset points',\n",
    "                rotation=90, va='top', ha='left',\n",
    "                fontsize=9, color='k',\n",
    "                bbox=dict(boxstyle='round,pad=0.2', fc='white', ec='none', alpha=0.8))\n"
   ]
  },
  {
   "cell_type": "code",
   "execution_count": 34,
   "id": "40e7a828",
   "metadata": {},
   "outputs": [
    {
     "data": {
      "text/plain": [
       "(array([ 2,  2,  3, ..., 67, 67, 67], shape=(22061,)),\n",
       " array([42, 43, 28, ..., 40, 40, 40], shape=(22061,)),\n",
       " array([31, 31, 35, ..., 31, 32, 33], shape=(22061,)))"
      ]
     },
     "execution_count": 34,
     "metadata": {},
     "output_type": "execute_result"
    }
   ],
   "source": [
    "coords"
   ]
  },
  {
   "cell_type": "code",
   "execution_count": null,
   "id": "43a81ce3",
   "metadata": {},
   "outputs": [
    {
     "name": "stderr",
     "output_type": "stream",
     "text": [
      "/tmp/ipykernel_310544/94407561.py:43: UserWarning: Non-finite values detected. These values will be replaced with zeros.\n",
      "  view = view_img(beta_on_anat, bg_img=anat_img, cmap='seismic', symmetric_cmap=False, vmax=vmax, vmin=vmin, threshold=thr,\n",
      "/tmp/ipykernel_310544/94407561.py:43: UserWarning: you have specified symmetric_cmap=False but the map contains negative values; setting symmetric_cmap to True\n",
      "  view = view_img(beta_on_anat, bg_img=anat_img, cmap='seismic', symmetric_cmap=False, vmax=vmax, vmin=vmin, threshold=thr,\n",
      "/tmp/ipykernel_310544/94407561.py:43: UserWarning: vmin cannot be chosen when cmap is symmetric\n",
      "  view = view_img(beta_on_anat, bg_img=anat_img, cmap='seismic', symmetric_cmap=False, vmax=vmax, vmin=vmin, threshold=thr,\n",
      "/home/zkavian/thesis_code_git/.venv/lib/python3.12/site-packages/numpy/_core/fromnumeric.py:868: UserWarning: Warning: 'partition' will ignore the 'mask' of the MaskedArray.\n",
      "  a.partition(kth, axis=axis, kind=kind, order=order)\n"
     ]
    },
    {
     "name": "stdout",
     "output_type": "stream",
     "text": [
      "vmin: -0.003426679181918669, vmax:0.0036378101267841453\n",
      "Saved: low_var_beta_diff_mean04_ses1_run1.html\n"
     ]
    }
   ],
   "source": [
    "vol_shape = filtered_beta_cleaned_ttest.shape[:-1]   # (X, Y, Z)\n",
    "flat_idx_all = np.where(mask)[0]                     # rows kept when building beta_diff_clean\n",
    "selected_rows = np.where(low_var_mask)[0]            # rows selected within beta_diff_clean\n",
    "orig_flat_idx = flat_idx_all[selected_rows]          # original flat indices in 3D volume\n",
    "coords = np.unravel_index(orig_flat_idx, vol_shape)  # tuple of (i, j, k)\n",
    "\n",
    "# Option A: visualize mean of low_var_beta differences per voxel\n",
    "low_var_vals = np.nanmean(low_var_beta[selected_rows], axis=1)  # one value per selected voxel\n",
    "low_var_map = np.full(vol_shape, np.nan, dtype=float)\n",
    "low_var_map[coords] = low_var_vals\n",
    "out_name_a = f\"low_var_beta_diff_mean{sub}_ses{ses}_run{run}.html\" if all(v in globals() for v in ['sub','ses','run']) else \"low_var_beta_diff_mean.html\"\n",
    "save_beta_html(low_var_map, anat_img, bold_img, A, '', fname=out_name_a)\n",
    "print(f\"Saved: {out_name_a}\")\n"
   ]
  },
  {
   "cell_type": "code",
   "execution_count": null,
   "id": "fea836e7",
   "metadata": {},
   "outputs": [
    {
     "name": "stderr",
     "output_type": "stream",
     "text": [
      "/tmp/ipykernel_310544/94407561.py:43: UserWarning: Non-finite values detected. These values will be replaced with zeros.\n",
      "  view = view_img(beta_on_anat, bg_img=anat_img, cmap='seismic', symmetric_cmap=False, vmax=vmax, vmin=vmin, threshold=thr,\n",
      "/tmp/ipykernel_310544/94407561.py:43: UserWarning: you have specified symmetric_cmap=False but the map contains negative values; setting symmetric_cmap to True\n",
      "  view = view_img(beta_on_anat, bg_img=anat_img, cmap='seismic', symmetric_cmap=False, vmax=vmax, vmin=vmin, threshold=thr,\n",
      "/tmp/ipykernel_310544/94407561.py:43: UserWarning: vmin cannot be chosen when cmap is symmetric\n",
      "  view = view_img(beta_on_anat, bg_img=anat_img, cmap='seismic', symmetric_cmap=False, vmax=vmax, vmin=vmin, threshold=thr,\n",
      "/home/zkavian/thesis_code_git/.venv/lib/python3.12/site-packages/numpy/_core/fromnumeric.py:868: UserWarning: Warning: 'partition' will ignore the 'mask' of the MaskedArray.\n",
      "  a.partition(kth, axis=axis, kind=kind, order=order)\n"
     ]
    },
    {
     "name": "stdout",
     "output_type": "stream",
     "text": [
      "vmin: -0.003426679181918669, vmax:0.0036378101267841453\n",
      "Saved: low_var_beta_diff_mean04_ses1_run1.html\n"
     ]
    }
   ],
   "source": [
    "vol_shape = filtered_beta_cleaned_ttest.shape[:-1]   # (X, Y, Z)\n",
    "flat_idx_all = np.where(mask)[0]                     # rows kept when building beta_diff_clean\n",
    "selected_rows = np.where(low_var_mask)[0]            # rows selected within beta_diff_clean\n",
    "orig_flat_idx = flat_idx_all[selected_rows]          # original flat indices in 3D volume\n",
    "coords = np.unravel_index(orig_flat_idx, vol_shape)  # tuple of (i, j, k)\n",
    "\n",
    "# Option A: visualize mean of low_var_beta differences per voxel\n",
    "low_var_vals = np.nanmean(low_var_beta[selected_rows], axis=1)  # one value per selected voxel\n",
    "low_var_map = np.full(vol_shape, np.nan, dtype=float)\n",
    "low_var_map[coords] = low_var_vals\n",
    "out_name_a = f\"low_var_beta_diff_mean{sub}_ses{ses}_run{run}.html\" if all(v in globals() for v in ['sub','ses','run']) else \"low_var_beta_diff_mean.html\"\n",
    "save_beta_html(low_var_map, anat_img, bold_img, A, '', fname=out_name_a)\n",
    "print(f\"Saved: {out_name_a}\")\n"
   ]
  },
  {
   "cell_type": "code",
   "execution_count": null,
   "id": "d5f07280",
   "metadata": {},
   "outputs": [
    {
     "name": "stderr",
     "output_type": "stream",
     "text": [
      "/tmp/ipykernel_310544/94407561.py:43: UserWarning: Non-finite values detected. These values will be replaced with zeros.\n",
      "  view = view_img(beta_on_anat, bg_img=anat_img, cmap='seismic', symmetric_cmap=False, vmax=vmax, vmin=vmin, threshold=thr,\n",
      "/tmp/ipykernel_310544/94407561.py:43: UserWarning: you have specified symmetric_cmap=False but the map contains negative values; setting symmetric_cmap to True\n",
      "  view = view_img(beta_on_anat, bg_img=anat_img, cmap='seismic', symmetric_cmap=False, vmax=vmax, vmin=vmin, threshold=thr,\n",
      "/tmp/ipykernel_310544/94407561.py:43: UserWarning: vmin cannot be chosen when cmap is symmetric\n",
      "  view = view_img(beta_on_anat, bg_img=anat_img, cmap='seismic', symmetric_cmap=False, vmax=vmax, vmin=vmin, threshold=thr,\n",
      "/home/zkavian/thesis_code_git/.venv/lib/python3.12/site-packages/numpy/_core/fromnumeric.py:868: UserWarning: Warning: 'partition' will ignore the 'mask' of the MaskedArray.\n",
      "  a.partition(kth, axis=axis, kind=kind, order=order)\n"
     ]
    },
    {
     "name": "stdout",
     "output_type": "stream",
     "text": [
      "vmin: -0.003426679181918669, vmax:0.0036378101267841453\n",
      "Saved: low_var_beta_diff_mean04_ses1_run1.html\n"
     ]
    }
   ],
   "source": [
    "vol_shape = filtered_beta_cleaned_ttest.shape[:-1]   # (X, Y, Z)\n",
    "flat_idx_all = np.where(mask)[0]                     # rows kept when building beta_diff_clean\n",
    "selected_rows = np.where(low_var_mask)[0]            # rows selected within beta_diff_clean\n",
    "orig_flat_idx = flat_idx_all[selected_rows]          # original flat indices in 3D volume\n",
    "coords = np.unravel_index(orig_flat_idx, vol_shape)  # tuple of (i, j, k)\n",
    "\n",
    "# Option A: visualize mean of low_var_beta differences per voxel\n",
    "low_var_vals = np.nanmean(low_var_beta[selected_rows], axis=1)  # one value per selected voxel\n",
    "low_var_map = np.full(vol_shape, np.nan, dtype=float)\n",
    "low_var_map[coords] = low_var_vals\n",
    "out_name_a = f\"low_var_beta_diff_mean{sub}_ses{ses}_run{run}.html\" if all(v in globals() for v in ['sub','ses','run']) else \"low_var_beta_diff_mean.html\"\n",
    "save_beta_html(low_var_map, anat_img, bold_img, A, '', fname=out_name_a)\n",
    "print(f\"Saved: {out_name_a}\")\n"
   ]
  },
  {
   "cell_type": "code",
   "execution_count": 23,
   "id": "0ef62d4a",
   "metadata": {},
   "outputs": [
    {
     "name": "stderr",
     "output_type": "stream",
     "text": [
      "/tmp/ipykernel_310544/94407561.py:43: UserWarning: Non-finite values detected. These values will be replaced with zeros.\n",
      "  view = view_img(beta_on_anat, bg_img=anat_img, cmap='seismic', symmetric_cmap=False, vmax=vmax, vmin=vmin, threshold=thr,\n",
      "/tmp/ipykernel_310544/94407561.py:43: UserWarning: you have specified symmetric_cmap=False but the map contains negative values; setting symmetric_cmap to True\n",
      "  view = view_img(beta_on_anat, bg_img=anat_img, cmap='seismic', symmetric_cmap=False, vmax=vmax, vmin=vmin, threshold=thr,\n",
      "/tmp/ipykernel_310544/94407561.py:43: UserWarning: vmin cannot be chosen when cmap is symmetric\n",
      "  view = view_img(beta_on_anat, bg_img=anat_img, cmap='seismic', symmetric_cmap=False, vmax=vmax, vmin=vmin, threshold=thr,\n",
      "/home/zkavian/thesis_code_git/.venv/lib/python3.12/site-packages/numpy/_core/fromnumeric.py:868: UserWarning: Warning: 'partition' will ignore the 'mask' of the MaskedArray.\n",
      "  a.partition(kth, axis=axis, kind=kind, order=order)\n"
     ]
    },
    {
     "name": "stdout",
     "output_type": "stream",
     "text": [
      "vmin: -0.003426679181918669, vmax:0.0036378101267841453\n",
      "Saved: low_var_beta_diff_mean04_ses1_run1.html\n"
     ]
    }
   ],
   "source": [
    "vol_shape = filtered_beta_cleaned_ttest.shape[:-1]   # (X, Y, Z)\n",
    "flat_idx_all = np.where(mask)[0]                     # rows kept when building beta_diff_clean\n",
    "selected_rows = np.where(low_var_mask)[0]            # rows selected within beta_diff_clean\n",
    "orig_flat_idx = flat_idx_all[selected_rows]          # original flat indices in 3D volume\n",
    "coords = np.unravel_index(orig_flat_idx, vol_shape)  # tuple of (i, j, k)\n",
    "\n",
    "# Option A: visualize mean of low_var_beta differences per voxel\n",
    "low_var_vals = np.nanmean(low_var_beta[selected_rows], axis=1)  # one value per selected voxel\n",
    "low_var_map = np.full(vol_shape, np.nan, dtype=float)\n",
    "low_var_map[coords] = low_var_vals\n",
    "out_name_a = f\"low_var_beta_diff_mean{sub}_ses{ses}_run{run}.html\" if all(v in globals() for v in ['sub','ses','run']) else \"low_var_beta_diff_mean.html\"\n",
    "save_beta_html(low_var_map, anat_img, bold_img, A, '', fname=out_name_a)\n",
    "print(f\"Saved: {out_name_a}\")\n"
   ]
  },
  {
   "cell_type": "code",
   "execution_count": 24,
   "id": "dcced08e",
   "metadata": {},
   "outputs": [
    {
     "name": "stdout",
     "output_type": "stream",
     "text": [
      "Voxels without any trials NaN: 22061/1813320 (1.22%)\n"
     ]
    }
   ],
   "source": [
    "isnan = np.isnan(low_var_beta)\n",
    "vox_any_nan = np.any(isnan, axis=-1)\n",
    "vox_all_nan = np.all(isnan, axis=-1)\n",
    "\n",
    "n_voxels = filtered_beta_cleaned_ttest[:3].size\n",
    "count_any = int(np.count_nonzero(vox_any_nan))\n",
    "count_all = int(np.count_nonzero(vox_all_nan))\n",
    "n_voxels_select = low_var_beta.shape[0]\n",
    "\n",
    "print(f\"Voxels without any trials NaN: {n_voxels_select-count_all}/{n_voxels} ({(n_voxels_select-count_all)/n_voxels:.2%})\")"
   ]
  },
  {
   "cell_type": "markdown",
   "id": "3613d403",
   "metadata": {},
   "source": [
    "Optimization Problem"
   ]
  },
  {
   "cell_type": "code",
   "execution_count": 25,
   "id": "9443570b",
   "metadata": {},
   "outputs": [],
   "source": [
    "def calculate_matrices(betasmd, selected_voxels, anat_img, affine, masked_bold_data, trial_indices, trial_len):\n",
    "    ## L_task Vector (contains beta values for selected voxels)##\n",
    "    num_total_trials = betasmd.shape[-1]\n",
    "    if trial_indices is None:\n",
    "        trial_indices = np.arange(num_total_trials)\n",
    "\n",
    "    V1 = betasmd[selected_voxels.astype(bool), :][:, trial_indices]\n",
    "    mean_V1 = np.mean(V1, axis=-1)\n",
    "    L_task = np.divide(1., np.abs(mean_V1), out=np.zeros_like(mean_V1), where=mean_V1 != 0)\n",
    "    # L_task = 1./np.abs(mean_V1)\n",
    "\n",
    "\n",
    "    # BOLD_data = bold_img.get_fdata() #(90, 128, 85, 850)\n",
    "    BOLD_data = masked_bold_data\n",
    "    selected_BOLD_data = BOLD_data[selected_voxels.astype(bool), :]\n",
    "    selected_BOLD_data_reshape = np.zeros((selected_BOLD_data.shape[0], num_total_trials, trial_len))\n",
    "    start = 0\n",
    "    for i in range(num_trials):\n",
    "        selected_BOLD_data_reshape[:, i, :] = selected_BOLD_data[:, start:start+trial_len]\n",
    "        start += trial_len\n",
    "        if start == 270 or start == 560:\n",
    "            start += 20\n",
    "\n",
    "    print(selected_BOLD_data_reshape.shape)\n",
    "    selected_BOLD_data_subset = selected_BOLD_data_reshape[:, trial_indices, :]\n",
    "    print(selected_BOLD_data_subset.shape)\n",
    "\n",
    "    ## L_var matrix (contains variance of selected voxels)##\n",
    "    diff_mat = np.diff(selected_BOLD_data_subset, axis=1)\n",
    "    diff_mat_flat = diff_mat.reshape(diff_mat.shape[0], -1)\n",
    "    L_var = np.cov(diff_mat_flat, bias=False)\n",
    "    L_var = (L_var + L_var.T) / 2 + 1e-6 * np.eye(L_var.shape[0])\n",
    "    # C2 = diff_mat_flat @ diff_mat_flat.T\n",
    "    # L_var = C2 / selected_BOLD_data_reshape.shape[1]\n",
    "\n",
    "\n",
    "    ## L_smooth matrix (contains distance beyween selected voxels)##\n",
    "    anat_img_shape = anat_img.shape\n",
    "    coords = np.array(np.meshgrid(\n",
    "        np.arange(anat_img_shape[0]),\n",
    "        np.arange(anat_img_shape[1]),\n",
    "        np.arange(anat_img_shape[2]),\n",
    "        indexing='ij'\n",
    "    )).reshape(3, -1).T\n",
    "\n",
    "    # Convert to world (scanner/MNI) coordinates\n",
    "    world_coords = nib.affines.apply_affine(affine, coords)\n",
    "    tmp = selected_voxels.astype(bool).reshape(-1)\n",
    "    selected_world_coords = world_coords[tmp,:]\n",
    "    D = cdist(selected_world_coords, selected_world_coords)\n",
    "    sigma = np.median(D[D>0])\n",
    "    W = np.exp(-D**2 / (2*sigma**2))      # similarity\n",
    "    np.fill_diagonal(W, 0.0)\n",
    "    L_smooth = csgraph.laplacian(W, normed=False)\n",
    "    # L_smooth = csgraph.laplacian(D)\n",
    "\n",
    "    return L_task, L_var, L_smooth, selected_BOLD_data_subset.reshape(selected_BOLD_data_subset.shape[0], -1)\n"
   ]
  },
  {
   "cell_type": "code",
   "execution_count": 26,
   "id": "c450861a",
   "metadata": {},
   "outputs": [
    {
     "ename": "TypeError",
     "evalue": "Cannot slice image objects; consider using `img.slicer[slice]` to generate a sliced image (see documentation for caveats) or slicing image array data with `img.dataobj[slice]` or `img.get_fdata()[slice]`",
     "output_type": "error",
     "traceback": [
      "\u001b[31m---------------------------------------------------------------------------\u001b[39m",
      "\u001b[31mTypeError\u001b[39m                                 Traceback (most recent call last)",
      "\u001b[36mCell\u001b[39m\u001b[36m \u001b[39m\u001b[32mIn[26]\u001b[39m\u001b[32m, line 6\u001b[39m\n\u001b[32m      3\u001b[39m trial_len = \u001b[32m9\u001b[39m\n\u001b[32m      4\u001b[39m affine = anat_img.affine\n\u001b[32m----> \u001b[39m\u001b[32m6\u001b[39m L_task, L_var, L_smooth, selected_BOLD_data = \u001b[43mcalculate_matrices\u001b[49m\u001b[43m(\u001b[49m\u001b[43mbeta\u001b[49m\u001b[43m,\u001b[49m\u001b[43m \u001b[49m\u001b[43mlow_var_map\u001b[49m\u001b[43m,\u001b[49m\u001b[43m \u001b[49m\u001b[43manat_img\u001b[49m\u001b[43m,\u001b[49m\u001b[43m \u001b[49m\u001b[43maffine\u001b[49m\u001b[43m,\u001b[49m\u001b[43m \u001b[49m\u001b[43mbold_img\u001b[49m\u001b[43m,\u001b[49m\u001b[43m \u001b[49m\u001b[38;5;28;43;01mNone\u001b[39;49;00m\u001b[43m,\u001b[49m\u001b[43m \u001b[49m\u001b[43mtrial_len\u001b[49m\u001b[43m)\u001b[49m\n",
      "\u001b[36mCell\u001b[39m\u001b[36m \u001b[39m\u001b[32mIn[25]\u001b[39m\u001b[32m, line 15\u001b[39m, in \u001b[36mcalculate_matrices\u001b[39m\u001b[34m(betasmd, selected_voxels, anat_img, affine, masked_bold_data, trial_indices, trial_len)\u001b[39m\n\u001b[32m     10\u001b[39m \u001b[38;5;66;03m# L_task = 1./np.abs(mean_V1)\u001b[39;00m\n\u001b[32m     11\u001b[39m \n\u001b[32m     12\u001b[39m \n\u001b[32m     13\u001b[39m \u001b[38;5;66;03m# BOLD_data = bold_img.get_fdata() #(90, 128, 85, 850)\u001b[39;00m\n\u001b[32m     14\u001b[39m BOLD_data = masked_bold_data\n\u001b[32m---> \u001b[39m\u001b[32m15\u001b[39m selected_BOLD_data = \u001b[43mBOLD_data\u001b[49m\u001b[43m[\u001b[49m\u001b[43mselected_voxels\u001b[49m\u001b[43m.\u001b[49m\u001b[43mastype\u001b[49m\u001b[43m(\u001b[49m\u001b[38;5;28;43mbool\u001b[39;49m\u001b[43m)\u001b[49m\u001b[43m,\u001b[49m\u001b[43m \u001b[49m\u001b[43m:\u001b[49m\u001b[43m]\u001b[49m\n\u001b[32m     16\u001b[39m selected_BOLD_data_reshape = np.zeros((selected_BOLD_data.shape[\u001b[32m0\u001b[39m], num_total_trials, trial_len))\n\u001b[32m     17\u001b[39m start = \u001b[32m0\u001b[39m\n",
      "\u001b[36mFile \u001b[39m\u001b[32m~/thesis_code_git/.venv/lib/python3.12/site-packages/nibabel/spatialimages.py:638\u001b[39m, in \u001b[36mSpatialImage.__getitem__\u001b[39m\u001b[34m(self, idx)\u001b[39m\n\u001b[32m    632\u001b[39m \u001b[38;5;28;01mdef\u001b[39;00m\u001b[38;5;250m \u001b[39m\u001b[34m__getitem__\u001b[39m(\u001b[38;5;28mself\u001b[39m, idx: \u001b[38;5;28mobject\u001b[39m) -> \u001b[38;5;28;01mNone\u001b[39;00m:\n\u001b[32m    633\u001b[39m \u001b[38;5;250m    \u001b[39m\u001b[33;03m\"\"\"No slicing or dictionary interface for images\u001b[39;00m\n\u001b[32m    634\u001b[39m \n\u001b[32m    635\u001b[39m \u001b[33;03m    Use the slicer attribute to perform cropping and subsampling at your\u001b[39;00m\n\u001b[32m    636\u001b[39m \u001b[33;03m    own risk.\u001b[39;00m\n\u001b[32m    637\u001b[39m \u001b[33;03m    \"\"\"\u001b[39;00m\n\u001b[32m--> \u001b[39m\u001b[32m638\u001b[39m     \u001b[38;5;28;01mraise\u001b[39;00m \u001b[38;5;167;01mTypeError\u001b[39;00m(\n\u001b[32m    639\u001b[39m         \u001b[33m'\u001b[39m\u001b[33mCannot slice image objects; consider using `img.slicer[slice]` \u001b[39m\u001b[33m'\u001b[39m\n\u001b[32m    640\u001b[39m         \u001b[33m'\u001b[39m\u001b[33mto generate a sliced image (see documentation for caveats) or \u001b[39m\u001b[33m'\u001b[39m\n\u001b[32m    641\u001b[39m         \u001b[33m'\u001b[39m\u001b[33mslicing image array data with `img.dataobj[slice]` or \u001b[39m\u001b[33m'\u001b[39m\n\u001b[32m    642\u001b[39m         \u001b[33m'\u001b[39m\u001b[33m`img.get_fdata()[slice]`\u001b[39m\u001b[33m'\u001b[39m\n\u001b[32m    643\u001b[39m     )\n",
      "\u001b[31mTypeError\u001b[39m: Cannot slice image objects; consider using `img.slicer[slice]` to generate a sliced image (see documentation for caveats) or slicing image array data with `img.dataobj[slice]` or `img.get_fdata()[slice]`"
     ]
    }
   ],
   "source": [
    "param_grid = {\"alpha_var\":   [0.5, 1.0], \"alpha_smooth\":[0.5, 1.0]}\n",
    "num_trials = 90\n",
    "trial_len = 9\n",
    "affine = anat_img.affine\n",
    "\n",
    "L_task, L_var, L_smooth, selected_BOLD_data = calculate_matrices(beta, low_var_map, anat_img, affine, bold_img, None, trial_len)"
   ]
  },
  {
   "cell_type": "code",
   "execution_count": 30,
   "id": "dea5f798",
   "metadata": {},
   "outputs": [
    {
     "data": {
      "text/plain": [
       "array([-4.44592347e-03, -4.19900064e-03,  1.97027326e-03, ...,\n",
       "       -5.09324285e-04, -2.01022441e-04, -8.00496239e-05], shape=(22061,))"
      ]
     },
     "execution_count": 30,
     "metadata": {},
     "output_type": "execute_result"
    }
   ],
   "source": [
    "low_var_map[~np.isnan(low_var_map)]"
   ]
  },
  {
   "cell_type": "code",
   "execution_count": null,
   "id": "4b6794d0",
   "metadata": {},
   "outputs": [],
   "source": [
    "def objective_func(w, L_task, L_var, L_smooth,\n",
    "              alpha_var, alpha_smooth):\n",
    "    \"\"\"Value of the full loss on a validation set.\"\"\"\n",
    "    quad = (w.T @ np.diag(L_task) @ w\n",
    "            + alpha_var   * (w.T @ L_var    @ w)\n",
    "            + alpha_smooth * (w.T @ L_smooth @ w))\n",
    "    # l1 = alpha_sparse * np.sum(np.abs(w))\n",
    "    return quad\n",
    "\n",
    "def optimize_voxel_weights(\n",
    "    L_task: np.ndarray,\n",
    "    L_var: np.ndarray,\n",
    "    L_smooth: np.ndarray,\n",
    "    alpha_var: float = 1.0,\n",
    "    alpha_smooth: float = 0.1):\n",
    "    \n",
    "    L_total = np.diag(L_task) + alpha_var * L_var + alpha_smooth * L_smooth\n",
    "    n = L_total.shape[0]\n",
    "    L_total = 0.5*(L_total + L_total.T) + 1e-8*np.eye(n)\n",
    "    w = cp.Variable(n, nonneg=True)\n",
    "    constraints = [cp.sum(w) == 1]\n",
    "    \n",
    "    # objective = cp.Minimize(cp.quad_form(w, L_total) + alpha_sparse * cp.norm1(w))\n",
    "    objective = cp.Minimize(cp.quad_form(w, L_total))\n",
    "    problem = cp.Problem(objective, constraints)\n",
    "    problem.solve(solver=cp.OSQP, verbose=True)\n",
    "    return w.value\n",
    "\n",
    "def calculate_weight(param_grid, betasmd, active_low_var_voxels, anat_img, affine, BOLD_path_org, trial_len):\n",
    "    kf = KFold(n_splits=2, shuffle=True, random_state=0)\n",
    "    best_score = np.inf\n",
    "    best_params = None\n",
    "    num_trials = betasmd.shape[-1]\n",
    "\n",
    "    for a_var, a_smooth in product(*param_grid.values()):\n",
    "        fold_scores = []\n",
    "        print(f\"a_var: {a_var}, a_smooth: {a_smooth}\")\n",
    "        count = 1\n",
    "\n",
    "        for train_idx, val_idx in kf.split(np.arange(num_trials)):\n",
    "            clear_console()\n",
    "            print(f\"k-fold num: {count}\")\n",
    "            L_task_train, L_var_train, L_smooth_train, _ = calculate_matrices(betasmd, active_low_var_voxels, anat_img, affine, BOLD_path_org, train_idx, trial_len)\n",
    "            w = optimize_voxel_weights(L_task_train, L_var_train, L_smooth_train, alpha_var=a_var, alpha_smooth=a_smooth)\n",
    "\n",
    "            L_task_val, L_var_val, L_smooth_val, _ = calculate_matrices(betasmd, active_low_var_voxels, anat_img, affine, BOLD_path_org, val_idx, trial_len)\n",
    "\n",
    "            fold_scores.append(objective_func(w, L_task_val, L_var_val, L_smooth_val, a_var, a_smooth))\n",
    "            print(f\"fold_scores: {fold_scores}\")\n",
    "            count += 1\n",
    "\n",
    "        mean_score = np.mean(fold_scores)\n",
    "        print(mean_score)\n",
    "        if mean_score < best_score:\n",
    "            best_score = mean_score\n",
    "            best_params = (a_var, a_smooth)\n",
    "\n",
    "    clear_console()\n",
    "    print(\"Best parameters:\", best_params, \"with CV loss:\", best_score)\n",
    "    return best_params, best_score\n",
    "\n",
    "def select_opt_weight(selected_BOLD_data, weights, selected_voxels, affine):\n",
    "    y = selected_BOLD_data.T @ weights\n",
    "    p95 = np.percentile(weights, 95)\n",
    "\n",
    "    weight_volume = np.zeros(selected_voxels.shape, dtype=np.float32)\n",
    "    weight_volume[selected_voxels] = weights  # put weights in their voxel positions\n",
    "\n",
    "    mask = np.zeros(selected_voxels.shape, dtype=bool)\n",
    "    # Keep only the top 5% strongest weights\n",
    "    selected_weights = (weights >= p95)\n",
    "    mask[selected_voxels] = selected_weights\n",
    "    weight_volume[~mask] = 0\n",
    "\n",
    "    masked_weights = np.where(weight_volume == 0, np.nan, weight_volume)\n",
    "    weight_img = nib.Nifti1Image(masked_weights, affine=affine)\n",
    "    \n",
    "    return weight_img, masked_weights, y"
   ]
  },
  {
   "cell_type": "code",
   "execution_count": null,
   "id": "9cd7d332",
   "metadata": {},
   "outputs": [],
   "source": [
    "weights = optimize_voxel_weights(L_task, L_var, L_smooth, alpha_var=best_params[0], alpha_smooth=best_params[1])\n",
    "weight_img, masked_weights, y = select_opt_weight(selected_BOLD_data, weights, active_low_var_voxels.astype(bool), affine)\n",
    "print(y.shape)\n",
    "\n",
    "np.save(f\"best_params_session{ses}_run{run}.npy\", best_params)\n",
    "np.save(f\"masked_weights_session{ses}_run{run}.npy\", masked_weights)\n",
    "np.save(f\"all_weights_session{ses}_run{run}.nii\", weight_img)\n",
    "np.save(f\"reconstructed_sig_session{ses}_run{run}.npy\",y)"
   ]
  },
  {
   "cell_type": "code",
   "execution_count": 40,
   "id": "c11eb577",
   "metadata": {},
   "outputs": [
    {
     "data": {
      "text/plain": [
       "0.6974499812498621"
      ]
     },
     "execution_count": 40,
     "metadata": {},
     "output_type": "execute_result"
    }
   ],
   "source": [
    "# unique_coords.shape[0]/beta[:3].size*100"
   ]
  },
  {
   "cell_type": "code",
   "execution_count": 54,
   "id": "5c2b435c",
   "metadata": {},
   "outputs": [
    {
     "data": {
      "image/png": "[encoded data removed]",
      "text/plain": [
       "<Figure size 640x480 with 1 Axes>"
      ]
     },
     "metadata": {},
     "output_type": "display_data"
    }
   ],
   "source": [
    "# i, j, k = unique_coords.T.astype(int)\n",
    "# mask = np.zeros(beta.shape[:3], dtype=bool)\n",
    "# mask[i,j,k] = True\n",
    "# selected_beta = beta[mask]\n",
    "\n",
    "# plt.figure()\n",
    "# plt.hist(selected_beta.ravel(), bins=10)\n",
    "# plt.title(\"All trials' beta of voxels with at least one beta higher than 20\")\n",
    "# plt.xlim([-1800, 1800])\n",
    "# plt.show()"
   ]
  },
  {
   "cell_type": "code",
   "execution_count": 55,
   "id": "6b33e9b7",
   "metadata": {},
   "outputs": [
    {
     "data": {
      "text/plain": [
       "0.11788609698856481"
      ]
     },
     "execution_count": 55,
     "metadata": {},
     "output_type": "execute_result"
    }
   ],
   "source": [
    "# coords.shape[0]/beta.size*100"
   ]
  },
  {
   "cell_type": "code",
   "execution_count": 6,
   "id": "41d46d73",
   "metadata": {},
   "outputs": [
    {
     "name": "stdout",
     "output_type": "stream",
     "text": [
      "Beta Range: 12023.0693359375, -2978.960693359375, mean: 0.009225452318787575\n"
     ]
    },
    {
     "data": {
      "image/png": "[encoded data removed]",
      "text/plain": [
       "<Figure size 640x480 with 1 Axes>"
      ]
     },
     "metadata": {},
     "output_type": "display_data"
    },
    {
     "name": "stdout",
     "output_type": "stream",
     "text": [
      "Number of Voxels: 463404, thr: None\n",
      "Number of Voxels: 342, thr: 10\n",
      "Number of Voxels: 978, thr: 6\n",
      "Number of Voxels: 3723, thr: 3\n"
     ]
    }
   ],
   "source": [
    "# print(f\"Beta Range: {np.nanmax(beta)}, {np.nanmin(beta)}, mean: {np.nanmean(beta)}\")\n",
    "# plot_beta_hist(beta)\n",
    "\n",
    "# beta_mean = np.mean(beta, axis=-1)\n",
    "\n",
    "# thr_list = [None, 10, 6, 3]\n",
    "# for thr in thr_list:\n",
    "#     if thr is not None:\n",
    "#         mask = abs(beta_mean) >= thr\n",
    "#     else:\n",
    "#         mask = beta_mean\n",
    "        \n",
    "#     count = int(np.count_nonzero(mask))\n",
    "#     print(f\"Number of Voxels: {int(count)}, thr: {thr}\")\n"
   ]
  },
  {
   "cell_type": "code",
   "execution_count": 7,
   "id": "caf6dfa4",
   "metadata": {},
   "outputs": [
    {
     "name": "stderr",
     "output_type": "stream",
     "text": [
      "/home/zkavian/thesis_code_git/.venv/lib/python3.12/site-packages/numpy/_core/fromnumeric.py:868: UserWarning: Warning: 'partition' will ignore the 'mask' of the MaskedArray.\n",
      "  a.partition(kth, axis=axis, kind=kind, order=order)\n",
      "/home/zkavian/thesis_code_git/.venv/lib/python3.12/site-packages/numpy/_core/fromnumeric.py:868: UserWarning: Warning: 'partition' will ignore the 'mask' of the MaskedArray.\n",
      "  a.partition(kth, axis=axis, kind=kind, order=order)\n",
      "/home/zkavian/thesis_code_git/.venv/lib/python3.12/site-packages/numpy/_core/fromnumeric.py:868: UserWarning: Warning: 'partition' will ignore the 'mask' of the MaskedArray.\n",
      "  a.partition(kth, axis=axis, kind=kind, order=order)\n"
     ]
    }
   ],
   "source": [
    "# thr_list = [3, 6, 10]\n",
    "# for thr in thr_list:\n",
    "#     beta_outline = np.full(beta_mean.shape, np.nan, dtype=float)\n",
    "#     mask = beta_mean >= abs(thr)\n",
    "#     beta_outline[mask] = beta_mean[mask] \n",
    "#     save_beta_html(beta_outline, anat_img, bold_img, A, '', f\"thr{thr}_outline_beta_sub{sub}_ses{ses}_run1.html\")"
   ]
  },
  {
   "cell_type": "markdown",
   "id": "df82819e",
   "metadata": {},
   "source": [
    "Remove based on MeanBeta"
   ]
  },
  {
   "cell_type": "code",
   "execution_count": null,
   "id": "3ab8ec0b",
   "metadata": {},
   "outputs": [],
   "source": [
    "# beta_outline = np.full(beta.shape, np.nan, dtype=float)\n",
    "# mask = abs(beta_mean)>=10\n",
    "# beta_outline[~mask,:] = beta[~mask,:]"
   ]
  },
  {
   "cell_type": "markdown",
   "id": "78fb0b69",
   "metadata": {},
   "source": [
    "Remove based on Beta"
   ]
  },
  {
   "cell_type": "code",
   "execution_count": 33,
   "id": "29608526",
   "metadata": {},
   "outputs": [
    {
     "data": {
      "text/plain": [
       "(69, 92, 73, 90)"
      ]
     },
     "execution_count": 33,
     "metadata": {},
     "output_type": "execute_result"
    }
   ],
   "source": [
    "# bad_vox = (np.abs(beta) >= 10).any(axis=-1)\n",
    "# beta_clean = np.where(bad_vox[..., None], np.nan, beta.astype(float))\n",
    "# beta_clean.shape"
   ]
  },
  {
   "cell_type": "code",
   "execution_count": 11,
   "id": "67fe162e",
   "metadata": {},
   "outputs": [],
   "source": [
    "# beta_outline = np.full(beta.shape, np.nan, dtype=float)\n",
    "# mask = abs(beta)>=10\n",
    "# beta_outline[~mask] = beta[~mask]\n",
    "\n",
    "# # # mask = mask.any(axis=-1)\n",
    "# # # R2_outline = np.full(R2.shape, np.nan, dtype=float)\n",
    "# # # R2_outline[~mask] = R2[~mask]"
   ]
  },
  {
   "cell_type": "code",
   "execution_count": 32,
   "id": "8fbd718a",
   "metadata": {},
   "outputs": [
    {
     "data": {
      "text/plain": [
       "array([[ 0, 48, 29],\n",
       "       [ 0, 49, 30],\n",
       "       [ 0, 50, 31],\n",
       "       ...,\n",
       "       [68, 44, 28],\n",
       "       [68, 45, 26],\n",
       "       [68, 45, 27]], shape=(16948, 3))"
      ]
     },
     "execution_count": 32,
     "metadata": {},
     "output_type": "execute_result"
    }
   ],
   "source": [
    "# coords = np.column_stack(np.where(mask)[:3])   # shape (N, 3), each row = (x, y, z)\n",
    "# unique_coords = np.unique(coords, axis=0)  # remove duplicates, if any\n",
    "# unique_coords"
   ]
  },
  {
   "cell_type": "code",
   "execution_count": 9,
   "id": "d68977a7",
   "metadata": {},
   "outputs": [
    {
     "name": "stdout",
     "output_type": "stream",
     "text": [
      "210434\n",
      "210434\n"
     ]
    },
    {
     "name": "stderr",
     "output_type": "stream",
     "text": [
      "/tmp/ipykernel_234500/107563602.py:2: RuntimeWarning: Mean of empty slice\n",
      "  beta_outline_mean = np.nanmean(beta_outline, axis=-1)\n"
     ]
    }
   ],
   "source": [
    "# print(np.isfinite(beta_mean).sum())\n",
    "# beta_outline_mean = np.nanmean(beta_outline, axis=-1)\n",
    "# print(np.isfinite(beta_outline_mean).sum())\n"
   ]
  },
  {
   "cell_type": "code",
   "execution_count": 17,
   "id": "51efed8d",
   "metadata": {},
   "outputs": [
    {
     "name": "stdout",
     "output_type": "stream",
     "text": [
      "Beta Range: 9.99997615814209, -9.999992370605469, mean: 0.012007109510017782\n"
     ]
    },
    {
     "data": {
      "text/plain": [
       "(array([2.30000e+01, 1.01296e+05, 5.40020e+04, 2.28830e+04, 1.03740e+04,\n",
       "        3.20800e+03, 1.16200e+03, 4.05000e+02, 1.07000e+02, 1.80000e+01]),\n",
       " array([-6.13777208, -1.8972611 ,  2.34324989,  6.58376088, 10.82427187,\n",
       "        15.06478286, 19.30529385, 23.54580483, 27.78631582, 32.02682681,\n",
       "        36.2673378 ]),\n",
       " <BarContainer object of 10 artists>)"
      ]
     },
     "execution_count": 17,
     "metadata": {},
     "output_type": "execute_result"
    },
    {
     "data": {
      "image/png": "[encoded data removed]",
      "text/plain": [
       "<Figure size 640x480 with 1 Axes>"
      ]
     },
     "metadata": {},
     "output_type": "display_data"
    },
    {
     "data": {
      "image/png": "[encoded data removed]",
      "text/plain": [
       "<Figure size 640x480 with 1 Axes>"
      ]
     },
     "metadata": {},
     "output_type": "display_data"
    }
   ],
   "source": [
    "# print(f\"Beta Range: {np.nanmax(beta_outline)}, {np.nanmin(beta_outline)}, mean: {np.nanmean(beta_outline)}\")\n",
    "# plt.figure()\n",
    "# plt.hist(beta_outline.ravel())\n",
    "\n",
    "# plt.figure()\n",
    "# plt.hist(R2_outline.ravel())"
   ]
  },
  {
   "cell_type": "code",
   "execution_count": 26,
   "id": "e6bc2fc6",
   "metadata": {},
   "outputs": [],
   "source": [
    "# def voxelwise_ttest_fdr(betas4d, alpha=0.05, alternative='two-sided'):\n",
    "#     X, Y, Z, T = betas4d.shape\n",
    "#     V = X * Y * Z\n",
    "#     B = betas4d.reshape(V, T)\n",
    "    \n",
    "#     n  = np.sum(~np.isnan(B), axis=1)\n",
    "#     m  = np.nanmean(B, axis=1)\n",
    "#     s  = np.nanstd(B, axis=1, ddof=1)\n",
    "#     valid = s> 1e-8\n",
    "#     tvals = np.full(V, np.nan)\n",
    "#     df    = np.maximum(n - 1, 0)\n",
    "#     print(np.nanmin(s[valid]), np.nanmax(s[valid]))\n",
    "#     tvals[valid] = m[valid] / (s[valid] / np.sqrt(n[valid]))\n",
    "\n",
    "#     # p-values\n",
    "#     pvals = np.full(V, np.nan)\n",
    "#     if alternative == 'two-sided':\n",
    "#         pvals[valid] = 2.0 * stats.t.sf(np.abs(tvals[valid]), df[valid])\n",
    "#     elif alternative == 'greater':  # H1: mean > 0\n",
    "#         pvals[valid] = stats.t.sf(tvals[valid], df[valid])\n",
    "#     elif alternative == 'less':     # H1: mean < 0\n",
    "#         pvals[valid] = stats.t.cdf(tvals[valid], df[valid])\n",
    "#     else:\n",
    "#         raise ValueError(\"alternative must be 'two-sided', 'greater', or 'less'\")\n",
    "\n",
    "#     # FDR (Benjamini–Hochberg) across the tested voxels only\n",
    "#     tested = np.isfinite(pvals)\n",
    "#     qvals  = np.full(V, np.nan)\n",
    "#     reject = np.zeros(V, dtype=bool)\n",
    "\n",
    "#     if np.any(tested):\n",
    "#         rej, q, _, _ = multipletests(pvals[tested], alpha=alpha, method='fdr_bh')\n",
    "#         reject[tested] = rej\n",
    "#         qvals[tested]  = q\n",
    "\n",
    "#     # Pack results back to 3D\n",
    "#     out = {\n",
    "#         'tmap'   : tvals.reshape(X, Y, Z),\n",
    "#         'pmap'   : pvals.reshape(X, Y, Z),\n",
    "#         'qmap'   : qvals.reshape(X, Y, Z),\n",
    "#         'reject' : reject.reshape(X, Y, Z),  # True = significant at FDR q<=alpha\n",
    "#         'df'     : df.reshape(X, Y, Z),\n",
    "#         'n'      : n.reshape(X, Y, Z),\n",
    "#     }\n",
    "#     return out"
   ]
  },
  {
   "cell_type": "code",
   "execution_count": 27,
   "id": "fdb2f491",
   "metadata": {},
   "outputs": [
    {
     "name": "stderr",
     "output_type": "stream",
     "text": [
      "/tmp/ipykernel_233628/677545838.py:7: RuntimeWarning: Mean of empty slice\n",
      "  m  = np.nanmean(B, axis=1)\n"
     ]
    },
    {
     "name": "stdout",
     "output_type": "stream",
     "text": [
      "0.004660956879539112 8.032756924708133\n"
     ]
    },
    {
     "name": "stderr",
     "output_type": "stream",
     "text": [
      "/home/zkavian/thesis_code_git/.venv/lib/python3.12/site-packages/numpy/lib/_nanfunctions_impl.py:2019: RuntimeWarning: Degrees of freedom <= 0 for slice.\n",
      "  var = nanvar(a, axis=axis, dtype=dtype, out=out, ddof=ddof,\n"
     ]
    }
   ],
   "source": [
    "# fdr_out = voxelwise_ttest_fdr(beta_outline)"
   ]
  },
  {
   "cell_type": "code",
   "execution_count": 24,
   "id": "56926692",
   "metadata": {},
   "outputs": [
    {
     "name": "stdout",
     "output_type": "stream",
     "text": [
      "tmap: -2529.001862283695, (np.float64(1475.3824191801048), {np.float64(0.5967331555815854)})\n",
      "pmap: 6.473515709770779e-218, (np.float64(0.999900318660933), {np.float64(0.16511173081104705)})\n",
      "qmap: 1.3621960167442258e-212, (np.float64(0.999900318660933), {np.float64(0.19184191368403258)})\n"
     ]
    }
   ],
   "source": [
    "# print(f\"tmap: {np.nanmin(fdr_out['tmap'])}, {np.nanmax(fdr_out['tmap']), {np.nanmean(fdr_out['tmap'])}}\")\n",
    "# print(f\"pmap: {np.nanmin(fdr_out['pmap'])}, {np.nanmax(fdr_out['pmap']), {np.nanmean(fdr_out['pmap'])}}\")\n",
    "# print(f\"qmap: {np.nanmin(fdr_out['qmap'])}, {np.nanmax(fdr_out['qmap']), {np.nanmean(fdr_out['qmap'])}}\")"
   ]
  },
  {
   "cell_type": "code",
   "execution_count": 42,
   "id": "cf1d4f3e",
   "metadata": {},
   "outputs": [
    {
     "name": "stdout",
     "output_type": "stream",
     "text": [
      "210434\n",
      "119586\n"
     ]
    },
    {
     "name": "stderr",
     "output_type": "stream",
     "text": [
      "/tmp/ipykernel_233628/1643291813.py:5: RuntimeWarning: Mean of empty slice\n",
      "  beta_outline_mean = np.nanmean(beta_outline, axis=-1)\n",
      "/tmp/ipykernel_233628/1643291813.py:6: RuntimeWarning: Mean of empty slice\n",
      "  beta_outline_ttest_mean = np.nanmean(beta_outline_ttest, axis=-1)\n"
     ]
    }
   ],
   "source": [
    "# fdr_out = voxelwise_ttest_fdr(beta_outline)\n",
    "\n",
    "# beta_outline_ttest = np.full(beta_outline.shape, np.nan, dtype=float)\n",
    "# mask = fdr_out['reject']\n",
    "# beta_outline_ttest[mask] = beta_outline[mask] \n",
    "\n",
    "# beta_outline_mean = np.nanmean(beta_outline, axis=-1)\n",
    "# beta_outline_ttest_mean = np.nanmean(beta_outline_ttest, axis=-1)\n",
    "\n",
    "# print(np.isfinite(beta_outline_mean).sum())\n",
    "# print(np.isfinite(beta_outline_ttest_mean).sum())"
   ]
  },
  {
   "cell_type": "code",
   "execution_count": 43,
   "id": "9328666a",
   "metadata": {},
   "outputs": [
    {
     "name": "stderr",
     "output_type": "stream",
     "text": [
      "/tmp/ipykernel_233628/3501961089.py:37: UserWarning: you have specified symmetric_cmap=False but the map contains negative values; setting symmetric_cmap to True\n",
      "  view = view_img(beta_on_anat, bg_img=anat_img, cmap='seismic', symmetric_cmap=False, vmax=vmax, vmin=vmin, threshold=thr,\n",
      "/tmp/ipykernel_233628/3501961089.py:37: UserWarning: vmin cannot be chosen when cmap is symmetric\n",
      "  view = view_img(beta_on_anat, bg_img=anat_img, cmap='seismic', symmetric_cmap=False, vmax=vmax, vmin=vmin, threshold=thr,\n",
      "/home/zkavian/thesis_code_git/.venv/lib/python3.12/site-packages/numpy/_core/fromnumeric.py:868: UserWarning: Warning: 'partition' will ignore the 'mask' of the MaskedArray.\n",
      "  a.partition(kth, axis=axis, kind=kind, order=order)\n",
      "/tmp/ipykernel_233628/3501961089.py:37: UserWarning: you have specified symmetric_cmap=False but the map contains negative values; setting symmetric_cmap to True\n",
      "  view = view_img(beta_on_anat, bg_img=anat_img, cmap='seismic', symmetric_cmap=False, vmax=vmax, vmin=vmin, threshold=thr,\n",
      "/tmp/ipykernel_233628/3501961089.py:37: UserWarning: vmin cannot be chosen when cmap is symmetric\n",
      "  view = view_img(beta_on_anat, bg_img=anat_img, cmap='seismic', symmetric_cmap=False, vmax=vmax, vmin=vmin, threshold=thr,\n",
      "/home/zkavian/thesis_code_git/.venv/lib/python3.12/site-packages/numpy/_core/fromnumeric.py:868: UserWarning: Warning: 'partition' will ignore the 'mask' of the MaskedArray.\n",
      "  a.partition(kth, axis=axis, kind=kind, order=order)\n"
     ]
    }
   ],
   "source": [
    "# save_beta_html(beta_outline_mean, anat_img, bold_img, A, '', f\"outline_beta_sub{sub}_ses{ses}_run1.html\")\n",
    "# save_beta_html(beta_outline_ttest_mean, anat_img, bold_img, A, '', f\"selected_beta_sub{sub}_ses{ses}_run1.html\")"
   ]
  },
  {
   "cell_type": "code",
   "execution_count": 46,
   "id": "518401b1",
   "metadata": {},
   "outputs": [],
   "source": [
    "# def hampel_filter_image(image, window_size, threshold_factor):\n",
    "#     filtered_image = np.copy(image).astype(float)\n",
    "#     rows, cols, depth = image.shape\n",
    "\n",
    "#     for r in range(window_size // 2, rows - window_size // 2):\n",
    "#         for c in range(window_size // 2, cols - window_size // 2):\n",
    "#             for d in range(window_size // 2, depth - window_size //2):\n",
    "#                 window = image[r - window_size // 2 : r + window_size // 2 + 1,\n",
    "#                                c - window_size // 2 : c + window_size // 2 + 1,\n",
    "#                                d - window_size // 2 : d + window_size // 2 + 1]\n",
    "\n",
    "#                 window_median = np.nanmedian(window)\n",
    "#                 mad = np.nanmedian(np.abs(window - window_median))\n",
    "#                 scaled_mad = 1.4826 * mad # Assuming Gaussian data for scaling factor\n",
    "\n",
    "#                 if image[r, c, d] is not None:\n",
    "#                     if np.abs(image[r, c, d] - window_median) > threshold_factor * scaled_mad:\n",
    "#                         filtered_image[r, c, d] = np.nan\n",
    "#     return filtered_image\n",
    "\n",
    "# filtered_image_ttest = hampel_filter_image(beta_outline_ttest_mean, window_size=5, threshold_factor=3)\n",
    "# filtered_image = hampel_filter_image(beta_outline_mean, window_size=5, threshold_factor=3)"
   ]
  },
  {
   "cell_type": "code",
   "execution_count": 52,
   "id": "3f8a5f20",
   "metadata": {},
   "outputs": [
    {
     "name": "stderr",
     "output_type": "stream",
     "text": [
      "/tmp/ipykernel_233628/2898989558.py:12: RuntimeWarning: All-NaN slice encountered\n",
      "  window_median = np.nanmedian(window)\n",
      "/tmp/ipykernel_233628/2898989558.py:13: RuntimeWarning: All-NaN slice encountered\n",
      "  mad = np.nanmedian(np.abs(window - window_median))\n"
     ]
    }
   ],
   "source": [
    "# filtered_image_ttest = hampel_filter_image(beta_outline_ttest_mean, window_size=5, threshold_factor=3)\n",
    "# filtered_image = hampel_filter_image(beta_outline_mean, window_size=5, threshold_factor=3)"
   ]
  },
  {
   "cell_type": "code",
   "execution_count": 56,
   "id": "5a0b99ff",
   "metadata": {},
   "outputs": [
    {
     "name": "stdout",
     "output_type": "stream",
     "text": [
      "210434\n",
      "210434\n",
      "187150\n",
      "119586\n",
      "107135\n"
     ]
    }
   ],
   "source": [
    "# print(np.isfinite(beta_mean).sum())\n",
    "\n",
    "# print(np.isfinite(beta_outline_mean).sum())\n",
    "# print(np.isfinite(filtered_image).sum())\n",
    "\n",
    "# print(np.isfinite(beta_outline_ttest_mean).sum())\n",
    "# print(np.isfinite(filtered_image_ttest).sum())"
   ]
  },
  {
   "cell_type": "code",
   "execution_count": 54,
   "id": "d89cc07f",
   "metadata": {},
   "outputs": [
    {
     "name": "stderr",
     "output_type": "stream",
     "text": [
      "/tmp/ipykernel_233628/3501961089.py:37: UserWarning: you have specified symmetric_cmap=False but the map contains negative values; setting symmetric_cmap to True\n",
      "  view = view_img(beta_on_anat, bg_img=anat_img, cmap='seismic', symmetric_cmap=False, vmax=vmax, vmin=vmin, threshold=thr,\n",
      "/tmp/ipykernel_233628/3501961089.py:37: UserWarning: vmin cannot be chosen when cmap is symmetric\n",
      "  view = view_img(beta_on_anat, bg_img=anat_img, cmap='seismic', symmetric_cmap=False, vmax=vmax, vmin=vmin, threshold=thr,\n",
      "/home/zkavian/thesis_code_git/.venv/lib/python3.12/site-packages/numpy/_core/fromnumeric.py:868: UserWarning: Warning: 'partition' will ignore the 'mask' of the MaskedArray.\n",
      "  a.partition(kth, axis=axis, kind=kind, order=order)\n"
     ]
    }
   ],
   "source": [
    "# save_beta_html(filtered_image, anat_img, bold_img, A, '', f\"filtered_selected_beta_sub{sub}_ses{ses}_run1.html\")"
   ]
  },
  {
   "cell_type": "code",
   "execution_count": null,
   "id": "c98ad8d8",
   "metadata": {},
   "outputs": [],
   "source": []
  },
  {
   "cell_type": "code",
   "execution_count": 29,
   "id": "ead54235",
   "metadata": {},
   "outputs": [
    {
     "name": "stdout",
     "output_type": "stream",
     "text": [
      "Copied: /home/zkavian/thesis_code_git/Optim_fMRI/Optim_fMRI_new/HF_Beta_mask_bin7_sub04_ses1_run2_window7.html -> /mnt/TeamShare/Data_Masterfile/Zahra-Thesis-Data/Newfolder/HF_Beta_mask_bin7_sub04_ses1_run2_window7.html\n",
      "Copied: /home/zkavian/thesis_code_git/Optim_fMRI/Optim_fMRI_new/HF_Beta_mask_bin8_sub04_ses1_run2.html -> /mnt/TeamShare/Data_Masterfile/Zahra-Thesis-Data/Newfolder/HF_Beta_mask_bin8_sub04_ses1_run2.html\n",
      "Copied: /home/zkavian/thesis_code_git/Optim_fMRI/Optim_fMRI_new/Final_voxels_(without_nan_outlier_low_R2)_sub04_ses1_run2_window5.html -> /mnt/TeamShare/Data_Masterfile/Zahra-Thesis-Data/Newfolder/Final_voxels_(without_nan_outlier_low_R2)_sub04_ses1_run2_window5.html\n",
      "Copied: /home/zkavian/thesis_code_git/Optim_fMRI/Optim_fMRI_new/HF_Beta_mask_bin3_sub04_ses1_run1_window5.html -> /mnt/TeamShare/Data_Masterfile/Zahra-Thesis-Data/Newfolder/HF_Beta_mask_bin3_sub04_ses1_run1_window5.html\n",
      "Copied: /home/zkavian/thesis_code_git/Optim_fMRI/Optim_fMRI_new/HF_Beta_mask_bin9_sub04_ses1_run2_window3.html -> /mnt/TeamShare/Data_Masterfile/Zahra-Thesis-Data/Newfolder/HF_Beta_mask_bin9_sub04_ses1_run2_window3.html\n",
      "Copied: /home/zkavian/thesis_code_git/Optim_fMRI/Optim_fMRI_new/HF_Beta_mask_bin5_sub04_ses1_run2_window5.html -> /mnt/TeamShare/Data_Masterfile/Zahra-Thesis-Data/Newfolder/HF_Beta_mask_bin5_sub04_ses1_run2_window5.html\n",
      "Copied: /home/zkavian/thesis_code_git/Optim_fMRI/Optim_fMRI_new/Beta_mask_bin3_sub04_ses1_run1.html -> /mnt/TeamShare/Data_Masterfile/Zahra-Thesis-Data/Newfolder/Beta_mask_bin3_sub04_ses1_run1.html\n",
      "Copied: /home/zkavian/thesis_code_git/Optim_fMRI/Optim_fMRI_new/HF_Beta_mask_bin3_sub04_ses1_run1_window3.html -> /mnt/TeamShare/Data_Masterfile/Zahra-Thesis-Data/Newfolder/HF_Beta_mask_bin3_sub04_ses1_run1_window3.html\n",
      "Copied: /home/zkavian/thesis_code_git/Optim_fMRI/Optim_fMRI_new/HF_Beta_mask_bin3_sub04_ses1_run2_window3.html -> /mnt/TeamShare/Data_Masterfile/Zahra-Thesis-Data/Newfolder/HF_Beta_mask_bin3_sub04_ses1_run2_window3.html\n",
      "Copied: /home/zkavian/thesis_code_git/Optim_fMRI/Optim_fMRI_new/HF_Beta_mask_bin7_sub04_ses1_run2_window3.html -> /mnt/TeamShare/Data_Masterfile/Zahra-Thesis-Data/Newfolder/HF_Beta_mask_bin7_sub04_ses1_run2_window3.html\n",
      "Copied: /home/zkavian/thesis_code_git/Optim_fMRI/Optim_fMRI_new/Final_voxels_(without_nan_outlier_low_R2)_sub04_ses1_run1_window3.html -> /mnt/TeamShare/Data_Masterfile/Zahra-Thesis-Data/Newfolder/Final_voxels_(without_nan_outlier_low_R2)_sub04_ses1_run1_window3.html\n",
      "Copied: /home/zkavian/thesis_code_git/Optim_fMRI/Optim_fMRI_new/HF_Beta_mask_bin3_sub04_ses1_run2_window7.html -> /mnt/TeamShare/Data_Masterfile/Zahra-Thesis-Data/Newfolder/HF_Beta_mask_bin3_sub04_ses1_run2_window7.html\n",
      "Copied: /home/zkavian/thesis_code_git/Optim_fMRI/Optim_fMRI_new/Final_voxels_(without_nan)_sub04_ses1_run2_window3.html -> /mnt/TeamShare/Data_Masterfile/Zahra-Thesis-Data/Newfolder/Final_voxels_(without_nan)_sub04_ses1_run2_window3.html\n",
      "Copied: /home/zkavian/thesis_code_git/Optim_fMRI/Optim_fMRI_new/HF_Beta_mask_bin6_sub04_ses1_run2.html -> /mnt/TeamShare/Data_Masterfile/Zahra-Thesis-Data/Newfolder/HF_Beta_mask_bin6_sub04_ses1_run2.html\n",
      "Copied: /home/zkavian/thesis_code_git/Optim_fMRI/Optim_fMRI_new/HF_Beta_mask_bin4_sub04_ses1_run2.html -> /mnt/TeamShare/Data_Masterfile/Zahra-Thesis-Data/Newfolder/HF_Beta_mask_bin4_sub04_ses1_run2.html\n",
      "Copied: /home/zkavian/thesis_code_git/Optim_fMRI/Optim_fMRI_new/HF_Beta_mask_bin8_sub04_ses1_run2_window7.html -> /mnt/TeamShare/Data_Masterfile/Zahra-Thesis-Data/Newfolder/HF_Beta_mask_bin8_sub04_ses1_run2_window7.html\n",
      "Copied: /home/zkavian/thesis_code_git/Optim_fMRI/Optim_fMRI_new/Final_voxels_(without_nan)_sub04_ses1_run2_window7.html -> /mnt/TeamShare/Data_Masterfile/Zahra-Thesis-Data/Newfolder/Final_voxels_(without_nan)_sub04_ses1_run2_window7.html\n",
      "Copied: /home/zkavian/thesis_code_git/Optim_fMRI/Optim_fMRI_new/BOLD_data_on_Anat_sub04_ses1_run1.html -> /mnt/TeamShare/Data_Masterfile/Zahra-Thesis-Data/Newfolder/BOLD_data_on_Anat_sub04_ses1_run1.html\n",
      "Copied: /home/zkavian/thesis_code_git/Optim_fMRI/Optim_fMRI_new/Beta_mask_bin1_sub04_ses1_run1.html -> /mnt/TeamShare/Data_Masterfile/Zahra-Thesis-Data/Newfolder/Beta_mask_bin1_sub04_ses1_run1.html\n",
      "Copied: /home/zkavian/thesis_code_git/Optim_fMRI/Optim_fMRI_new/HF_Beta_mask_bin1_sub04_ses1_run2_window5.html -> /mnt/TeamShare/Data_Masterfile/Zahra-Thesis-Data/Newfolder/HF_Beta_mask_bin1_sub04_ses1_run2_window5.html\n",
      "Copied: /home/zkavian/thesis_code_git/Optim_fMRI/Optim_fMRI_new/HF_Beta_mask_bin1_sub04_ses1_run2_window3.html -> /mnt/TeamShare/Data_Masterfile/Zahra-Thesis-Data/Newfolder/HF_Beta_mask_bin1_sub04_ses1_run2_window3.html\n",
      "Copied: /home/zkavian/thesis_code_git/Optim_fMRI/Optim_fMRI_new/Final_voxels_(without_nan_outlier)_sub04_ses1_run1_window7.html -> /mnt/TeamShare/Data_Masterfile/Zahra-Thesis-Data/Newfolder/Final_voxels_(without_nan_outlier)_sub04_ses1_run1_window7.html\n",
      "Copied: /home/zkavian/thesis_code_git/Optim_fMRI/Optim_fMRI_new/HF_Beta_mask_bin5_sub04_ses1_run1_window5.html -> /mnt/TeamShare/Data_Masterfile/Zahra-Thesis-Data/Newfolder/HF_Beta_mask_bin5_sub04_ses1_run1_window5.html\n",
      "Copied: /home/zkavian/thesis_code_git/Optim_fMRI/Optim_fMRI_new/Beta_all_voxels_sub04_ses1_run1.html -> /mnt/TeamShare/Data_Masterfile/Zahra-Thesis-Data/Newfolder/Beta_all_voxels_sub04_ses1_run1.html\n",
      "Copied: /home/zkavian/thesis_code_git/Optim_fMRI/Optim_fMRI_new/Beta_mask_bin4_sub04_ses1_run1.html -> /mnt/TeamShare/Data_Masterfile/Zahra-Thesis-Data/Newfolder/Beta_mask_bin4_sub04_ses1_run1.html\n",
      "Copied: /home/zkavian/thesis_code_git/Optim_fMRI/Optim_fMRI_new/HF_Beta_mask_bin7_sub04_ses1_run2.html -> /mnt/TeamShare/Data_Masterfile/Zahra-Thesis-Data/Newfolder/HF_Beta_mask_bin7_sub04_ses1_run2.html\n",
      "Copied: /home/zkavian/thesis_code_git/Optim_fMRI/Optim_fMRI_new/Final_voxels_(without_nan_outlier)_sub04_ses1_run1_window5.html -> /mnt/TeamShare/Data_Masterfile/Zahra-Thesis-Data/Newfolder/Final_voxels_(without_nan_outlier)_sub04_ses1_run1_window5.html\n",
      "Copied: /home/zkavian/thesis_code_git/Optim_fMRI/Optim_fMRI_new/HF_Beta_mask_bin1_sub04_ses1_run1.html -> /mnt/TeamShare/Data_Masterfile/Zahra-Thesis-Data/Newfolder/HF_Beta_mask_bin1_sub04_ses1_run1.html\n",
      "Copied: /home/zkavian/thesis_code_git/Optim_fMRI/Optim_fMRI_new/HF_Beta_mask_bin5_sub04_ses1_run2_window7.html -> /mnt/TeamShare/Data_Masterfile/Zahra-Thesis-Data/Newfolder/HF_Beta_mask_bin5_sub04_ses1_run2_window7.html\n",
      "Copied: /home/zkavian/thesis_code_git/Optim_fMRI/Optim_fMRI_new/HF_Beta_mask_bin5_sub04_ses1_run1.html -> /mnt/TeamShare/Data_Masterfile/Zahra-Thesis-Data/Newfolder/HF_Beta_mask_bin5_sub04_ses1_run1.html\n",
      "Copied: /home/zkavian/thesis_code_git/Optim_fMRI/Optim_fMRI_new/HF_Beta_mask_bin4_sub04_ses1_run1_window3.html -> /mnt/TeamShare/Data_Masterfile/Zahra-Thesis-Data/Newfolder/HF_Beta_mask_bin4_sub04_ses1_run1_window3.html\n",
      "Copied: /home/zkavian/thesis_code_git/Optim_fMRI/Optim_fMRI_new/Beta_abs_all_voxels_sub04_ses1_run1.html -> /mnt/TeamShare/Data_Masterfile/Zahra-Thesis-Data/Newfolder/Beta_abs_all_voxels_sub04_ses1_run1.html\n",
      "Copied: /home/zkavian/thesis_code_git/Optim_fMRI/Optim_fMRI_new/Beta_mask_bin6_sub04_ses1_run2.html -> /mnt/TeamShare/Data_Masterfile/Zahra-Thesis-Data/Newfolder/Beta_mask_bin6_sub04_ses1_run2.html\n",
      "Copied: /home/zkavian/thesis_code_git/Optim_fMRI/Optim_fMRI_new/HF_Beta_mask_bin5_sub04_ses1_run2.html -> /mnt/TeamShare/Data_Masterfile/Zahra-Thesis-Data/Newfolder/HF_Beta_mask_bin5_sub04_ses1_run2.html\n",
      "Copied: /home/zkavian/thesis_code_git/Optim_fMRI/Optim_fMRI_new/Noisepool_Mask_on_the_brain_sub04_ses1_run2.html -> /mnt/TeamShare/Data_Masterfile/Zahra-Thesis-Data/Newfolder/Noisepool_Mask_on_the_brain_sub04_ses1_run2.html\n",
      "Copied: /home/zkavian/thesis_code_git/Optim_fMRI/Optim_fMRI_new/HF_Beta_mask_bin1_sub04_ses1_run1_window5.html -> /mnt/TeamShare/Data_Masterfile/Zahra-Thesis-Data/Newfolder/HF_Beta_mask_bin1_sub04_ses1_run1_window5.html\n",
      "Copied: /home/zkavian/thesis_code_git/Optim_fMRI/Optim_fMRI_new/Beta_mask_bin9_sub04_ses1_run2.html -> /mnt/TeamShare/Data_Masterfile/Zahra-Thesis-Data/Newfolder/Beta_mask_bin9_sub04_ses1_run2.html\n",
      "Copied: /home/zkavian/thesis_code_git/Optim_fMRI/Optim_fMRI_new/HF_Beta_mask_bin1_sub04_ses1_run1_window3.html -> /mnt/TeamShare/Data_Masterfile/Zahra-Thesis-Data/Newfolder/HF_Beta_mask_bin1_sub04_ses1_run1_window3.html\n",
      "Copied: /home/zkavian/thesis_code_git/Optim_fMRI/Optim_fMRI_new/HF_Beta_mask_bin8_sub04_ses1_run2_window3.html -> /mnt/TeamShare/Data_Masterfile/Zahra-Thesis-Data/Newfolder/HF_Beta_mask_bin8_sub04_ses1_run2_window3.html\n",
      "Copied: /home/zkavian/thesis_code_git/Optim_fMRI/Optim_fMRI_new/Final_voxels_(without_nan_outlier)_sub04_ses1_run2_window7.html -> /mnt/TeamShare/Data_Masterfile/Zahra-Thesis-Data/Newfolder/Final_voxels_(without_nan_outlier)_sub04_ses1_run2_window7.html\n",
      "Copied: /home/zkavian/thesis_code_git/Optim_fMRI/Optim_fMRI_new/HF_Beta_mask_bin2_sub04_ses1_run2_window5.html -> /mnt/TeamShare/Data_Masterfile/Zahra-Thesis-Data/Newfolder/HF_Beta_mask_bin2_sub04_ses1_run2_window5.html\n",
      "Copied: /home/zkavian/thesis_code_git/Optim_fMRI/Optim_fMRI_new/Final_voxels_(without_nan_outlier_low_R2)_sub04_ses1_run2_window7.html -> /mnt/TeamShare/Data_Masterfile/Zahra-Thesis-Data/Newfolder/Final_voxels_(without_nan_outlier_low_R2)_sub04_ses1_run2_window7.html\n",
      "Copied: /home/zkavian/thesis_code_git/Optim_fMRI/Optim_fMRI_new/HF_Beta_mask_bin1_sub04_ses1_run1_window7.html -> /mnt/TeamShare/Data_Masterfile/Zahra-Thesis-Data/Newfolder/HF_Beta_mask_bin1_sub04_ses1_run1_window7.html\n",
      "Copied: /home/zkavian/thesis_code_git/Optim_fMRI/Optim_fMRI_new/HF_Beta_mask_bin4_sub04_ses1_run2_window7.html -> /mnt/TeamShare/Data_Masterfile/Zahra-Thesis-Data/Newfolder/HF_Beta_mask_bin4_sub04_ses1_run2_window7.html\n",
      "Copied: /home/zkavian/thesis_code_git/Optim_fMRI/Optim_fMRI_new/Beta_mask_bin5_sub04_ses1_run1.html -> /mnt/TeamShare/Data_Masterfile/Zahra-Thesis-Data/Newfolder/Beta_mask_bin5_sub04_ses1_run1.html\n",
      "Copied: /home/zkavian/thesis_code_git/Optim_fMRI/Optim_fMRI_new/Beta_mask_bin1_sub04_ses1_run2.html -> /mnt/TeamShare/Data_Masterfile/Zahra-Thesis-Data/Newfolder/Beta_mask_bin1_sub04_ses1_run2.html\n",
      "Copied: /home/zkavian/thesis_code_git/Optim_fMRI/Optim_fMRI_new/Final_voxels_(without_nan_outlier_low_R2)_sub04_ses1_run1_window7.html -> /mnt/TeamShare/Data_Masterfile/Zahra-Thesis-Data/Newfolder/Final_voxels_(without_nan_outlier_low_R2)_sub04_ses1_run1_window7.html\n",
      "Copied: /home/zkavian/thesis_code_git/Optim_fMRI/Optim_fMRI_new/Beta_mask_bin4_sub04_ses1_run2.html -> /mnt/TeamShare/Data_Masterfile/Zahra-Thesis-Data/Newfolder/Beta_mask_bin4_sub04_ses1_run2.html\n",
      "Copied: /home/zkavian/thesis_code_git/Optim_fMRI/Optim_fMRI_new/HF_Beta_mask_bin1_sub04_ses1_run2.html -> /mnt/TeamShare/Data_Masterfile/Zahra-Thesis-Data/Newfolder/HF_Beta_mask_bin1_sub04_ses1_run2.html\n",
      "Copied: /home/zkavian/thesis_code_git/Optim_fMRI/Optim_fMRI_new/HF_Beta_mask_bin2_sub04_ses1_run2_window3.html -> /mnt/TeamShare/Data_Masterfile/Zahra-Thesis-Data/Newfolder/HF_Beta_mask_bin2_sub04_ses1_run2_window3.html\n",
      "Copied: /home/zkavian/thesis_code_git/Optim_fMRI/Optim_fMRI_new/Final_voxels_(without_nan_outlier_low_R2)_sub04_ses1_run2_window3.html -> /mnt/TeamShare/Data_Masterfile/Zahra-Thesis-Data/Newfolder/Final_voxels_(without_nan_outlier_low_R2)_sub04_ses1_run2_window3.html\n",
      "Copied: /home/zkavian/thesis_code_git/Optim_fMRI/Optim_fMRI_new/Final_voxels_(without_nan)_sub04_ses1_run1_window5.html -> /mnt/TeamShare/Data_Masterfile/Zahra-Thesis-Data/Newfolder/Final_voxels_(without_nan)_sub04_ses1_run1_window5.html\n",
      "Copied: /home/zkavian/thesis_code_git/Optim_fMRI/Optim_fMRI_new/HF_Beta_mask_bin6_sub04_ses1_run2_window7.html -> /mnt/TeamShare/Data_Masterfile/Zahra-Thesis-Data/Newfolder/HF_Beta_mask_bin6_sub04_ses1_run2_window7.html\n",
      "Copied: /home/zkavian/thesis_code_git/Optim_fMRI/Optim_fMRI_new/HF_Beta_mask_bin6_sub04_ses1_run2_window5.html -> /mnt/TeamShare/Data_Masterfile/Zahra-Thesis-Data/Newfolder/HF_Beta_mask_bin6_sub04_ses1_run2_window5.html\n",
      "Copied: /home/zkavian/thesis_code_git/Optim_fMRI/Optim_fMRI_new/HF_Beta_mask_bin7_sub04_ses1_run2_window5.html -> /mnt/TeamShare/Data_Masterfile/Zahra-Thesis-Data/Newfolder/HF_Beta_mask_bin7_sub04_ses1_run2_window5.html\n",
      "Copied: /home/zkavian/thesis_code_git/Optim_fMRI/Optim_fMRI_new/HF_Beta_mask_bin4_sub04_ses1_run1_window5.html -> /mnt/TeamShare/Data_Masterfile/Zahra-Thesis-Data/Newfolder/HF_Beta_mask_bin4_sub04_ses1_run1_window5.html\n",
      "Copied: /home/zkavian/thesis_code_git/Optim_fMRI/Optim_fMRI_new/Beta_mask_bin3_sub04_ses1_run2.html -> /mnt/TeamShare/Data_Masterfile/Zahra-Thesis-Data/Newfolder/Beta_mask_bin3_sub04_ses1_run2.html\n",
      "Copied: /home/zkavian/thesis_code_git/Optim_fMRI/Optim_fMRI_new/HF_Beta_mask_bin9_sub04_ses1_run2.html -> /mnt/TeamShare/Data_Masterfile/Zahra-Thesis-Data/Newfolder/HF_Beta_mask_bin9_sub04_ses1_run2.html\n",
      "Copied: /home/zkavian/thesis_code_git/Optim_fMRI/Optim_fMRI_new/Noisepool_Mask_on_the_brain_sub04_ses1_run1.html -> /mnt/TeamShare/Data_Masterfile/Zahra-Thesis-Data/Newfolder/Noisepool_Mask_on_the_brain_sub04_ses1_run1.html\n",
      "Copied: /home/zkavian/thesis_code_git/Optim_fMRI/Optim_fMRI_new/Final_voxels_(without_nan_outlier_low_R2)_sub04_ses1_run1_window5.html -> /mnt/TeamShare/Data_Masterfile/Zahra-Thesis-Data/Newfolder/Final_voxels_(without_nan_outlier_low_R2)_sub04_ses1_run1_window5.html\n",
      "Copied: /home/zkavian/thesis_code_git/Optim_fMRI/Optim_fMRI_new/Beta_mask_bin7_sub04_ses1_run2.html -> /mnt/TeamShare/Data_Masterfile/Zahra-Thesis-Data/Newfolder/Beta_mask_bin7_sub04_ses1_run2.html\n",
      "Copied: /home/zkavian/thesis_code_git/Optim_fMRI/Optim_fMRI_new/HF_Beta_mask_bin4_sub04_ses1_run2_window3.html -> /mnt/TeamShare/Data_Masterfile/Zahra-Thesis-Data/Newfolder/HF_Beta_mask_bin4_sub04_ses1_run2_window3.html\n",
      "Copied: /home/zkavian/thesis_code_git/Optim_fMRI/Optim_fMRI_new/HF_Beta_mask_bin2_sub04_ses1_run1_window5.html -> /mnt/TeamShare/Data_Masterfile/Zahra-Thesis-Data/Newfolder/HF_Beta_mask_bin2_sub04_ses1_run1_window5.html\n",
      "Copied: /home/zkavian/thesis_code_git/Optim_fMRI/Optim_fMRI_new/HF_Beta_mask_bin2_sub04_ses1_run1.html -> /mnt/TeamShare/Data_Masterfile/Zahra-Thesis-Data/Newfolder/HF_Beta_mask_bin2_sub04_ses1_run1.html\n",
      "Copied: /home/zkavian/thesis_code_git/Optim_fMRI/Optim_fMRI_new/Beta_mask_bin2_sub04_ses1_run1.html -> /mnt/TeamShare/Data_Masterfile/Zahra-Thesis-Data/Newfolder/Beta_mask_bin2_sub04_ses1_run1.html\n",
      "Copied: /home/zkavian/thesis_code_git/Optim_fMRI/Optim_fMRI_new/HF_Beta_mask_bin5_sub04_ses1_run2_window3.html -> /mnt/TeamShare/Data_Masterfile/Zahra-Thesis-Data/Newfolder/HF_Beta_mask_bin5_sub04_ses1_run2_window3.html\n",
      "Copied: /home/zkavian/thesis_code_git/Optim_fMRI/Optim_fMRI_new/HF_Beta_mask_bin3_sub04_ses1_run1.html -> /mnt/TeamShare/Data_Masterfile/Zahra-Thesis-Data/Newfolder/HF_Beta_mask_bin3_sub04_ses1_run1.html\n",
      "Copied: /home/zkavian/thesis_code_git/Optim_fMRI/Optim_fMRI_new/HF_Beta_mask_bin2_sub04_ses1_run1_window3.html -> /mnt/TeamShare/Data_Masterfile/Zahra-Thesis-Data/Newfolder/HF_Beta_mask_bin2_sub04_ses1_run1_window3.html\n",
      "Copied: /home/zkavian/thesis_code_git/Optim_fMRI/Optim_fMRI_new/Final_voxels_sub04_ses1_run2.html -> /mnt/TeamShare/Data_Masterfile/Zahra-Thesis-Data/Newfolder/Final_voxels_sub04_ses1_run2.html\n",
      "Copied: /home/zkavian/thesis_code_git/Optim_fMRI/Optim_fMRI_new/Beta_mask_bin8_sub04_ses1_run2.html -> /mnt/TeamShare/Data_Masterfile/Zahra-Thesis-Data/Newfolder/Beta_mask_bin8_sub04_ses1_run2.html\n",
      "Copied: /home/zkavian/thesis_code_git/Optim_fMRI/Optim_fMRI_new/Masked_BOLD_data_on_Anat_sub04_ses1_run2.html -> /mnt/TeamShare/Data_Masterfile/Zahra-Thesis-Data/Newfolder/Masked_BOLD_data_on_Anat_sub04_ses1_run2.html\n",
      "Copied: /home/zkavian/thesis_code_git/Optim_fMRI/Optim_fMRI_new/Final_voxels_(without_nan)_sub04_ses1_run2_window5.html -> /mnt/TeamShare/Data_Masterfile/Zahra-Thesis-Data/Newfolder/Final_voxels_(without_nan)_sub04_ses1_run2_window5.html\n",
      "Copied: /home/zkavian/thesis_code_git/Optim_fMRI/Optim_fMRI_new/HF_Beta_mask_bin2_sub04_ses1_run1_window7.html -> /mnt/TeamShare/Data_Masterfile/Zahra-Thesis-Data/Newfolder/HF_Beta_mask_bin2_sub04_ses1_run1_window7.html\n",
      "Copied: /home/zkavian/thesis_code_git/Optim_fMRI/Optim_fMRI_new/HF_Beta_mask_bin4_sub04_ses1_run2_window5.html -> /mnt/TeamShare/Data_Masterfile/Zahra-Thesis-Data/Newfolder/HF_Beta_mask_bin4_sub04_ses1_run2_window5.html\n",
      "Copied: /home/zkavian/thesis_code_git/Optim_fMRI/Optim_fMRI_new/Final_voxels_(without_nan)_sub04_ses1_run1_window7.html -> /mnt/TeamShare/Data_Masterfile/Zahra-Thesis-Data/Newfolder/Final_voxels_(without_nan)_sub04_ses1_run1_window7.html\n",
      "Copied: /home/zkavian/thesis_code_git/Optim_fMRI/Optim_fMRI_new/Final_voxels_(without_nan_outlier)_sub04_ses1_run2_window5.html -> /mnt/TeamShare/Data_Masterfile/Zahra-Thesis-Data/Newfolder/Final_voxels_(without_nan_outlier)_sub04_ses1_run2_window5.html\n",
      "Copied: /home/zkavian/thesis_code_git/Optim_fMRI/Optim_fMRI_new/Final_voxels_(without_nan)_sub04_ses1_run1_window3.html -> /mnt/TeamShare/Data_Masterfile/Zahra-Thesis-Data/Newfolder/Final_voxels_(without_nan)_sub04_ses1_run1_window3.html\n",
      "Copied: /home/zkavian/thesis_code_git/Optim_fMRI/Optim_fMRI_new/HF_Beta_mask_bin5_sub04_ses1_run1_window3.html -> /mnt/TeamShare/Data_Masterfile/Zahra-Thesis-Data/Newfolder/HF_Beta_mask_bin5_sub04_ses1_run1_window3.html\n",
      "Copied: /home/zkavian/thesis_code_git/Optim_fMRI/Optim_fMRI_new/Beta_mask_bin5_sub04_ses1_run2.html -> /mnt/TeamShare/Data_Masterfile/Zahra-Thesis-Data/Newfolder/Beta_mask_bin5_sub04_ses1_run2.html\n",
      "Copied: /home/zkavian/thesis_code_git/Optim_fMRI/Optim_fMRI_new/HF_Beta_mask_bin3_sub04_ses1_run1_window7.html -> /mnt/TeamShare/Data_Masterfile/Zahra-Thesis-Data/Newfolder/HF_Beta_mask_bin3_sub04_ses1_run1_window7.html\n",
      "Copied: /home/zkavian/thesis_code_git/Optim_fMRI/Optim_fMRI_new/Final_voxels_(without_nan_outlier)_sub04_ses1_run1_window3.html -> /mnt/TeamShare/Data_Masterfile/Zahra-Thesis-Data/Newfolder/Final_voxels_(without_nan_outlier)_sub04_ses1_run1_window3.html\n",
      "Copied: /home/zkavian/thesis_code_git/Optim_fMRI/Optim_fMRI_new/HF_Beta_mask_bin3_sub04_ses1_run2.html -> /mnt/TeamShare/Data_Masterfile/Zahra-Thesis-Data/Newfolder/HF_Beta_mask_bin3_sub04_ses1_run2.html\n",
      "Copied: /home/zkavian/thesis_code_git/Optim_fMRI/Optim_fMRI_new/HF_Beta_mask_bin4_sub04_ses1_run1.html -> /mnt/TeamShare/Data_Masterfile/Zahra-Thesis-Data/Newfolder/HF_Beta_mask_bin4_sub04_ses1_run1.html\n",
      "Copied: /home/zkavian/thesis_code_git/Optim_fMRI/Optim_fMRI_new/HF_Beta_mask_bin2_sub04_ses1_run2.html -> /mnt/TeamShare/Data_Masterfile/Zahra-Thesis-Data/Newfolder/HF_Beta_mask_bin2_sub04_ses1_run2.html\n",
      "Copied: /home/zkavian/thesis_code_git/Optim_fMRI/Optim_fMRI_new/Final_voxels_(without_nan_outlier)_sub04_ses1_run2_window3.html -> /mnt/TeamShare/Data_Masterfile/Zahra-Thesis-Data/Newfolder/Final_voxels_(without_nan_outlier)_sub04_ses1_run2_window3.html\n",
      "Copied: /home/zkavian/thesis_code_git/Optim_fMRI/Optim_fMRI_new/Beta_all_voxels_sub04_ses1_run2.html -> /mnt/TeamShare/Data_Masterfile/Zahra-Thesis-Data/Newfolder/Beta_all_voxels_sub04_ses1_run2.html\n",
      "Copied: /home/zkavian/thesis_code_git/Optim_fMRI/Optim_fMRI_new/Beta_mask_bin2_sub04_ses1_run2.html -> /mnt/TeamShare/Data_Masterfile/Zahra-Thesis-Data/Newfolder/Beta_mask_bin2_sub04_ses1_run2.html\n",
      "Copied: /home/zkavian/thesis_code_git/Optim_fMRI/Optim_fMRI_new/BOLD_data_on_Anat_sub04_ses1_run2.html -> /mnt/TeamShare/Data_Masterfile/Zahra-Thesis-Data/Newfolder/BOLD_data_on_Anat_sub04_ses1_run2.html\n",
      "Copied: /home/zkavian/thesis_code_git/Optim_fMRI/Optim_fMRI_new/HF_Beta_mask_bin3_sub04_ses1_run2_window5.html -> /mnt/TeamShare/Data_Masterfile/Zahra-Thesis-Data/Newfolder/HF_Beta_mask_bin3_sub04_ses1_run2_window5.html\n",
      "Copied: /home/zkavian/thesis_code_git/Optim_fMRI/Optim_fMRI_new/HF_Beta_mask_bin8_sub04_ses1_run2_window5.html -> /mnt/TeamShare/Data_Masterfile/Zahra-Thesis-Data/Newfolder/HF_Beta_mask_bin8_sub04_ses1_run2_window5.html\n",
      "Copied: /home/zkavian/thesis_code_git/Optim_fMRI/Optim_fMRI_new/HF_Beta_mask_bin2_sub04_ses1_run2_window7.html -> /mnt/TeamShare/Data_Masterfile/Zahra-Thesis-Data/Newfolder/HF_Beta_mask_bin2_sub04_ses1_run2_window7.html\n",
      "Copied: /home/zkavian/thesis_code_git/Optim_fMRI/Optim_fMRI_new/HF_Beta_mask_bin4_sub04_ses1_run1_window7.html -> /mnt/TeamShare/Data_Masterfile/Zahra-Thesis-Data/Newfolder/HF_Beta_mask_bin4_sub04_ses1_run1_window7.html\n",
      "Copied: /home/zkavian/thesis_code_git/Optim_fMRI/Optim_fMRI_new/Beta_abs_all_voxels_sub04_ses1_run2.html -> /mnt/TeamShare/Data_Masterfile/Zahra-Thesis-Data/Newfolder/Beta_abs_all_voxels_sub04_ses1_run2.html\n",
      "Copied: /home/zkavian/thesis_code_git/Optim_fMRI/Optim_fMRI_new/HF_Beta_mask_bin6_sub04_ses1_run2_window3.html -> /mnt/TeamShare/Data_Masterfile/Zahra-Thesis-Data/Newfolder/HF_Beta_mask_bin6_sub04_ses1_run2_window3.html\n",
      "Copied: /home/zkavian/thesis_code_git/Optim_fMRI/Optim_fMRI_new/Masked_BOLD_data_on_Anat_sub04_ses1_run1.html -> /mnt/TeamShare/Data_Masterfile/Zahra-Thesis-Data/Newfolder/Masked_BOLD_data_on_Anat_sub04_ses1_run1.html\n",
      "Copied: /home/zkavian/thesis_code_git/Optim_fMRI/Optim_fMRI_new/HF_Beta_mask_bin1_sub04_ses1_run2_window7.html -> /mnt/TeamShare/Data_Masterfile/Zahra-Thesis-Data/Newfolder/HF_Beta_mask_bin1_sub04_ses1_run2_window7.html\n"
     ]
    }
   ],
   "source": [
    "import os\n",
    "import shutil\n",
    "\n",
    "def copy_html_files(src_folder, dst_folder):\n",
    "    # Make sure the destination folder exists\n",
    "    os.makedirs(dst_folder, exist_ok=True)\n",
    "\n",
    "    # Walk through the source folder\n",
    "    for root, dirs, files in os.walk(src_folder):\n",
    "        for file in files:\n",
    "            if file.endswith(\".html\"):\n",
    "                src_path = os.path.join(root, file)\n",
    "                dst_path = os.path.join(dst_folder, file)\n",
    "\n",
    "                # Copy the file\n",
    "                shutil.copy2(src_path, dst_path)\n",
    "                print(f\"Copied: {src_path} -> {dst_path}\")\n",
    "\n",
    "# Example usage:\n",
    "src_folder = \"/home/zkavian/thesis_code_git/Optim_fMRI/Optim_fMRI_new\"   # Change this to your folder\n",
    "dst_folder = \"/mnt/TeamShare/Data_Masterfile/Zahra-Thesis-Data/Newfolder/\"  # Change this to where you want files saved\n",
    "\n",
    "copy_html_files(src_folder, dst_folder)\n"
   ]
  },
  {
   "cell_type": "code",
   "execution_count": null,
   "id": "20fa4fde",
   "metadata": {},
   "outputs": [],
   "source": []
  },
  {
   "cell_type": "code",
   "execution_count": null,
   "id": "fe9e21d9",
   "metadata": {},
   "outputs": [],
   "source": []
  }
 ],
 "metadata": {
  "kernelspec": {
   "display_name": ".venv",
   "language": "python",
   "name": "python3"
  },
  "language_info": {
   "codemirror_mode": {
    "name": "ipython",
    "version": 3
   },
   "file_extension": ".py",
   "mimetype": "text/x-python",
   "name": "python",
   "nbconvert_exporter": "python",
   "pygments_lexer": "ipython3",
   "version": "3.12.11"
  }
 },
 "nbformat": 4,
 "nbformat_minor": 5
}
